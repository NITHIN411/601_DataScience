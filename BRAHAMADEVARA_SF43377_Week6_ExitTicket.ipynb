{
 "cells": [
  {
   "cell_type": "code",
   "execution_count": 2,
   "metadata": {},
   "outputs": [
    {
     "ename": "ModuleNotFoundError",
     "evalue": "No module named 'numpy'",
     "output_type": "error",
     "traceback": [
      "\u001b[1;31m---------------------------------------------------------------------------\u001b[0m",
      "\u001b[1;31mModuleNotFoundError\u001b[0m                       Traceback (most recent call last)",
      "\u001b[1;32mc:\\Users\\Nithin Kumar\\Downloads\\BRAHAMADEVARA_SF43377_Week6_ExitTicket.ipynb Cell 1\u001b[0m line \u001b[0;36m1\n\u001b[1;32m----> <a href='vscode-notebook-cell:/c%3A/Users/Nithin%20Kumar/Downloads/BRAHAMADEVARA_SF43377_Week6_ExitTicket.ipynb#W0sZmlsZQ%3D%3D?line=0'>1</a>\u001b[0m \u001b[39mimport\u001b[39;00m \u001b[39mnumpy\u001b[39;00m \u001b[39mas\u001b[39;00m \u001b[39mnp\u001b[39;00m \n\u001b[0;32m      <a href='vscode-notebook-cell:/c%3A/Users/Nithin%20Kumar/Downloads/BRAHAMADEVARA_SF43377_Week6_ExitTicket.ipynb#W0sZmlsZQ%3D%3D?line=1'>2</a>\u001b[0m \u001b[39mimport\u001b[39;00m \u001b[39mscipy\u001b[39;00m\u001b[39m.\u001b[39;00m\u001b[39mstats\u001b[39;00m \u001b[39mas\u001b[39;00m \u001b[39mstats\u001b[39;00m \n\u001b[0;32m      <a href='vscode-notebook-cell:/c%3A/Users/Nithin%20Kumar/Downloads/BRAHAMADEVARA_SF43377_Week6_ExitTicket.ipynb#W0sZmlsZQ%3D%3D?line=2'>3</a>\u001b[0m \u001b[39mimport\u001b[39;00m \u001b[39mmatplotlib\u001b[39;00m\u001b[39m.\u001b[39;00m\u001b[39mpyplot\u001b[39;00m \u001b[39mas\u001b[39;00m \u001b[39mplt\u001b[39;00m \n",
      "\u001b[1;31mModuleNotFoundError\u001b[0m: No module named 'numpy'"
     ]
    }
   ],
   "source": [
    "import numpy as np \n",
    "import scipy.stats as stats \n",
    "import matplotlib.pyplot as plt \n",
    "# Define parameters \n",
    "population_mean = 100 # True population mean \n",
    "population_stddev = 15 # True population standard deviation \n",
    "sample_size = 30 # Sample size \n",
    "num_samples = 1000 # Number of samples\n",
    "\n",
    "# Generate random samples from the population \n",
    "np.random.seed(0) # Set a random seed for reproducibility \n",
    "samples = np.random.normal(population_mean, population_stddev, (num_samples, sample_size)) \n",
    "\n",
    "# Central Limit Theorem demonstration \n",
    "sample_means = np.mean(samples, axis=1) \n",
    "\n",
    "# Plot the histogram of sample means \n",
    "plt.hist(sample_means, bins=30, density=True, alpha=0.7, color='b', label='Sample Means') \n",
    "plt.title('Central Limit Theorem Demonstration') \n",
    "plt.xlabel('Sample Mean') \n",
    "plt.ylabel('Frequency') \n",
    "plt.axvline(population_mean, color='r', linestyle='dashed', linewidth=2, label='Population Mean') \n",
    "plt.legend() \n",
    "plt.show() \n",
    "\n",
    "# Calculate the p-value for a one-sample t-test \n",
    "sample = np.random.normal(110, 15, 30) # Sample data \n",
    "t_stat, p_value = stats.ttest_1samp(sample, population_mean)\n",
    "print(f'P-value for one-sample t-test: {p_value}')\n",
    "\n",
    "\n",
    "# Perform a Chi-Square Test for independence\n",
    "observed = np.array([[30, 10], [20, 40]])  # Contingency table\n",
    "chi2, p_chi2, _, _ = stats.chi2_contingency(observed)\n",
    "print(f\"P-value for Chi-Square Test: {p_chi2}\")\n",
    "\n",
    "# Generate random data for correlation analysis\n",
    "x = np.random.rand(100)\n",
    "y = 2 * x + np.random.randn(100)\n",
    "\n",
    "# Calculate Pearson correlation coefficient\n",
    "corr_coefficient, p_corr = stats.pearsonr(x, y)\n",
    "print(f\"Pearson Correlation Coefficient: {corr_coefficient}\")\n",
    "print(f\"P-value for correlation analysis: {p_corr}\")\n"
   ]
  },
  {
   "cell_type": "markdown",
   "metadata": {},
   "source": [
    "---Today -- focus - refreshing stat, probability, linear algebra in related the DS and ML applications\n",
    "\n",
    "-- create github account and push the projects.\n",
    "\n",
    "--Introduction to numpy --designed to mathematical opeartion - solving systemect of equation-- optimization, inversion, matrix multiplication\n",
    "\n",
    "--optimization - static opt, dynamic, time series models\n",
    "\n",
    "--pandas -designed for data manipulation - data analysis  or exploratory analysis\n",
    "\n",
    "--you willd do EDA project(1)\n",
    "\n",
    "--Basic ML framework (linear regression, LGISTIC regression, both conceptual and end to end solution)\n",
    "\n",
    "\n",
    "\n",
    "\n",
    "\n",
    "-- Next week - quiz test (list comprehension, OOP, python exception handling, Read and write file)--------15% (overview of python programming skill)\n",
    "\n",
    "--if cleared the remaining are conceptional and data analysis work\n",
    "\n",
    "--basic python and intermedite python programming skills\n",
    "(variable define, data types, OOP, exception handling, review python string manipulation)\n",
    "\n",
    "--git hub profile screenshot."
   ]
  },
  {
   "cell_type": "markdown",
   "metadata": {},
   "source": [
    "### P-value\n",
    "\n",
    "P-value the probability value ---is statstical measure used in hypothesis the strength of evidence against a null hyphothesis testing.\n",
    "\n",
    "- It quantifies the likelihood of observing the test results (or something extreme) if null hypothesis is true.\n",
    "\n",
    "- Null hypthesis\n",
    "\n",
    "- Alternative Hypothesis\n",
    "- Data collection\n",
    "- T-satstics\n",
    "- Interpretation\n",
    "\n",
    "The smaller the p-value, the stronger your experiement (reject null hypo)\n",
    "\n",
    "The larger the p-value, the weeker your experiement (accept null hypo)\n",
    "\n",
    "P-vaue will be more apllied in not really in predictive models -- More applied in experimental data scientist\n",
    "\n",
    "evluating the new web design (total sales after new design)\n",
    "\n",
    "evaluating ML integration in the existing system -- casual data scientists --A/B testing -one branch of data science- comparative analysis\\\n",
    "\n",
    "\n",
    "what would be my profit if there change in mrketing strategy fromm offsite to online --i use social media?\n",
    "\n",
    "What would be my total sale if I give a discount of 0.1% for rach pepsico product.\n",
    "\n"
   ]
  },
  {
   "cell_type": "markdown",
   "metadata": {},
   "source": [
    "## central limit theoram it is the concept that a sample distribution will be approch to normal as we increase our sample from small to larger."
   ]
  },
  {
   "cell_type": "markdown",
   "metadata": {},
   "source": [
    "normal distributuion center (mean == median == mode) standardized the normal distribution (99% of the data will fall within 1 unit of the stdv)"
   ]
  },
  {
   "cell_type": "markdown",
   "metadata": {},
   "source": [
    "## what is the difference between the law of large number and central limit theoram?\n",
    "\n",
    "- In CLT the mean is normally distributed and in LLN the sample mean is equals to population mean."
   ]
  },
  {
   "cell_type": "markdown",
   "metadata": {},
   "source": [
    "1. Description.\n",
    "2. Inferentail stat.\n",
    "3. probability - binomial, normal, uniform, exponential, possion.\n",
    "4. sampling techniques.\n",
    "5. Bayesian stat.\n",
    "6. time series analysis.\n",
    "7. resampling techniques.\n",
    "8. data visualization (bar, scatter, box, line, 2D, 3D plots) -insights how you can build well as intermediate insights.\n",
    "9. how you can be able to communicate your statstical reports."
   ]
  },
  {
   "cell_type": "markdown",
   "metadata": {},
   "source": [
    "1. Explain central limit theorem and its signficance for data science"
   ]
  },
  {
   "cell_type": "markdown",
   "metadata": {},
   "source": []
  },
  {
   "cell_type": "markdown",
   "metadata": {},
   "source": [
    "2. Explain the concept of p-value and how it is used for hypothesis testing"
   ]
  },
  {
   "cell_type": "markdown",
   "metadata": {},
   "source": []
  },
  {
   "cell_type": "markdown",
   "metadata": {},
   "source": [
    "3. what is the signficance of understaning probability distribustion in data science? provide examples of probability distribution commonly known in data analysis?"
   ]
  },
  {
   "cell_type": "markdown",
   "metadata": {},
   "source": []
  },
  {
   "cell_type": "markdown",
   "metadata": {},
   "source": [
    "4. what is the difference b/w inferentail stat and Bayesian stat?"
   ]
  }
 ],
 "metadata": {
  "kernelspec": {
   "display_name": "Python 3",
   "language": "python",
   "name": "python3"
  },
  "language_info": {
   "codemirror_mode": {
    "name": "ipython",
    "version": 3
   },
   "file_extension": ".py",
   "mimetype": "text/x-python",
   "name": "python",
   "nbconvert_exporter": "python",
   "pygments_lexer": "ipython3",
   "version": "3.11.5"
  }
 },
 "nbformat": 4,
 "nbformat_minor": 2
}
