{
 "cells": [
  {
   "cell_type": "markdown",
   "id": "66cd1871",
   "metadata": {},
   "source": [
    "## I) **Lists and Tuples:** ##"
   ]
  },
  {
   "cell_type": "markdown",
   "id": "037d8678",
   "metadata": {},
   "source": [
    "\n",
    "\n",
    "1. Create a list of lists, each representing a 2D point with x and y coordinates. Calculate the Euclidean distance of each point from the origin (0,0).\n",
    "\n",
    "   "
   ]
  },
  {
   "cell_type": "code",
   "execution_count": 9,
   "id": "d2bafa1a",
   "metadata": {},
   "outputs": [
    {
     "name": "stdout",
     "output_type": "stream",
     "text": [
      "[2.23606797749979, 5.0, 7.810249675906654]\n"
     ]
    }
   ],
   "source": [
    "\n",
    "   import math\n",
    "\n",
    "   points = [[1, 2], [3, 4], [5, 6]]\n",
    "   distances = [math.sqrt(point[0]**2+point[1]**2) for point in points]\n",
    "print(distances)"
   ]
  },
  {
   "cell_type": "markdown",
   "id": "067ff3f3",
   "metadata": {},
   "source": [
    "2. Implement a function that takes a list of numbers and returns a new list with the numbers squared, but only if they are even.\n",
    "\n"
   ]
  },
  {
   "cell_type": "code",
   "execution_count": 18,
   "id": "ef8ad754",
   "metadata": {},
   "outputs": [
    {
     "name": "stdout",
     "output_type": "stream",
     "text": [
      "[4, 16]\n"
     ]
    }
   ],
   "source": [
    "def square_even_numbers(numbers):\n",
    "     square_even_numbers=[] #empty list\n",
    "     for i in numbers:\n",
    "          if i%2==0:\n",
    "            square_even_numbers.append(i**2)\n",
    "\n",
    "     return  square_even_numbers\n",
    "numbers = [1, 2, 3, 4, 5]\n",
    "result = square_even_numbers(numbers)\n",
    "print(result)\n"
   ]
  },
  {
   "cell_type": "markdown",
   "id": "114d83d4",
   "metadata": {},
   "source": [
    "3. Given a list of tuples containing student names and their corresponding scores, sort the list by scores in descending order.\n",
    "\n"
   ]
  },
  {
   "cell_type": "code",
   "execution_count": 10,
   "id": "a2da1c12",
   "metadata": {},
   "outputs": [
    {
     "name": "stdout",
     "output_type": "stream",
     "text": [
      "[('Bob', 92), ('Alice', 85), ('Charlie', 78)]\n"
     ]
    }
   ],
   "source": [
    "student_scores = [('Alice', 85), ('Bob', 92), ('Charlie', 78)]\n",
    "sorted_scores = sorted(student_scores, key=lambda x: x[1], reverse=True)\n",
    "print(sorted_scores)"
   ]
  },
  {
   "cell_type": "code",
   "execution_count": null,
   "id": "c5f7152f",
   "metadata": {},
   "outputs": [],
   "source": []
  },
  {
   "cell_type": "markdown",
   "id": "5da47486",
   "metadata": {},
   "source": [
    "## II) Dictionary "
   ]
  },
  {
   "cell_type": "markdown",
   "id": "4fbb872b",
   "metadata": {},
   "source": [
    "4. Given two dictionaries, merge them into a new dictionary, and if there are common keys, combine their values into a list."
   ]
  },
  {
   "cell_type": "code",
   "execution_count": null,
   "id": "2452e393",
   "metadata": {},
   "outputs": [],
   "source": [
    "def word_frequencies(text):\n",
    "    words = text.split()\n",
    "    frequency_dict = {}\n",
    "    for word in words:\n",
    "        word = ------\n",
    "        if word.isalpha():\n",
    "            frequency_dict[word] = -----\n",
    "    return frequency_dict\n"
   ]
  },
  {
   "cell_type": "markdown",
   "id": "15366818",
   "metadata": {},
   "source": [
    "5. Create a dictionary where keys represent months (e.g., 'January') and values represent the number of days in each month. Calculate the total number of days in a year."
   ]
  },
  {
   "cell_type": "code",
   "execution_count": 4,
   "id": "433d420a",
   "metadata": {},
   "outputs": [
    {
     "name": "stdout",
     "output_type": "stream",
     "text": [
      "total-days: 365\n"
     ]
    }
   ],
   "source": [
    "months = {'January': 31, 'February': 28, 'March': 31,'April': 30,'May': 31,'June': 30,'July': 31,'August': 31,'September': 30,'October': 31,'November': 30,'December': 31}\n",
    "total_days = sum(months.values())\n",
    "print('total-days:',total_days)\n"
   ]
  },
  {
   "cell_type": "code",
   "execution_count": null,
   "id": "fe924e74",
   "metadata": {},
   "outputs": [],
   "source": []
  },
  {
   "cell_type": "markdown",
   "id": "294b514a",
   "metadata": {},
   "source": [
    "6. Implement a function that takes a list of dictionaries representing people's information and returns the person with the highest salary."
   ]
  },
  {
   "cell_type": "code",
   "execution_count": null,
   "id": "6a462c2e",
   "metadata": {},
   "outputs": [],
   "source": [
    "def highest_salary(people):\n",
    "    a=0\n",
    "    b=\n",
    "    for i in people:\n",
    "        if a<people[i]:\n",
    "            a=people\n",
    "    return ------------\n"
   ]
  },
  {
   "cell_type": "markdown",
   "id": "442861f0",
   "metadata": {},
   "source": [
    "## III)  List Comprehension\n",
    "\n"
   ]
  },
  {
   "cell_type": "markdown",
   "id": "a0cf508f",
   "metadata": {},
   "source": [
    "7. Generate a list of prime numbers between 1 and 100 using list comprehension."
   ]
  },
  {
   "cell_type": "code",
   "execution_count": 20,
   "id": "a1eee37c",
   "metadata": {},
   "outputs": [
    {
     "name": "stdout",
     "output_type": "stream",
     "text": [
      "[2, 3, 5, 7, 11, 13, 17, 19, 23, 29, 31, 37, 41, 43, 47, 53, 59, 61, 67, 71, 73, 79, 83, 89, 97]\n"
     ]
    }
   ],
   "source": [
    "def is_prime(num):\n",
    "    if num <= 1:\n",
    "        return False\n",
    "    for i in range(2,int(num**0.5)+1):\n",
    "        if num%i==0:\n",
    "            return False\n",
    "    return True\n",
    "\n",
    "primes = [x for x in range(2, 101) if is_prime(x)]\n",
    "print(primes)\n"
   ]
  },
  {
   "cell_type": "markdown",
   "id": "2e9eddb2",
   "metadata": {},
   "source": [
    "8. Create a list of all possible combinations of two elements from a given list."
   ]
  },
  {
   "cell_type": "code",
   "execution_count": 8,
   "id": "56e793dd",
   "metadata": {},
   "outputs": [
    {
     "name": "stdout",
     "output_type": "stream",
     "text": [
      "[(1, 2), (1, 3), (1, 4), (2, 1), (2, 3), (2, 4), (3, 1), (3, 2), (3, 4), (4, 1), (4, 2), (4, 3)]\n"
     ]
    }
   ],
   "source": [
    "my_list = [1, 2, 3, 4]\n",
    "combinations = [(i, j) for i in my_list for j in my_list if i != j]\n",
    "print(combinations)\n"
   ]
  },
  {
   "cell_type": "markdown",
   "id": "bec4822f",
   "metadata": {},
   "source": [
    "9. Using list comprehension, extract all prime numbers from a list of integers."
   ]
  },
  {
   "cell_type": "code",
   "execution_count": null,
   "id": "29861e5f",
   "metadata": {},
   "outputs": [],
   "source": [
    "numbers = [2, 3, 4, 5, 6, 7, 8, 9, 10]\n",
    "com=[]\n",
    "for i in range(len(num)):\n",
    "primes = [--------------------]\n"
   ]
  },
  {
   "cell_type": "code",
   "execution_count": null,
   "id": "5d65844f",
   "metadata": {},
   "outputs": [],
   "source": []
  },
  {
   "cell_type": "markdown",
   "id": "6719b762",
   "metadata": {},
   "source": [
    "## IV) Conditionals"
   ]
  },
  {
   "cell_type": "markdown",
   "id": "2269a3e1",
   "metadata": {},
   "source": [
    "10. Implement a program that plays the game \"FizzBuzz\" for numbers from 1 to 100, but for multiples of 3, print 'Fizz,' for multiples of 5, print 'Buzz,' and for multiples of both 3 and 5, print 'FizzBuzz.'"
   ]
  },
  {
   "cell_type": "code",
   "execution_count": 12,
   "id": "863e5341",
   "metadata": {},
   "outputs": [
    {
     "name": "stdout",
     "output_type": "stream",
     "text": [
      "1\n",
      "2\n",
      "Fizz\n",
      "4\n",
      "Buzz\n",
      "Fizz\n",
      "7\n",
      "8\n",
      "Fizz\n",
      "Buzz\n",
      "11\n",
      "Fizz\n",
      "13\n",
      "14\n",
      "FizzBuzz\n",
      "16\n",
      "17\n",
      "Fizz\n",
      "19\n",
      "Buzz\n",
      "Fizz\n",
      "22\n",
      "23\n",
      "Fizz\n",
      "Buzz\n",
      "26\n",
      "Fizz\n",
      "28\n",
      "29\n",
      "FizzBuzz\n",
      "31\n",
      "32\n",
      "Fizz\n",
      "34\n",
      "Buzz\n",
      "Fizz\n",
      "37\n",
      "38\n",
      "Fizz\n",
      "Buzz\n",
      "41\n",
      "Fizz\n",
      "43\n",
      "44\n",
      "FizzBuzz\n",
      "46\n",
      "47\n",
      "Fizz\n",
      "49\n",
      "Buzz\n",
      "Fizz\n",
      "52\n",
      "53\n",
      "Fizz\n",
      "Buzz\n",
      "56\n",
      "Fizz\n",
      "58\n",
      "59\n",
      "FizzBuzz\n",
      "61\n",
      "62\n",
      "Fizz\n",
      "64\n",
      "Buzz\n",
      "Fizz\n",
      "67\n",
      "68\n",
      "Fizz\n",
      "Buzz\n",
      "71\n",
      "Fizz\n",
      "73\n",
      "74\n",
      "FizzBuzz\n",
      "76\n",
      "77\n",
      "Fizz\n",
      "79\n",
      "Buzz\n",
      "Fizz\n",
      "82\n",
      "83\n",
      "Fizz\n",
      "Buzz\n",
      "86\n",
      "Fizz\n",
      "88\n",
      "89\n",
      "FizzBuzz\n",
      "91\n",
      "92\n",
      "Fizz\n",
      "94\n",
      "Buzz\n",
      "Fizz\n",
      "97\n",
      "98\n",
      "Fizz\n",
      "Buzz\n"
     ]
    }
   ],
   "source": [
    "for i in range(1, 101):\n",
    "    if i % 3 == 0 and i % 5 == 0:\n",
    "        print('FizzBuzz')\n",
    "    elif i%3==0:\n",
    "        print('Fizz')\n",
    "    elif i%5==0:\n",
    "        print('Buzz')\n",
    "    else:\n",
    "        print(i)\n"
   ]
  },
  {
   "cell_type": "markdown",
   "id": "38fce2fd",
   "metadata": {},
   "source": [
    "## V) Loop"
   ]
  },
  {
   "cell_type": "markdown",
   "id": "725be7e9",
   "metadata": {},
   "source": [
    "11. Write a function that simulates rolling two dice until the sum of the dice is a specified value, and return the number of rolls required."
   ]
  },
  {
   "cell_type": "code",
   "execution_count": null,
   "id": "52cd7f07",
   "metadata": {},
   "outputs": [],
   "source": [
    "import random\n",
    "\n",
    "def roll_dice_until_sum(target_sum):\n",
    "    rolls = 0\n",
    "    while True:\n",
    "        \n",
    "        if dice1 + dice2 == target_sum:\n",
    "            return rolls\n"
   ]
  },
  {
   "cell_type": "markdown",
   "id": "4c429328",
   "metadata": {},
   "source": [
    "12. Implement a function that prints all the prime numbers between 1 and 1000 using the Sieve of Eratosthenes algorithm."
   ]
  },
  {
   "cell_type": "code",
   "execution_count": null,
   "id": "c4096fb9",
   "metadata": {},
   "outputs": [],
   "source": [
    "def sieve_of_eratosthenes(n):\n",
    "    primes = [True] * (n + 1)\n",
    "    primes[0] = primes[1] = False\n",
    "    p = 2\n",
    "    while p**2 <= n:\n",
    "        ------\n",
    "    return prime_numbers\n"
   ]
  },
  {
   "cell_type": "markdown",
   "id": "93d9b729",
   "metadata": {},
   "source": [
    "## VI) OOP"
   ]
  },
  {
   "cell_type": "markdown",
   "id": "1a661ee4",
   "metadata": {},
   "source": [
    "13. Define a class 'BankAccount' with methods for deposit, withdrawal, and checking the balance. Include exception handling for insufficient funds during withdrawal."
   ]
  },
  {
   "cell_type": "code",
   "execution_count": null,
   "id": "4e0809d2",
   "metadata": {},
   "outputs": [],
   "source": [
    "class BankAccount:\n",
    "    def __init__(self, balance=0):\n",
    "        self.balance = balance\n",
    "\n",
    "    def \n",
    "\n",
    "    def \n",
    "\n",
    "    def check_balance(self):\n",
    "        return self.balance\n"
   ]
  },
  {
   "cell_type": "markdown",
   "id": "15816f5b",
   "metadata": {},
   "source": [
    "## VII) Exception Handling"
   ]
  },
  {
   "cell_type": "markdown",
   "id": "dfd83d37",
   "metadata": {},
   "source": [
    "14. Write a function that takes two integers as input and returns their division result. Handle potential exceptions like ZeroDivisionError and ValueError."
   ]
  },
  {
   "cell_type": "code",
   "execution_count": 14,
   "id": "3c91ca2f",
   "metadata": {},
   "outputs": [
    {
     "name": "stdout",
     "output_type": "stream",
     "text": [
      "1.5\n"
     ]
    }
   ],
   "source": [
    "def divide_numbers(a, b):\n",
    "    try:\n",
    "        result = a / b\n",
    "        return result\n",
    "    except ZeroDivisionError:\n",
    "        return \"Division by the Zero is not possible.\"\n",
    "    except ValueError:\n",
    "        return \"Invalid input, please provide two integers.\"\n",
    "a=9\n",
    "b=6\n",
    "result=divide_numbers(a,b)\n",
    "print(result)\n"
   ]
  },
  {
   "cell_type": "markdown",
   "id": "cd2508b6",
   "metadata": {},
   "source": [
    "15. Implement a program that reads a file line by line and counts the number of lines, words, and characters. Handle potential file-related exceptions."
   ]
  },
  {
   "cell_type": "code",
   "execution_count": null,
   "id": "16759b04",
   "metadata": {},
   "outputs": [],
   "source": [
    "def count_file_stats(filename):\n",
    "    try:\n",
    "        with open(filename, 'r') as file:\n",
    "            lines = file.readlines()\n",
    "            line_count = len(---)\n",
    "            word_count = sum(len(line.split()) for line in lines)\n",
    "            char_count = sum(len(line) for line in lines)\n",
    "            return ----, -----, ----\n",
    "    except FileNotFoundError:\n",
    "        return \"File not found.\"\n",
    "    except Exception as e:\n",
    "        return f\"An error occurred: {str(e)}\"\n"
   ]
  },
  {
   "cell_type": "markdown",
   "id": "85d678f8",
   "metadata": {},
   "source": [
    "# VIII) File I/O"
   ]
  },
  {
   "cell_type": "markdown",
   "id": "c9ddb2ac",
   "metadata": {},
   "source": [
    "16. Write a Python program that reads a CSV file containing student grades and calculates the average grade for each student, then writes the results to a new CSV file."
   ]
  },
  {
   "cell_type": "code",
   "execution_count": null,
   "id": "41b45593",
   "metadata": {},
   "outputs": [],
   "source": [
    "import csv\n",
    "\n",
    "def calculate_average_grades(input_file, output_file):\n",
    "    try:\n",
    "        with open(input_file, 'r') as infile, open(output_file, 'w', newline='') as outfile:\n",
    "            reader = csv.reader(----)\n",
    "            writer = csv.writer(-----)\n",
    "            header = next(reader)  # Read and write the header\n",
    "            writer.writerow(header + ['Average'])  # Add 'Average' column to header\n",
    "            for row in reader:\n",
    "                student = row[0]\n",
    "                grades = [float(grade) for grade in row[1:]]\n",
    "                average = sum(grades) / len(grades)\n",
    "                writer.writerow(row + [average])  # Write the row with the calculated average\n",
    "    except FileNotFoundError:\n",
    "        return \"File not found.\"\n",
    "    except Exception as e:\n",
    "        return f\"An error occurred: {str(e)}\"\n",
    "\n",
    "\n"
   ]
  },
  {
   "cell_type": "code",
   "execution_count": null,
   "id": "9cdc3124",
   "metadata": {},
   "outputs": [],
   "source": []
  }
 ],
 "metadata": {
  "kernelspec": {
   "display_name": "Python 3 (ipykernel)",
   "language": "python",
   "name": "python3"
  },
  "language_info": {
   "codemirror_mode": {
    "name": "ipython",
    "version": 3
   },
   "file_extension": ".py",
   "mimetype": "text/x-python",
   "name": "python",
   "nbconvert_exporter": "python",
   "pygments_lexer": "ipython3",
   "version": "3.11.5"
  }
 },
 "nbformat": 4,
 "nbformat_minor": 5
}
