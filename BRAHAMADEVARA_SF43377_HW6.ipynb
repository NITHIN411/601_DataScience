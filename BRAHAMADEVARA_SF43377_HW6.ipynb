{
 "cells": [
  {
   "cell_type": "markdown",
   "id": "e8d212f1",
   "metadata": {},
   "source": [
    "### Q1: Explain the central limit theorem and give examples of when you can use it in a real-world problem. ###"
   ]
  },
  {
   "cell_type": "markdown",
   "id": "38ae1b0f",
   "metadata": {},
   "source": [
    "Central limit theorem is defined as the sample distribution will be approch to normal as we increase and will be approxly equal to the normal distribution.\n",
    "Some examples of Central limit theorem which is used in the real-world problem:\n",
    "\n",
    "1)Elections:The CLT is essential for preparing for elections and using opinion polls. The CLT helps pollsters to estimate the population's preferences for voting through sampling a smaller sample of people.\n",
    "\n",
    "2)Market Reasearch:In market research, the CLT is used to calculate population parameters using sample data. For instance, researchers can use the CLT to estimate the  percentage of a population while conducting surveys and also polls.\n"
   ]
  },
  {
   "cell_type": "markdown",
   "id": "4c888f65",
   "metadata": {},
   "source": [
    "### Q2: Briefly explain the A/B testing and its application? What are some common pitfalls encountered in A/B testing? ###"
   ]
  },
  {
   "cell_type": "markdown",
   "id": "ee184020",
   "metadata": {},
   "source": [
    "The A/B testing is mainly used in Web development and also in the marketing as it is mainly used for the comparison that which will perform the best The main aim is to optimise a product or process by generating data-driven decisions. \n",
    "\n",
    "Time Duration:Accurate outcomes may occur from tests which have been run for too little or a lot of time. Results could be affected by seasonal variations or changing user behaviour.\n",
    "\n",
    "Optimization:Constantly adjusting based on the outcomes of A/B tests can result in over-optimization, which may not be helpful in the long run."
   ]
  },
  {
   "cell_type": "markdown",
   "id": "a230ebe1",
   "metadata": {},
   "source": [
    "### Q3: Describe briefly the hypothesis testing and p-value in layman’s term? And give a practical application for them ?"
   ]
  },
  {
   "cell_type": "markdown",
   "id": "10a27915",
   "metadata": {},
   "source": [
    "Using sample data, the hypothesis testing is done were it determines whether a claim is probable. The test provides proof that the hypothesis is reasonable on the basis of the available data. \n",
    "\n",
    "Application for hypothesis testing: In the case of Educational institutions evaluating whether a new education or instructional method affects student performance.Then improve the student outcome\n",
    "\n",
    "P-value in layman's term:\n",
    "\n",
    "were the p which denotes the probability as it is  used in hypothesis the strength of evidence against a null hyphothesis testing.If the p- value is lower then it undergoes the rejects the null hypothesis were If the p- value is higher then it undergoes the accept the null hypothesis.\n",
    "\n",
    "Application for the p-value: Continuous monitoring of patient data in the critical care units can include real-time statistical analysis. P-values, for example, can be computed to find unexpected changes in symptoms or lab results, So that the doctors can take care easily so that the patient can be safe.\n",
    "\n"
   ]
  },
  {
   "cell_type": "markdown",
   "id": "8867eea6",
   "metadata": {},
   "source": [
    "### Q4: Given a left-skewed distribution that has a median of 60, what conclusions can we draw about the mean and the mode of the data? ###"
   ]
  },
  {
   "cell_type": "markdown",
   "id": "8b218176",
   "metadata": {},
   "source": [
    "In the left-skewed distribution given that the median is 60 then usually in the left-skewed distribution the mean will usually it will be less than 60 due to the lower values but the mode will be more than 60 because the distribution peak slightly goes to the right side."
   ]
  },
  {
   "cell_type": "markdown",
   "id": "194b9db4",
   "metadata": {},
   "source": [
    "### Q5: What is the meaning of selection bias and how to avoid it? ###"
   ]
  },
  {
   "cell_type": "markdown",
   "id": "18f5504d",
   "metadata": {},
   "source": [
    "Selection bias is nothing but other than what occurs when you carefully or accidentally focus on some people or things while overlooking others. Considering just a little of the situation can result in decisions which are incorrect.\n",
    "\n",
    "1) By using the random sampling the selection bias can be eliminated.\n",
    "\n",
    "2) In  the research articles, keep the sample features visible and clearly describe the participant process of selection. This allows readers to analyse any potential biases.\n",
    "\n"
   ]
  },
  {
   "cell_type": "markdown",
   "id": "a6bd9dc7",
   "metadata": {},
   "source": [
    "### Q6: Explain the long-tailed distribution and provide three examples of relevant phenomena that have long tails. Why are they important in classification and regression problems? ###"
   ]
  },
  {
   "cell_type": "markdown",
   "id": "c47e66e1",
   "metadata": {},
   "source": [
    "The probability distribution of more rare or extreme events than in the usual distribution of events is known as the long-tailed distribution. In comparison to the chance of observing values in the core region, the probability of observing values in the tail is significantly lower.\n",
    "\n",
    "Examples of relevant phenomena which have the long tails:\n",
    "\n",
    "1)Products are frequently sold in stores with a long-tailed distribution. Most of the sales are generated by a small number of products, including bestsellers, while a big number of other things sell for less money.\n",
    "\n",
    "2)There is a long-tailed distribution to the distribution of product reviews on e-commerce sites like Flipkart and myntra. Many products only have a few reviews, but popular products get thousands.\n"
   ]
  },
  {
   "cell_type": "markdown",
   "id": "9f279b21",
   "metadata": {},
   "source": [
    "### Q7: What is the meaning of KPI in statistics ###"
   ]
  },
  {
   "cell_type": "markdown",
   "id": "12b76f80",
   "metadata": {},
   "source": [
    "KPI means key performance indicator.Key performance indicator which is used for the calculation, performance and efficiency. KPIs are used to measure and evaluate a project's success."
   ]
  },
  {
   "cell_type": "markdown",
   "id": "ed254d94",
   "metadata": {},
   "source": [
    "### Q8: Say you flip a coin 10 times and observe only one head. What would be the null hypothesis and p-value for testing whether the coin is fair or not? ###"
   ]
  },
  {
   "cell_type": "markdown",
   "id": "0f72c569",
   "metadata": {},
   "source": [
    "A coin is fliped 10 times and observed the only one head then the\n",
    "\n",
    "Null hypothesis:\n",
    "\n",
    "a) The coin is fair.\n",
    "\n",
    "b) Probability in the given situation is 1/2.\n",
    "\n",
    "p-value:\n",
    "\n",
    "a)The coin is not a fair coin.\n",
    "\n",
    "b)As the probability is not equal to 0.5 because as we have seen only one head in a 10 flip coin.So, the probability is not equal to 0.5."
   ]
  },
  {
   "cell_type": "markdown",
   "id": "a47139a3",
   "metadata": {},
   "source": [
    "### Q9: You are testing hundreds of hypotheses, each with a t-test. What considerations would you take into account when doing this? ###"
   ]
  },
  {
   "cell_type": "markdown",
   "id": "800afe91",
   "metadata": {},
   "source": [
    "Considerations that could be taken into account when testing hundred of hypotheses, with each of a t-test are:\n",
    "\n",
    "a) Sample size:size of the sample will be known were which refers to the total number of observations.\n",
    "\n",
    "b) Alpha level:In order to make sure that only results that are highly significant are accepted in the setting of multiple tests, they decide on using a more strict alpha limit, such as 0.01.\n",
    "\n",
    "c) Priority:Based on the potential customer base and the extent of the medical problem, the business prioritises specific tests.\n",
    "\n",
    "d) Data messing :They pre-register their analysis plans, specifying which tests they are going to perform as well as how they are going to be adjusted for multiple comparisons, in order to avoid data messing."
   ]
  },
  {
   "cell_type": "markdown",
   "id": "6f0dad6f",
   "metadata": {},
   "source": [
    "### Q10: What general conditions must be satisfied for the central limit theorem to hold? ###"
   ]
  },
  {
   "cell_type": "markdown",
   "id": "fc98ca76",
   "metadata": {},
   "source": [
    "The following conditions that must be satisfied for the central limit theorem \n",
    "\n",
    "a) The sample should be chosen at random .\n",
    "\n",
    "b) The sample size shouldn't exceed 10% of the population when it is drawn by replacement.\n",
    "\n",
    "c) Samples should be independent.\n",
    "\n",
    "d) The sample size should be large."
   ]
  },
  {
   "cell_type": "markdown",
   "id": "f93e1565",
   "metadata": {},
   "source": [
    "### Q11: What is skewness discuss two methods to measure it? ###"
   ]
  },
  {
   "cell_type": "markdown",
   "id": "c20216fb",
   "metadata": {},
   "source": [
    "Skewness is defined as statistic for the asymmetry or distortion of symmetrical distribution in a data collection. Asymmetrical distribution is nothing but when the left and right sides are not mirror images. \n",
    "\n",
    "The two methods to measure the skewness:\n",
    "\n",
    "a) Pearson mode skewness:When the sample data indicate a strong mode, the Pearson mode skewness is used.\n",
    "\n",
    "b) Pearson median skewness:if the data has the more than 1 mode then the Pearson median skewness is used."
   ]
  },
  {
   "cell_type": "markdown",
   "id": "f6684eb8",
   "metadata": {},
   "source": [
    "\n",
    "### Q13: Discuss the Chi-square, ANOVA, and t-test ###"
   ]
  },
  {
   "cell_type": "markdown",
   "id": "ada7f41b",
   "metadata": {},
   "source": [
    "Chi-Square:Chi-Square is the testing the independance of the variable.chi-square test is a statistical test used to compare observed results with expected results.The main purpose of the chi-square test is to observe the difference between observed data and expected data.\n",
    "\n",
    "ANOVA:ANOVA means Analysis of variance. ANOVA is used to compare the means of three or more groups or  see whether there are differences that are statistically significant.\n",
    "\n",
    "There are two types of ANOVA:\n",
    "\n",
    "a) one-way ANOVA \n",
    "\n",
    "b) Two-way ANOVA\n",
    "\n",
    "t-test:A t test is defined as that is used to compare the means of two groups.It is often used in hypothesis testing to establish whether a procedure or treatment really impacts the population of interest or whether two groups differ from one another."
   ]
  },
  {
   "cell_type": "markdown",
   "id": "bebacfbd",
   "metadata": {},
   "source": [
    "### Q16: What is the Law of Large Numbers in statistics and how it can be used in data science ? ###"
   ]
  },
  {
   "cell_type": "markdown",
   "id": "33e41729",
   "metadata": {},
   "source": [
    "Law of Large Numbers in statistics is defined as if you repeat an experiment independently a large number of times then do the average of the result which you got ten we get the result which is approximately equal to expected value.\n",
    "\n",
    "As Law of Large Numbers is used in data science \n",
    "\n",
    "a) Machine learning\n",
    "\n",
    "b) statistical mechanics\n",
    "\n",
    "c) Random Sampling "
   ]
  },
  {
   "cell_type": "markdown",
   "id": "09c1032d",
   "metadata": {},
   "source": [
    "### Q17: What is the difference between a confidence interval and a prediction interval, and how do you calculate them? ###"
   ]
  },
  {
   "cell_type": "markdown",
   "id": "1978c0c1",
   "metadata": {},
   "source": [
    "Confidence interval :Confidence interval is a set of values that have been reduced down to a point where there is a specific the probability that the value of a parameter fits within it.\n",
    "\n",
    "Confidence interval = x̄ ± Z * (σ / √n)\n",
    "\n",
    "x-mean\n",
    "\n",
    "n-sample size\n",
    "\n",
    "σ- standard deviation\n",
    "\n",
    "\n",
    "prediction interval :A prediction interval is a range of values that, given particular conditions for the predictors, is likely to contain a number of a single new observation.\n",
    "\n",
    "prediction interval= ŷ ± t * s * √(1 + 1/n + (x - x̄)² / Σ(xi - x̄)²)\n",
    "\n",
    "ŷ = predicted value\n",
    "\n",
    "n-sample size\n",
    "\n",
    "s- estimated standard deviation\n",
    "\n",
    "x- mean\n",
    "\n",
    "\n",
    "Difference between a confidence interval and a prediction interval is:\n",
    "\n",
    "a) An individual number is predicted by a prediction interval, but the mean value is predicted by a confidence interval.\n",
    "\n",
    "b) A confidence interval is more certain than a prediction interval.\n",
    "\n",
    "c) The range of values in a prediction interval is larger than that in a confidence interval.\n"
   ]
  },
  {
   "cell_type": "markdown",
   "id": "65adf83d",
   "metadata": {},
   "source": []
  }
 ],
 "metadata": {
  "kernelspec": {
   "display_name": "Python 3 (ipykernel)",
   "language": "python",
   "name": "python3"
  },
  "language_info": {
   "codemirror_mode": {
    "name": "ipython",
    "version": 3
   },
   "file_extension": ".py",
   "mimetype": "text/x-python",
   "name": "python",
   "nbconvert_exporter": "python",
   "pygments_lexer": "ipython3",
   "version": "3.11.5"
  }
 },
 "nbformat": 4,
 "nbformat_minor": 5
}
