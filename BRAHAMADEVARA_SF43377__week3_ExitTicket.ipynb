{
 "cells": [
  {
   "cell_type": "code",
   "execution_count": null,
   "metadata": {},
   "outputs": [],
   "source": [
    "Data types-- int,float,str,bool,None\n",
    " List-- creating the list,Accessing the list,Slicing list,Modifing the list List compension,conditions"
   ]
  },
  {
   "cell_type": "code",
   "execution_count": null,
   "metadata": {},
   "outputs": [],
   "source": [
    "# Today's Plan\n",
    "\n",
    "# Looping Exercise \n",
    "\n",
    "# Conditionalities and User defined function\n",
    "\n",
    "#OOPS\n",
    "\n",
    "#Examples of Data Analytics and Data Science applications"
   ]
  },
  {
   "cell_type": "markdown",
   "metadata": {},
   "source": []
  },
  {
   "cell_type": "code",
   "execution_count": 4,
   "metadata": {},
   "outputs": [],
   "source": [
    "student_data = [\n",
    "    {\"name\": \"Alice\", \"math_score\": 90, \"english_score\": 85},\n",
    "    {\"name\": \"Bob\", \"math_score\": 70, \"english_score\": 88},\n",
    "    {\"name\": \"Charlie\", \"math_score\": 65, \"english_score\": 72},\n",
    "    {\"name\": \"David\", \"math_score\": 80, \"english_score\": 78},\n",
    "    {\"name\": \"Eve\", \"math_score\": 88, \"english_score\": 92},\n",
    "    {\"name\": \"Frank\", \"math_score\": 75, \"english_score\": 68},\n",
    "    {\"name\": \"Grace\", \"math_score\": 95, \"english_score\": 89},\n",
    "    {\"name\": \"Helen\", \"math_score\": 60, \"english_score\": 55},\n",
    "    {\"name\": \"Ivy\", \"math_score\": 78, \"english_score\": 80},\n",
    "    {\"name\": \"Jack\", \"math_score\": 82, \"english_score\": 75},\n",
    "]"
   ]
  },
  {
   "cell_type": "code",
   "execution_count": 5,
   "metadata": {},
   "outputs": [
    {
     "name": "stdout",
     "output_type": "stream",
     "text": [
      "Avg Math Score: 78.30\n",
      "Avg Eng Score: 78.20\n"
     ]
    }
   ],
   "source": [
    "math_total=0\n",
    "eng_total=0\n",
    "num_students=len(student_data)\n",
    "\n",
    "for student in student_data:\n",
    "    math_total += student[\"math_score\"]\n",
    "    eng_total += student[\"english_score\"]\n",
    "    \n",
    "avg_mathscore= math_total/ num_students\n",
    "avg_engscore=eng_total/num_students\n",
    "\n",
    "print(f\"Avg Math Score: {avg_mathscore:.2f}\")\n",
    "print(f\"Avg Eng Score: {avg_engscore:.2f}\")"
   ]
  },
  {
   "cell_type": "code",
   "execution_count": 6,
   "metadata": {},
   "outputs": [],
   "source": [
    "#Calculate the total score for each student and find the student with the highest total score\n",
    "\n",
    "highest_total_score = -1 #intialization of variable names (to keep the track of highest total score)\n",
    "top_student = \"\" #initializing the empty string - who is top_students\n",
    "\n",
    "for student in student_data: # for loop that itereates through each students in the student_data list\n",
    "    total_score = student[\"math_score\"] + student[\"english_score\"] # total score\n",
    "    if total_score > highest_total_score: #compare total_score with highest_total_score\n",
    "        highest_total_score = total_score\n",
    "        top_student = student[\"name\"]"
   ]
  },
  {
   "cell_type": "code",
   "execution_count": 7,
   "metadata": {},
   "outputs": [
    {
     "name": "stdout",
     "output_type": "stream",
     "text": [
      "Student with the highest total score: Grace (184)\n"
     ]
    }
   ],
   "source": [
    "print(f\"Student with the highest total score: {top_student} ({highest_total_score})\")"
   ]
  },
  {
   "cell_type": "code",
   "execution_count": null,
   "metadata": {},
   "outputs": [],
   "source": [
    "## create a function to classify students based on their total scores\n",
    "\n",
    "> 180>=180 --Excellent\n",
    "  160-180 = Good\n",
    "  140-160 -- satisfactory\n",
    " <140\n",
    "    --needs improvement"
   ]
  },
  {
   "cell_type": "code",
   "execution_count": 10,
   "metadata": {},
   "outputs": [],
   "source": [
    "def classify_student(total_score): \n",
    "    if total_score>=180:\n",
    "        return \"Excellent\"\n",
    "    elif 160<=total_score<180:\n",
    "        return \"Good\"\n",
    "    elif 140<=total_score<160:\n",
    "        return \"Satisfactory\"\n",
    "    else:\n",
    "        return \"Needs Improvement\""
   ]
  },
  {
   "cell_type": "code",
   "execution_count": 11,
   "metadata": {},
   "outputs": [
    {
     "name": "stdout",
     "output_type": "stream",
     "text": [
      "Alice scored 175. Classification: Good\n",
      "Bob scored 158. Classification: Satisfactory\n",
      "Charlie scored 137. Classification: Needs Improvement\n",
      "David scored 158. Classification: Satisfactory\n",
      "Eve scored 180. Classification: Excellent\n",
      "Frank scored 143. Classification: Satisfactory\n",
      "Grace scored 184. Classification: Excellent\n",
      "Helen scored 115. Classification: Needs Improvement\n",
      "Ivy scored 158. Classification: Satisfactory\n",
      "Jack scored 157. Classification: Satisfactory\n"
     ]
    }
   ],
   "source": [
    "# Call the function for each student and print the classification using the for loop function\n",
    "\n",
    "for student in student_data: #for loop that iterates for each student\n",
    "    total_score=student[\"math_score\"]+student[\"english_score\"] #total_score\n",
    "    classification=classify_student(total_score) #calling function\n",
    "    print(f\"{student['name']} scored {total_score}. Classification: {classification}\") #print function"
   ]
  },
  {
   "cell_type": "code",
   "execution_count": 12,
   "metadata": {},
   "outputs": [],
   "source": [
    "#Any application using User Defined and for loop?"
   ]
  },
  {
   "cell_type": "code",
   "execution_count": 13,
   "metadata": {},
   "outputs": [],
   "source": [
    "# Import necessary libraries\n",
    "import math\n",
    "from collections import Counter"
   ]
  },
  {
   "cell_type": "code",
   "execution_count": null,
   "metadata": {},
   "outputs": [],
   "source": [
    "Sample data (list of numbers)\n",
    "data = [12,14,67,33,11,17,9,19]"
   ]
  },
  {
   "cell_type": "code",
   "execution_count": null,
   "metadata": {},
   "outputs": [],
   "source": [
    "# In feature engineering (creating new features using the existing feature for your model input) - what do you - creating mean values from two features\n",
    "\n",
    "## there is many zeros in your denominator\n",
    "\n",
    "### What do you do?\n",
    "\n",
    "# Handling zero in the Denominators (you should be very cautious) --leads to mathematical error"
   ]
  },
  {
   "cell_type": "code",
   "execution_count": 15,
   "metadata": {},
   "outputs": [],
   "source": [
    "#User-defined function to calculate the median of a list of numbers\n",
    "def calculate_median(numbers):\n",
    "    if len(numbers) == 0:\n",
    "        return None\n",
    "    sorted_numbers = sorted(numbers)\n",
    "    n = len(sorted_numbers)\n",
    "    if n%2==0:\n",
    "        # If there is an even number of data points, take the average of the middle two\n",
    "        mid1 = sorted_numbers[n//2-1] #int\n",
    "        mid2 = sorted_numbers[n//2]\n",
    "        return (mid1 + mid2)/2\n",
    "    else:\n",
    "        return sorted_numbers[n//2]"
   ]
  },
  {
   "cell_type": "code",
   "execution_count": null,
   "metadata": {},
   "outputs": [],
   "source": [
    "def calculate_variance(numbers):\n",
    "    if len(numbers)==0:\n",
    "        return None\n",
    "    mean=calculate_mean(numbers)\n",
    "    squared_diff=[(x - mean)**2 for x in numbers]\n",
    "    variance = sum(squared_diff) / len(numbers)\n",
    "    return variance"
   ]
  },
  {
   "cell_type": "code",
   "execution_count": null,
   "metadata": {},
   "outputs": [],
   "source": [
    "# variance -- it is just to measure the disperation or distribution of your data point from the mean\n",
    "\n",
    "#The higher the variance - your data is highly dispersed\n",
    "\n",
    "# Standard deviation is the same as variance - more interpretable measure of the spread of the data\n",
    "\n",
    "# it is just square root of variance\n",
    "\n",
    "(x-mean)**2\n",
    "\n"
   ]
  },
  {
   "cell_type": "code",
   "execution_count": null,
   "metadata": {},
   "outputs": [],
   "source": [
    "#next week\n",
    "- Advance uder defined functions\n",
    "- object oriented programming\n",
    "- some other text analysis\n",
    "---- quiz"
   ]
  },
  {
   "cell_type": "code",
   "execution_count": null,
   "metadata": {},
   "outputs": [],
   "source": [
    "### Statstics for data science\n",
    "### linear algebra for data science\n",
    "\n",
    "### go to indentail numpy function (matrix operations)\n",
    "--- a good quiz (stat, linear)\n",
    "### pandas - data manipulation and analytsis\n",
    "\n",
    "----quiz \"Quizes-1 for data 601-11 sesion.ipynb\"uiz\n",
    "\n",
    "\n",
    "---- submit your project (EDA work)\n",
    "\n",
    "## ML model (linear regression and logistic regression)\n",
    "\n",
    "---Submit (your ML app project)"
   ]
  }
 ],
 "metadata": {
  "kernelspec": {
   "display_name": "Python 3",
   "language": "python",
   "name": "python3"
  },
  "language_info": {
   "codemirror_mode": {
    "name": "ipython",
    "version": 3
   },
   "file_extension": ".py",
   "mimetype": "text/x-python",
   "name": "python",
   "nbconvert_exporter": "python",
   "pygments_lexer": "ipython3",
   "version": "3.11.5"
  },
  "orig_nbformat": 4
 },
 "nbformat": 4,
 "nbformat_minor": 2
}
