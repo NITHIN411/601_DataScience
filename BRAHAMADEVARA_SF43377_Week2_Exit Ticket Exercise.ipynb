{
 "cells": [
  {
   "cell_type": "markdown",
   "id": "b4823fbf",
   "metadata": {},
   "source": [
    "## Data Science Environment\n",
    "\n",
    "-Anaconda environment and also how we use the jupyter\n",
    "\n",
    "-We also seen in detail about the Data Science Life Cycle\n",
    "\n",
    "1. Defing the problem_were project scope and Goals\n",
    "-we Defining the KPIS-Product owner,DS, and the project Manager\n",
    "\n",
    "2. Understanding the Data Requirments and Accessability\n",
    "- DS and Data Engineers\n",
    "\n",
    "3. Doing EDA_ Draw insights and patterns\n",
    "- DS,stat and Data Analyst\n",
    "\n",
    "4. Prepare Data- Feature Engineering/Transformation, creating new variables from the existing features\n",
    "\n",
    "- DS\n",
    "5. Train and Develop Model\n",
    "-Ds,Mi EN\n",
    "6. Model validation and optimization\n",
    "ml,en and with Ds\n",
    "\n",
    "7. Deploying production and utilize in any web or dashboard applications\n",
    "Devops---,Mlops(DEVOPs , ML Engineers---CI/CD) & DE (Data pipline)\n",
    "\n",
    "8. Montoring Model performance in the Production Environment\n",
    "\n",
    "- There Model Decying - model performance degrade overtime\n",
    "- There could be Data Distrubtion change by type and variance\n",
    "- There is could business intrest changes\n",
    "\n",
    "You can monitor through alert-Dash board Power bi \n",
    "- I always look at the RMSE-Root Mean Square Error, R-Square classification- Accuracy,recall,precesion,AUC curve"
   ]
  },
  {
   "cell_type": "markdown",
   "id": "9c448225",
   "metadata": {},
   "source": [
    "Todays plan\n",
    "- data types - lists and tuples\n",
    "- lists and list comprehension\n",
    "- dictinory and sets\n",
    "- looping and conditional statements\n",
    "- control statements\n",
    "Next Programing\n",
    "- Funtions\n",
    "- OOPs\n",
    "- Read and write operations\n",
    "- Text analysis\n",
    "\n",
    "\n"
   ]
  },
  {
   "cell_type": "markdown",
   "id": "b2f97cad",
   "metadata": {},
   "source": [
    "## Data Types\n",
    " numerical- floating,int\n",
    " \n",
    " string\n",
    " \n",
    " Boolean\n",
    " \n",
    " Complex numbers\n",
    " ### Try to compare all the date types"
   ]
  },
  {
   "cell_type": "markdown",
   "id": "d26c317e",
   "metadata": {},
   "source": [
    "#integer('int')\n",
    "\n",
    "age=25\n",
    "#floats('float')\n",
    "height = 1.64\n",
    "\n",
    "complex Numbers ('complex')\n",
    "z=3 + 2j\n",
    "\n",
    "#Text data types \n",
    "#string('str')\n",
    "\n",
    "name='Nithin'\n",
    "\n",
    "message='Hi all Good Evening'\n",
    "\n",
    "#Sequence Data Types\n",
    "#Lists('lists') Lists are ordered collection of items that can be different data types\n",
    "#lists are mutable,which means it can be changable\n"
   ]
  },
  {
   "cell_type": "code",
   "execution_count": 40,
   "id": "9cc18759",
   "metadata": {},
   "outputs": [],
   "source": [
    "#lists of cars\n",
    "car=['benz','audi','kia']"
   ]
  },
  {
   "cell_type": "code",
   "execution_count": 64,
   "id": "187a3e8b",
   "metadata": {},
   "outputs": [],
   "source": [
    "#Tuples('tuple') Tuples are similar to the lists but these are immutable you cannot change it after creation\n",
    "coordinates= (3,4)"
   ]
  },
  {
   "cell_type": "code",
   "execution_count": 66,
   "id": "057e5b66",
   "metadata": {},
   "outputs": [],
   "source": [
    "#Dictionaries('dict') Dictionaries store dats in key-value pairs.\n",
    "#Eachkey is unique , and you can use it to retireve its associated values.\n",
    "\n",
    "# Dictionaries are unordered\n",
    "\n",
    "student_info={\"name\": \"Nithin\", \"age\":22}"
   ]
  },
  {
   "cell_type": "code",
   "execution_count": 68,
   "id": "43312c4f",
   "metadata": {},
   "outputs": [],
   "source": [
    "###  Boolean ('bool)- binary values, True or false \n",
    "is_student=True"
   ]
  },
  {
   "cell_type": "code",
   "execution_count": 69,
   "id": "cf934f77",
   "metadata": {},
   "outputs": [],
   "source": [
    "#sets('set')- Sets are unordered collection of unique elements.\n",
    "# They are commonly used for operations like interction, union, merge,etc"
   ]
  },
  {
   "cell_type": "code",
   "execution_count": 5,
   "id": "0a76f769",
   "metadata": {},
   "outputs": [],
   "source": [
    "# None type\n",
    "\n",
    "results=None"
   ]
  },
  {
   "cell_type": "code",
   "execution_count": 73,
   "id": "076f9055",
   "metadata": {},
   "outputs": [
    {
     "name": "stdout",
     "output_type": "stream",
     "text": [
      "b'\\x00\\x01\\x02'\n"
     ]
    }
   ],
   "source": [
    "#Bytes are used to represent binary data such as image files or network packets\n",
    "\n",
    "binary_data=b'\\x00\\x01\\x02'\n",
    "print(binary_data)"
   ]
  },
  {
   "cell_type": "code",
   "execution_count": 12,
   "id": "69f9b823",
   "metadata": {},
   "outputs": [],
   "source": [
    "# Data abd Time Data Types\n",
    "## Dates('date' and Times('time')): These Data Types are used to represent dates and time respectively\n",
    "\n",
    "\n",
    "from datetime import date , time, datetime\n",
    "\n",
    "current_date= date(2023,9,13)\n",
    "\n",
    "current_time= time(15,30)\n",
    "\n",
    "current_datetime=datetime(2023,9,13,15,30)"
   ]
  },
  {
   "cell_type": "code",
   "execution_count": 74,
   "id": "a0a60226",
   "metadata": {},
   "outputs": [
    {
     "data": {
      "text/plain": [
       "datetime.date(2023, 9, 13)"
      ]
     },
     "execution_count": 74,
     "metadata": {},
     "output_type": "execute_result"
    }
   ],
   "source": [
    "current_date"
   ]
  },
  {
   "cell_type": "code",
   "execution_count": 75,
   "id": "c205f4e1",
   "metadata": {},
   "outputs": [
    {
     "data": {
      "text/plain": [
       "datetime.time(15, 30)"
      ]
     },
     "execution_count": 75,
     "metadata": {},
     "output_type": "execute_result"
    }
   ],
   "source": [
    "current_time"
   ]
  },
  {
   "cell_type": "code",
   "execution_count": 76,
   "id": "b8561eec",
   "metadata": {},
   "outputs": [
    {
     "data": {
      "text/plain": [
       "datetime.datetime(2023, 9, 13, 15, 30)"
      ]
     },
     "execution_count": 76,
     "metadata": {},
     "output_type": "execute_result"
    }
   ],
   "source": [
    "current_datetime"
   ]
  },
  {
   "cell_type": "markdown",
   "id": "364edb02",
   "metadata": {},
   "source": [
    "## Lists And Tuples"
   ]
  },
  {
   "cell_type": "code",
   "execution_count": 13,
   "id": "31a86744",
   "metadata": {},
   "outputs": [],
   "source": [
    "# create a list called fruits containg the names of your favorite fruits\n",
    "\n",
    "fruits=['apple','banana','cherry']"
   ]
  },
  {
   "cell_type": "code",
   "execution_count": 63,
   "id": "c7617c97",
   "metadata": {},
   "outputs": [
    {
     "name": "stdout",
     "output_type": "stream",
     "text": [
      "first fruit: apple\n",
      "last fruit: grape\n"
     ]
    }
   ],
   "source": [
    "# Access and print the fruit ad last elements of the fruits list.\n",
    "\n",
    "first_fruit=fruits[0]\n",
    "\n",
    "last_fruit=fruits[-1]\n",
    "\n",
    "print(\"first fruit:\", first_fruit)\n",
    "print(\"last fruit:\",last_fruit)"
   ]
  },
  {
   "cell_type": "code",
   "execution_count": 16,
   "id": "052f28c8",
   "metadata": {},
   "outputs": [],
   "source": [
    "# Modfying Lists\n",
    "\n",
    "fruits.append(\"grape\")"
   ]
  },
  {
   "cell_type": "code",
   "execution_count": 18,
   "id": "a0a0ade0",
   "metadata": {},
   "outputs": [
    {
     "data": {
      "text/plain": [
       "['apple', 'banana', 'cherry', 'grape']"
      ]
     },
     "execution_count": 18,
     "metadata": {},
     "output_type": "execute_result"
    }
   ],
   "source": [
    "fruits"
   ]
  },
  {
   "cell_type": "code",
   "execution_count": 20,
   "id": "a5d62f86",
   "metadata": {},
   "outputs": [
    {
     "name": "stdout",
     "output_type": "stream",
     "text": [
      "Modified fruit list: ['apple', 'banana', 'cherry', 'grape']\n"
     ]
    }
   ],
   "source": [
    "print(\"Modified fruit list:\" , fruits)"
   ]
  },
  {
   "cell_type": "code",
   "execution_count": 21,
   "id": "9c352bd3",
   "metadata": {},
   "outputs": [
    {
     "name": "stdout",
     "output_type": "stream",
     "text": [
      "selected fruits ['apple', 'banana', 'cherry']\n"
     ]
    }
   ],
   "source": [
    "# List slicing\n",
    "\n",
    "selected_fruits=fruits[:3]\n",
    "print(\"selected fruits\",selected_fruits)"
   ]
  },
  {
   "cell_type": "code",
   "execution_count": 22,
   "id": "dc6ed719",
   "metadata": {},
   "outputs": [],
   "source": [
    "# List operation\n",
    "\n",
    "numbers=list(range(1,11))\n",
    "sum_numbers=sum(numbers)"
   ]
  },
  {
   "cell_type": "code",
   "execution_count": 25,
   "id": "affb7d23",
   "metadata": {},
   "outputs": [
    {
     "data": {
      "text/plain": [
       "[1, 2, 3, 4, 5, 6, 7, 8, 9, 10]"
      ]
     },
     "execution_count": 25,
     "metadata": {},
     "output_type": "execute_result"
    }
   ],
   "source": [
    "numbers"
   ]
  },
  {
   "cell_type": "code",
   "execution_count": 23,
   "id": "2978c8c7",
   "metadata": {},
   "outputs": [
    {
     "name": "stdout",
     "output_type": "stream",
     "text": [
      "sum of numbers: 55\n"
     ]
    }
   ],
   "source": [
    "print(\"sum of numbers:\",sum_numbers)"
   ]
  },
  {
   "cell_type": "code",
   "execution_count": 24,
   "id": "d5997c68",
   "metadata": {},
   "outputs": [
    {
     "name": "stdout",
     "output_type": "stream",
     "text": [
      "Squared numbers: [1, 4, 9, 16, 25, 36, 49, 64, 81, 100]\n"
     ]
    }
   ],
   "source": [
    "# List comprehnesion\n",
    "\n",
    "squared_numbers=[x**2 for x in numbers]\n",
    "print(\"Squared numbers:\",squared_numbers)"
   ]
  },
  {
   "cell_type": "code",
   "execution_count": 26,
   "id": "c444a299",
   "metadata": {},
   "outputs": [],
   "source": [
    "# Creating Tuples\n",
    "coordinates=(40.7128, -74.0006)# NY City coordinates\n",
    "\n",
    "# accessing Tuples Elements\n",
    "latitude=coordinates[0]"
   ]
  },
  {
   "cell_type": "code",
   "execution_count": 27,
   "id": "1188c0f6",
   "metadata": {},
   "outputs": [
    {
     "data": {
      "text/plain": [
       "40.7128"
      ]
     },
     "execution_count": 27,
     "metadata": {},
     "output_type": "execute_result"
    }
   ],
   "source": [
    "latitude"
   ]
  },
  {
   "cell_type": "code",
   "execution_count": 36,
   "id": "9bc6bd5f",
   "metadata": {},
   "outputs": [],
   "source": [
    "longitude=coordinates[1]"
   ]
  },
  {
   "cell_type": "code",
   "execution_count": 37,
   "id": "2d17b75b",
   "metadata": {},
   "outputs": [
    {
     "data": {
      "text/plain": [
       "-74.0006"
      ]
     },
     "execution_count": 37,
     "metadata": {},
     "output_type": "execute_result"
    }
   ],
   "source": [
    "longitude"
   ]
  },
  {
   "cell_type": "code",
   "execution_count": 34,
   "id": "8f2d2bbc",
   "metadata": {},
   "outputs": [
    {
     "name": "stdout",
     "output_type": "stream",
     "text": [
      "Name: venkata\n",
      "Age: 30\n",
      "city: sanFrancisco\n"
     ]
    }
   ],
   "source": [
    "# Tuple unpacking\n",
    "\n",
    "person_info=(\"venkata\",30, \"sanFrancisco\")\n",
    "\n",
    "name, age , city=person_info\n",
    "print(\"Name:\", name)\n",
    "\n",
    "print(\"Age:\",age)\n",
    "\n",
    "print(\"city:\",city)"
   ]
  },
  {
   "cell_type": "code",
   "execution_count": 35,
   "id": "f18b0901",
   "metadata": {},
   "outputs": [
    {
     "name": "stdout",
     "output_type": "stream",
     "text": [
      "combined tuple: ('Alice', 25, 'Bob', 32)\n"
     ]
    }
   ],
   "source": [
    "# combing tuple\n",
    "tuple1=(\"Alice\", 25)\n",
    "tuple2=(\"Bob\" ,32)\n",
    "combined_tuple=tuple1 + tuple2\n",
    "print(\"combined tuple:\",combined_tuple)"
   ]
  },
  {
   "cell_type": "code",
   "execution_count": 42,
   "id": "5faaf6cd",
   "metadata": {},
   "outputs": [
    {
     "name": "stdout",
     "output_type": "stream",
     "text": [
      "nested tuple: ((1, 2), (3, 4), (5, 6))\n"
     ]
    }
   ],
   "source": [
    "# Nested Tuple\n",
    "nested_tuple=((1,2),(3,4),(5,6))\n",
    "\n",
    "print(\"nested tuple:\",nested_tuple)"
   ]
  },
  {
   "cell_type": "code",
   "execution_count": 45,
   "id": "dbc3df0b",
   "metadata": {},
   "outputs": [
    {
     "name": "stdout",
     "output_type": "stream",
     "text": [
      "pass\n"
     ]
    }
   ],
   "source": [
    "# conditional statement\n",
    "#if ,else ,elif\n",
    "grade=85\n",
    "\n",
    "if grade>=60:\n",
    "    print(\"pass\")\n",
    "else:\n",
    "    print(\"Average\")"
   ]
  },
  {
   "cell_type": "code",
   "execution_count": 47,
   "id": "b8da76a7",
   "metadata": {},
   "outputs": [
    {
     "name": "stdout",
     "output_type": "stream",
     "text": [
      "you are an adult\n"
     ]
    }
   ],
   "source": [
    "# Simple Conditional statement\n",
    "\n",
    "age=18\n",
    "if age>=18:\n",
    "    print(\"you are an adult\")\n",
    "else:\n",
    "    print(\"you are an minor\")"
   ]
  },
  {
   "cell_type": "code",
   "execution_count": 55,
   "id": "2dbfcc5f",
   "metadata": {},
   "outputs": [
    {
     "name": "stdout",
     "output_type": "stream",
     "text": [
      "Enter the temperaturevvalue:96\n",
      "Enter temperature uit (Celsius or Fahrenheit):Fahrenheit\n",
      "96.0°F is equal to 35.55555555555556°C.\n"
     ]
    }
   ],
   "source": [
    "# Ask for the user temperature value and udit\n",
    "temperature = float(input(\"Enter the temperaturevvalue:\"))\n",
    "unit= input(\"Enter temperature uit (Celsius or Fahrenheit):\").lower()\n",
    "\n",
    "# Perform temperature converstion\n",
    "if unit== \"celsius\":\n",
    "    fahrenheit = (temperature * 9/5) + 32\n",
    "    print(f\"{temperature}°C is equal to {fahrenheit}°F.\") \n",
    "elif unit == \"fahrenheit\":\n",
    "    celsius = (temperature - 32) * 5/9\n",
    "    print(f\"{temperature}°F is equal to {celsius}°C.\")\n",
    "else:\n",
    "    print(\"Invalid unit. Please enter Celsius or Fahrenheit.\")"
   ]
  },
  {
   "cell_type": "code",
   "execution_count": 78,
   "id": "7c6d73a4",
   "metadata": {},
   "outputs": [
    {
     "name": "stdout",
     "output_type": "stream",
     "text": [
      "Enter your exam score (out of 100): 95\n",
      "Your letter grade is: A\n"
     ]
    }
   ],
   "source": [
    "# Grading System \n",
    "\n",
    "score = int(input(\"Enter your exam score (out of 100): \"))\n",
    "# Assign a letter grade based on the score\n",
    "if score >= 90:\n",
    "    grade = \"A\"\n",
    "elif score >= 80:\n",
    "    grade = \"B\"\n",
    "elif score >= 70:\n",
    "    grade = \"C\"\n",
    "elif score >= 60: \n",
    "    grade = \"D\"\n",
    "else: \n",
    "    grade = \"F\" \n",
    "print(f\"Your letter grade is: {grade}\")\n"
   ]
  },
  {
   "cell_type": "code",
   "execution_count": 58,
   "id": "cd9a22b5",
   "metadata": {},
   "outputs": [
    {
     "name": "stdout",
     "output_type": "stream",
     "text": [
      "Enter your age: 22\n",
      "Do you have a student ID? (yes/no): Yes\n",
      "Your ticket price is $8.\n"
     ]
    }
   ],
   "source": [
    "# Movie Ticket Cost\n",
    "age = int(input(\"Enter your age: \"))\n",
    "student_id = input(\"Do you have a student ID? (yes/no): \").lower()\n",
    "# Initial ticket price \n",
    "ticket_price = 10 \n",
    "# Apply discounts based on conditions\n",
    "if age < 13:\n",
    "    ticket_price -= 1\n",
    "elif age >= 65:\n",
    "    ticket_price = 7\n",
    "if student_id == \"yes\":\n",
    "    ticket_price -= 2\n",
    "print(f\"Your ticket price is ${ticket_price}.\")\n",
    "\n"
   ]
  },
  {
   "cell_type": "code",
   "execution_count": 80,
   "id": "22bb22d5",
   "metadata": {},
   "outputs": [
    {
     "name": "stdout",
     "output_type": "stream",
     "text": [
      "Enter your credit score: 800\n",
      "Enter your annual income: 50000\n",
      "Based on your credit score and income, you are categorized as 'Low Risk'.\n"
     ]
    }
   ],
   "source": [
    "# Ask the user for their credit score and income\n",
    "credit_score = int(input(\"Enter your credit score: \"))\n",
    "income = float(input(\"Enter your annual income: \"))\n",
    "# Define threshold values\n",
    "\n",
    "credit_score_threshold = 700\n",
    "income_threshold = 50000\n",
    "# Initialize the risk category\n",
    "risk_category = None\n",
    "# Determine the risk category using if statements\n",
    "if credit_score >= credit_score_threshold and income >= income_threshold:\n",
    "    risk_category = \"Low Risk\" \n",
    "elif credit_score < credit_score_threshold and income < income_threshold:\n",
    "    risk_category = \"High Risk\" \n",
    "else:\n",
    "    risk_category = \"Medium Risk\" \n",
    "# Provide the risk assessment to the user\n",
    "print(f\"Based on your credit score and income, you are categorized as '{risk_category}'.\")\n"
   ]
  }
 ],
 "metadata": {
  "kernelspec": {
   "display_name": "Python 3 (ipykernel)",
   "language": "python",
   "name": "python3"
  },
  "language_info": {
   "codemirror_mode": {
    "name": "ipython",
    "version": 3
   },
   "file_extension": ".py",
   "mimetype": "text/x-python",
   "name": "python",
   "nbconvert_exporter": "python",
   "pygments_lexer": "ipython3",
   "version": "3.11.4"
  }
 },
 "nbformat": 4,
 "nbformat_minor": 5
}
