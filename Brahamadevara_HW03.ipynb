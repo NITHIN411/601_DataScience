{
 "cells": [
  {
   "cell_type": "markdown",
   "id": "876350fe",
   "metadata": {},
   "source": [
    "### Exercise 1: List Filtering"
   ]
  },
  {
   "cell_type": "code",
   "execution_count": 1,
   "id": "0fe4f55a",
   "metadata": {},
   "outputs": [],
   "source": [
    "#1)  Given a list of numbers, create a new list that contains only the even numbers."
   ]
  },
  {
   "cell_type": "code",
   "execution_count": 28,
   "id": "bd7b4a9e",
   "metadata": {},
   "outputs": [
    {
     "name": "stdout",
     "output_type": "stream",
     "text": [
      "B = [2, 4, 6, 10, 16]\n"
     ]
    }
   ],
   "source": [
    "A=[1,2,3,4,6,7,9,10,11,15,16] #List\n",
    "l=len(A) #to find the length \n",
    "B=[] #empty list\n",
    "for i in range(0,l):\n",
    "    if A[i]%2==0:\n",
    "        B.append(A[i]) #for appending\n",
    "print(\"B =\",B) #even numbers in the list\n",
    "\n"
   ]
  },
  {
   "cell_type": "markdown",
   "id": "d0ab0963",
   "metadata": {},
   "source": [
    "### Exercise 2: Tuple Unpacking"
   ]
  },
  {
   "cell_type": "code",
   "execution_count": null,
   "id": "60167e3f",
   "metadata": {},
   "outputs": [],
   "source": [
    "#2: Create a tuple of coordinates (x, y, z), and then unpack and print each coordinate separately."
   ]
  },
  {
   "cell_type": "code",
   "execution_count": 27,
   "id": "ef17eeca",
   "metadata": {},
   "outputs": [
    {
     "name": "stdout",
     "output_type": "stream",
     "text": [
      "x = 10\n",
      "y = 20\n",
      "z = 30\n"
     ]
    }
   ],
   "source": [
    "co_ordinates = (10,20,30) #unpack coordinate\n",
    "(x,y,z) = co_ordinates\n",
    "print('x =',x)\n",
    "print('y =',y)\n",
    "print('z =',z)"
   ]
  },
  {
   "cell_type": "markdown",
   "id": "9fa6b335",
   "metadata": {},
   "source": [
    "### Exercise 3: List Concatenation"
   ]
  },
  {
   "cell_type": "code",
   "execution_count": null,
   "id": "82cb5993",
   "metadata": {},
   "outputs": [],
   "source": [
    "#3: Given two lists, merge them into a single list without duplicates."
   ]
  },
  {
   "cell_type": "code",
   "execution_count": 26,
   "id": "2d8688cb",
   "metadata": {},
   "outputs": [
    {
     "name": "stdout",
     "output_type": "stream",
     "text": [
      "C= [99, 98, 97, 96, 95, 96, 95, 94, 93, 92, 91]\n",
      "result = [99, 98, 97, 96, 95, 94, 93, 92, 91]\n"
     ]
    }
   ],
   "source": [
    "A=[99,98,97,96,95] #list A\n",
    "B=[96,95,94,93,92,91] #List B\n",
    "C=[] #empty list\n",
    "C.extend(A)\n",
    "C.extend(B)\n",
    "print(\"C=\",C) #Concatenation of both the list A and B\n",
    "result=[]\n",
    "for i in C:\n",
    "    if i not in result:\n",
    "        result.append(i)\n",
    "print(\"result =\",result) # Final result contain without duplicate"
   ]
  },
  {
   "cell_type": "markdown",
   "id": "bc8b5508",
   "metadata": {},
   "source": [
    "### Exercise 4: Conditional List Comprehension"
   ]
  },
  {
   "cell_type": "code",
   "execution_count": null,
   "id": "4eeb4b10",
   "metadata": {},
   "outputs": [],
   "source": [
    "# 4 Create a list that contains squares of even numbers and cubes of odd numbers from 1 to 10 using list comprehension.\n",
    "\n"
   ]
  },
  {
   "cell_type": "code",
   "execution_count": 20,
   "id": "15f0fdbe",
   "metadata": {},
   "outputs": [
    {
     "name": "stdout",
     "output_type": "stream",
     "text": [
      "[1, 4, 27, 16, 125, 36, 343, 64, 729, 100]\n"
     ]
    }
   ],
   "source": [
    "l=[i**2 if i%2==0 else i**3 for i in range(1,11)] #conditional list comrehension\n",
    "print(l)\n"
   ]
  },
  {
   "cell_type": "markdown",
   "id": "4bf29df9",
   "metadata": {},
   "source": [
    "## Exercise 5: List of Lists"
   ]
  },
  {
   "cell_type": "code",
   "execution_count": 22,
   "id": "af7582ba",
   "metadata": {},
   "outputs": [
    {
     "name": "stdout",
     "output_type": "stream",
     "text": [
      "out = [1, 2, 3, 4, 5, 6, 7, 8]\n"
     ]
    }
   ],
   "source": [
    "#Problem: Given a list of lists, flatten it into a single list.\n",
    "    \n",
    "nested_list = [[1, 2, 3], [4, 5], [6, 7, 8]]  \n",
    "out=[] # creating the empty list\n",
    "for i in nested_list:\n",
    "    out.extend(i)\n",
    "print(\"out =\",out)\n",
    "\n"
   ]
  },
  {
   "cell_type": "markdown",
   "id": "65650e7f",
   "metadata": {},
   "source": [
    "## Exercise 6: List of Tuples"
   ]
  },
  {
   "cell_type": "code",
   "execution_count": 52,
   "id": "ad35dd00",
   "metadata": {},
   "outputs": [
    {
     "name": "stdout",
     "output_type": "stream",
     "text": [
      "[(4, 1), (3, 2), (1, 5), (2, 8)]\n"
     ]
    }
   ],
   "source": [
    "\n",
    "#Problem: Given a list of tuples, sort them based on the second element of each tuple.\n",
    "data = [(1, 5), (3, 2), (2, 8), (4, 1)]\n",
    "list=sorted(data, key=lambda i: i[1]) #sorted\n",
    "print(list)\n",
    "\n",
    "    "
   ]
  },
  {
   "cell_type": "markdown",
   "id": "d4ea0014",
   "metadata": {},
   "source": [
    "## Exercise 7: Nested List Comprehension\n",
    "\n",
    "Problem: Create a matrix represented as a list of lists and transpose it using nested list comprehensions.\n"
   ]
  },
  {
   "cell_type": "code",
   "execution_count": 57,
   "id": "de5ac108",
   "metadata": {},
   "outputs": [
    {
     "name": "stdout",
     "output_type": "stream",
     "text": [
      "[[1, 4, 7], [2, 5, 8], [3, 6, 9]]\n"
     ]
    }
   ],
   "source": [
    "matrix = [[1, 2, 3], [4, 5, 6], [7, 8, 9]]\n",
    "transpose=[[matrix[j][i] for j in range(0,3)] for i in range(0,3)] #transpose\n",
    "print(transpose)"
   ]
  },
  {
   "cell_type": "markdown",
   "id": "445b7344",
   "metadata": {},
   "source": [
    "## Exercise 8: Fibonacci Sequence\n",
    "\n",
    "Problem: Generate the first 10 numbers of the Fibonacci sequence using a list.\n",
    "Each number should be the sum of the previous two."
   ]
  },
  {
   "cell_type": "code",
   "execution_count": 48,
   "id": "dba40c44",
   "metadata": {},
   "outputs": [
    {
     "name": "stdout",
     "output_type": "stream",
     "text": [
      "1 2 3 5 8 13 21 34 55 89 "
     ]
    }
   ],
   "source": [
    "n0=0\n",
    "n1=1\n",
    "n2=1\n",
    "c=1\n",
    "for i in range (1,11):\n",
    "    print(n2 ,end=' ')\n",
    "    n0=n1 #initializing n0 with n1\n",
    "    n1=n2 #initializing n1 with n2\n",
    "    n2=n0+n1 #addition of both n1 and n2\n",
    "    c=c+1\n",
    "    \n",
    "    \n",
    "\n"
   ]
  },
  {
   "cell_type": "markdown",
   "id": "5f033379",
   "metadata": {},
   "source": [
    "## Exercise 9: Prime Numbers\n",
    "\n",
    "Problem: Generate a list of prime numbers from 1 to 50"
   ]
  },
  {
   "cell_type": "code",
   "execution_count": 61,
   "id": "24496e8b",
   "metadata": {},
   "outputs": [
    {
     "name": "stdout",
     "output_type": "stream",
     "text": [
      "[2, 3, 5, 7, 11, 13, 17, 19, 23, 29, 31, 37, 41, 43, 47]\n"
     ]
    }
   ],
   "source": [
    "l=[] # creating the empty list\n",
    "c=0\n",
    "for i in range(2,50):\n",
    "    prime = True\n",
    "    for j in range(2,i):\n",
    "        if i % j == 0:\n",
    "            prime = False\n",
    "    if prime:\n",
    "        l.append(i) #appending the prime values to the empty list l\n",
    "print(l)"
   ]
  }
 ],
 "metadata": {
  "kernelspec": {
   "display_name": "Python 3 (ipykernel)",
   "language": "python",
   "name": "python3"
  },
  "language_info": {
   "codemirror_mode": {
    "name": "ipython",
    "version": 3
   },
   "file_extension": ".py",
   "mimetype": "text/x-python",
   "name": "python",
   "nbconvert_exporter": "python",
   "pygments_lexer": "ipython3",
   "version": "3.11.5"
  }
 },
 "nbformat": 4,
 "nbformat_minor": 5
}
