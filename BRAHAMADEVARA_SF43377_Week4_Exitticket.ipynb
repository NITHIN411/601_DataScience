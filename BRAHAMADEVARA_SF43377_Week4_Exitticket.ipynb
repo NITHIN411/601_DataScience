{
 "cells": [
  {
   "cell_type": "markdown",
   "id": "c8bb154c",
   "metadata": {},
   "source": [
    "**Last Week's Class:**\n",
    "\n",
    " User-Defined Functions, Arguments, and Loops with List Comprehension\n",
    "\n",
    "- Last week's class focused on user-defined functions in Python.\n",
    "\n",
    " `def` keyword, how to define arguments (both positional and keyword arguments), and how to return values from functions.\n",
    "\n",
    "-  loops, including `for` and `while` loops, and how to use them to iterate over lists and perform repetitive tasks. \n",
    "\n",
    "\n",
    "**Today's Plan:**\n",
    "\n",
    "*Object-Oriented Programming (OOP), Python Exceptions, Read and Write Files*\n",
    "\n",
    "- In today's class, we will delve into Object-Oriented Programming (OOP). \n",
    "\n",
    "- classes and objects, how to define classes, attributes, and methods. \n",
    "\n",
    "- understand the concepts of encapsulation, inheritance, and polymorphism, which are fundamental to OOP.\n",
    "\n",
    "**Python exceptions.** \n",
    "- learn how to handle errors and exceptions using try, except, and finally blocks. \n",
    "- importance of error handling for robust code.\n",
    "\n",
    " **file I/O (Input/Output)**\n",
    "\n",
    "- read data from files and write data to files in Python. \n",
    "\n",
    " - opening, reading, writing, and closing files. We will explore different modes for file operations, such as reading text or binary files.\n",
    "\n"
   ]
  },
  {
   "cell_type": "code",
   "execution_count": 3,
   "id": "b46a5446",
   "metadata": {},
   "outputs": [
    {
     "name": "stdout",
     "output_type": "stream",
     "text": [
      "Hello, Alice!\n"
     ]
    }
   ],
   "source": [
    "#Refering the def function (how to user defined function)\n",
    "def greet(name): # what is greet here ?\n",
    "    return f\"Hello, {name}!\"\n",
    "\n",
    "message = greet(\"Alice\")\n",
    "print(message)  # Output: Hello, Alice!\n"
   ]
  },
  {
   "cell_type": "markdown",
   "id": "7545d17e",
   "metadata": {},
   "source": [
    "#Write a python function to write the factorial of a given integer"
   ]
  },
  {
   "cell_type": "code",
   "execution_count": 18,
   "id": "76045a8c",
   "metadata": {},
   "outputs": [
    {
     "name": "stdout",
     "output_type": "stream",
     "text": [
      "720\n"
     ]
    }
   ],
   "source": [
    "n=6\n",
    "fact=1\n",
    "if n==0:\n",
    "    print(1)\n",
    "    \n",
    "elif n==1:\n",
    "    print(1)\n",
    "   \n",
    "else:\n",
    "    for i in range (1,n+1):\n",
    "        fact=fact*i\n",
    "    print(fact)"
   ]
  },
  {
   "cell_type": "markdown",
   "id": "6b4d75e7",
   "metadata": {},
   "source": [
    "#Create a python program that generate a list of all prime numbers within a specific range"
   ]
  },
  {
   "cell_type": "code",
   "execution_count": 15,
   "id": "b7dfc061",
   "metadata": {},
   "outputs": [
    {
     "data": {
      "text/plain": [
       "[2, 3, 5, 7, 11, 13, 17, 19, 23, 29, 31, 37, 41, 43, 47, 53]"
      ]
     },
     "execution_count": 15,
     "metadata": {},
     "output_type": "execute_result"
    }
   ],
   "source": [
    "def is_prime(num):\n",
    "    if num<=1:\n",
    "        return False\n",
    "    for i in range(2,int(num**0.5)+1):\n",
    "        if num%i==0:\n",
    "            return False\n",
    "    return True\n",
    "def generate_prime(start,end):\n",
    "    prime_numbers=[]\n",
    "    for num in range (start,end+1):\n",
    "        if is_prime(num):\n",
    "            prime_numbers.append(num)\n",
    "    return prime_numbers\n",
    "generate_prime(2,55)\n"
   ]
  },
  {
   "cell_type": "code",
   "execution_count": 1,
   "id": "1076237e",
   "metadata": {},
   "outputs": [
    {
     "name": "stdout",
     "output_type": "stream",
     "text": [
      "1\n",
      "2\n",
      "3\n",
      "4\n",
      "5\n"
     ]
    }
   ],
   "source": [
    "# for loop with list\n",
    "numbers = [1, 2, 3, 4, 5]\n",
    "for num in numbers:\n",
    "    print(num)\n"
   ]
  },
  {
   "cell_type": "code",
   "execution_count": null,
   "id": "665a6da8",
   "metadata": {},
   "outputs": [],
   "source": []
  },
  {
   "cell_type": "code",
   "execution_count": 2,
   "id": "0e0f0974",
   "metadata": {},
   "outputs": [
    {
     "name": "stdout",
     "output_type": "stream",
     "text": [
      "[1, 4, 9, 16, 25]\n"
     ]
    }
   ],
   "source": [
    "#list comprehensnion\n",
    "numbers = [1, 2, 3, 4, 5]\n",
    "squared_numbers = [num ** 2 for num in numbers]\n",
    "print(squared_numbers)  # Output: [1, 4, 9, 16, 25]\n"
   ]
  },
  {
   "cell_type": "code",
   "execution_count": null,
   "id": "6228cd2c",
   "metadata": {},
   "outputs": [],
   "source": []
  },
  {
   "cell_type": "code",
   "execution_count": 19,
   "id": "5bd11c42",
   "metadata": {},
   "outputs": [
    {
     "name": "stdout",
     "output_type": "stream",
     "text": [
      "[1, 4, 9, 16, 25]\n"
     ]
    }
   ],
   "source": [
    "#list comprehension\n",
    "numbers = [1, 2, 3, 4, 5]\n",
    "squared_numbers = [num ** 2 for num in numbers]\n",
    "print(squared_numbers)  # Output: [1, 4, 9, 16, 25]\n"
   ]
  },
  {
   "cell_type": "markdown",
   "id": "15694220",
   "metadata": {},
   "source": [
    "#oop-is the concept of object\n",
    "\n",
    "- objects are instance of class\n",
    "\n",
    "-represent real world entities or concepts\n",
    "\n",
    "OOP is designed to model they objects interact and operate in the real world\n",
    "\n",
    "-Here are some of the basic concepts\n",
    "1. Class-it is a blueprint or template for creating object\n",
    "2.object-an instance of class\n",
    "3.attributee(Data members): variables or data numbers that store the state or the characterstics of an object \n",
    "** in person class , attribute could be age , name address\n",
    "4. Method(member function): functions defined within the class-- for example car--class,method start_engine(),accelerate(),brake()\n",
    "5.inhertace: allow new class to inherit attribute or methods from super class.\n",
    "6.Encapsulation: the priciple of bundling data (attribute) and functions (method)\n",
    "7. polymorphism- Allow objects of different classes to be treated as object of common superclass.it can also helps to override methods.\n",
    "8. Abstraction- method simplyfying\n",
    "9. Constructor: A speciall method in classes--- to intialize the object attribue\n",
    "10. Destructor- Read more about this\n"
   ]
  },
  {
   "cell_type": "markdown",
   "id": "d333e2d2",
   "metadata": {},
   "source": []
  },
  {
   "cell_type": "markdown",
   "id": "2bd69f25",
   "metadata": {},
   "source": [
    "Classes and Objects: how to define classes and create objects from them. Classes are used to model real-world objects or concepts, and objects are instances of those classes."
   ]
  },
  {
   "cell_type": "code",
   "execution_count": 20,
   "id": "6c287b53",
   "metadata": {},
   "outputs": [
    {
     "name": "stdout",
     "output_type": "stream",
     "text": [
      "Buddy says Woof!\n"
     ]
    }
   ],
   "source": [
    "class Dog:\n",
    "    def __init__(self, name):\n",
    "        self.name = name\n",
    "\n",
    "    def bark(self):\n",
    "        return f\"{self.name} says Woof!\"\n",
    "\n",
    "dog1 = Dog(\"Buddy\")\n",
    "print(dog1.bark())  # Output: Buddy says Woof!\n"
   ]
  },
  {
   "cell_type": "code",
   "execution_count": null,
   "id": "00d8e290",
   "metadata": {},
   "outputs": [],
   "source": [
    "class person:\n",
    "    #Constructor (intializing object attribute)\n",
    "    def__init__(self, name, age): #objects are name and age\n",
    "        self.name=name \n",
    "        self.age=age\n",
    "    # method to in troduce the person\n",
    "    def introduce(self):\n",
    "        print(f\"Hello, my name is {self.name}, and i am {self.age} years old\")\n",
    "    #crete person object\n",
    "person1=person(\"Alice\",30)\n",
    "person2=person(\"Bob\",40)\n",
    "\n",
    "#Access object attribute and call methods\n",
    "\n",
    "print(f\"{person1.name}) is and age is {person1.age}\")\n"
   ]
  },
  {
   "cell_type": "markdown",
   "id": "169422d5",
   "metadata": {},
   "source": [
    "1. person is class function \n",
    "\n",
    "2. __int__  : a constructor method that initialize name and age attributes with the new person object is created \n",
    "\n",
    "3. Inside the person class-- method \"introduce-to print out greeting message using the name age"
   ]
  },
  {
   "cell_type": "markdown",
   "id": "3a2d9d0f",
   "metadata": {},
   "source": [
    "inheritance:  how inheritance allows one class to inherit attributes and methods from another class, promoting code reuse."
   ]
  },
  {
   "cell_type": "code",
   "execution_count": 23,
   "id": "1fa83b2a",
   "metadata": {},
   "outputs": [
    {
     "name": "stdout",
     "output_type": "stream",
     "text": [
      "Whiskers says Woof!\n",
      "Whiskers says Purr!\n"
     ]
    }
   ],
   "source": [
    "class Cat(Dog):\n",
    "    def purr(self):\n",
    "        return f\"{self.name} says Purr!\"\n",
    "\n",
    "cat1 = Cat(\"Whiskers\")\n",
    "print(cat1.bark())  # Output: Whiskers says Woof!\n",
    "print(cat1.purr())  # Output: Whiskers says Purr!\n"
   ]
  },
  {
   "cell_type": "code",
   "execution_count": null,
   "id": "d68adf71",
   "metadata": {},
   "outputs": [],
   "source": []
  },
  {
   "cell_type": "markdown",
   "id": "acc07bb5",
   "metadata": {},
   "source": [
    "Python Exceptions:\n",
    "\n",
    "Error Handling: try, except, and finally blocks to handle errors and exceptions gracefully."
   ]
  },
  {
   "cell_type": "code",
   "execution_count": 8,
   "id": "7cc993a3",
   "metadata": {},
   "outputs": [
    {
     "name": "stdout",
     "output_type": "stream",
     "text": [
      "Error: division by zero\n",
      "Cleanup code\n"
     ]
    }
   ],
   "source": [
    "# when you try to divide a number by zero\n",
    "try:\n",
    "    result = 10 / 0\n",
    "except ZeroDivisionError as e:\n",
    "    print(f\"Error: {e}\")\n",
    "finally:\n",
    "    print(\"Cleanup code\")\n"
   ]
  },
  {
   "cell_type": "code",
   "execution_count": 7,
   "id": "e57b2a58",
   "metadata": {},
   "outputs": [
    {
     "name": "stdout",
     "output_type": "stream",
     "text": [
      "Error: variable is not defined\n"
     ]
    }
   ],
   "source": [
    "# when you try to access a variable or function that has not been define\n",
    "try:\n",
    "    print(underdefined_variable)\n",
    "except NameError as e:\n",
    "    print(\"Error: variable is not defined\")\n",
    "    "
   ]
  },
  {
   "cell_type": "code",
   "execution_count": 26,
   "id": "e3b6ac5e",
   "metadata": {},
   "outputs": [
    {
     "name": "stdout",
     "output_type": "stream",
     "text": [
      "Error:Type mismatch\n"
     ]
    }
   ],
   "source": [
    "# perform an operation on object of inappropriate data type\n",
    "try:\n",
    "    results=\"5\"+10\n",
    "except TypeError as e:\n",
    "    print(\"Error:Type mismatch\")\n",
    "    "
   ]
  },
  {
   "cell_type": "code",
   "execution_count": 30,
   "id": "4714f3a3",
   "metadata": {},
   "outputs": [
    {
     "name": "stdout",
     "output_type": "stream",
     "text": [
      "Error:File not found\n"
     ]
    }
   ],
   "source": [
    "# FileNotFoundError\n",
    "try:\n",
    "    with open ('nonexistent.txt','r') as file:\n",
    "        context =file.read()\n",
    "except FileNotFoundError as e :\n",
    "    print(\"Error:File not found\")"
   ]
  },
  {
   "cell_type": "code",
   "execution_count": 6,
   "id": "b301d436",
   "metadata": {},
   "outputs": [
    {
     "ename": "SyntaxError",
     "evalue": "f-string: unmatched '[' (3557241907.py, line 10)",
     "output_type": "error",
     "traceback": [
      "\u001b[1;36m  Cell \u001b[1;32mIn[6], line 10\u001b[1;36m\u001b[0m\n\u001b[1;33m    print(f'for fourth{a['fourth']}')\u001b[0m\n\u001b[1;37m                          ^\u001b[0m\n\u001b[1;31mSyntaxError\u001b[0m\u001b[1;31m:\u001b[0m f-string: unmatched '['\n"
     ]
    }
   ],
   "source": [
    "# How do you  handle indexerror\n",
    "try:\n",
    "    t=[1,2,3,4,5]\n",
    "    print(f'value at index 6 is {t[6]}')\n",
    "except indexError as e:\n",
    "    print(\"index error\")\n",
    "# How do you do key error\n",
    "try:\n",
    "    a={'first':1,'second':2,'third':3}\n",
    "    print(f'for fourth{a['fourth']}')\n",
    "except indexError as e:\n",
    "    print(\"key error\")\n"
   ]
  },
  {
   "cell_type": "markdown",
   "id": "4852a47b",
   "metadata": {},
   "source": [
    "Read and Write Files:\n",
    "\n",
    "File I/O: understand how to open, read, write, and close files in Python. Different file modes (e.g., 'r' for reading, 'w' for writing) will be covered."
   ]
  },
  {
   "cell_type": "code",
   "execution_count": null,
   "id": "78083130",
   "metadata": {},
   "outputs": [],
   "source": []
  },
  {
   "cell_type": "code",
   "execution_count": 5,
   "id": "c48dc7cf",
   "metadata": {},
   "outputs": [
    {
     "ename": "FileNotFoundError",
     "evalue": "[Errno 2] No such file or directory: 'sample.txt'",
     "output_type": "error",
     "traceback": [
      "\u001b[1;31m---------------------------------------------------------------------------\u001b[0m",
      "\u001b[1;31mFileNotFoundError\u001b[0m                         Traceback (most recent call last)",
      "\u001b[1;32mc:\\Users\\Nithin Kumar\\Downloads\\BRAHAMADEVARA_SF43377_Week4_Exitticket.ipynb Cell 29\u001b[0m line \u001b[0;36m2\n\u001b[0;32m      <a href='vscode-notebook-cell:/c%3A/Users/Nithin%20Kumar/Downloads/BRAHAMADEVARA_SF43377_Week4_Exitticket.ipynb#X40sZmlsZQ%3D%3D?line=0'>1</a>\u001b[0m \u001b[39m#Example of reading from a file:\u001b[39;00m\n\u001b[1;32m----> <a href='vscode-notebook-cell:/c%3A/Users/Nithin%20Kumar/Downloads/BRAHAMADEVARA_SF43377_Week4_Exitticket.ipynb#X40sZmlsZQ%3D%3D?line=1'>2</a>\u001b[0m \u001b[39mwith\u001b[39;00m \u001b[39mopen\u001b[39;49m(\u001b[39m\"\u001b[39;49m\u001b[39msample.txt\u001b[39;49m\u001b[39m\"\u001b[39;49m, \u001b[39m\"\u001b[39;49m\u001b[39mr\u001b[39;49m\u001b[39m\"\u001b[39;49m) \u001b[39mas\u001b[39;00m file:\n\u001b[0;32m      <a href='vscode-notebook-cell:/c%3A/Users/Nithin%20Kumar/Downloads/BRAHAMADEVARA_SF43377_Week4_Exitticket.ipynb#X40sZmlsZQ%3D%3D?line=2'>3</a>\u001b[0m     content \u001b[39m=\u001b[39m file\u001b[39m.\u001b[39mread()\n\u001b[0;32m      <a href='vscode-notebook-cell:/c%3A/Users/Nithin%20Kumar/Downloads/BRAHAMADEVARA_SF43377_Week4_Exitticket.ipynb#X40sZmlsZQ%3D%3D?line=3'>4</a>\u001b[0m     \u001b[39mprint\u001b[39m(content)\n",
      "File \u001b[1;32m~\\AppData\\Roaming\\Python\\Python310\\site-packages\\IPython\\core\\interactiveshell.py:286\u001b[0m, in \u001b[0;36m_modified_open\u001b[1;34m(file, *args, **kwargs)\u001b[0m\n\u001b[0;32m    279\u001b[0m \u001b[39mif\u001b[39;00m file \u001b[39min\u001b[39;00m {\u001b[39m0\u001b[39m, \u001b[39m1\u001b[39m, \u001b[39m2\u001b[39m}:\n\u001b[0;32m    280\u001b[0m     \u001b[39mraise\u001b[39;00m \u001b[39mValueError\u001b[39;00m(\n\u001b[0;32m    281\u001b[0m         \u001b[39mf\u001b[39m\u001b[39m\"\u001b[39m\u001b[39mIPython won\u001b[39m\u001b[39m'\u001b[39m\u001b[39mt let you open fd=\u001b[39m\u001b[39m{\u001b[39;00mfile\u001b[39m}\u001b[39;00m\u001b[39m by default \u001b[39m\u001b[39m\"\u001b[39m\n\u001b[0;32m    282\u001b[0m         \u001b[39m\"\u001b[39m\u001b[39mas it is likely to crash IPython. If you know what you are doing, \u001b[39m\u001b[39m\"\u001b[39m\n\u001b[0;32m    283\u001b[0m         \u001b[39m\"\u001b[39m\u001b[39myou can use builtins\u001b[39m\u001b[39m'\u001b[39m\u001b[39m open.\u001b[39m\u001b[39m\"\u001b[39m\n\u001b[0;32m    284\u001b[0m     )\n\u001b[1;32m--> 286\u001b[0m \u001b[39mreturn\u001b[39;00m io_open(file, \u001b[39m*\u001b[39margs, \u001b[39m*\u001b[39m\u001b[39m*\u001b[39mkwargs)\n",
      "\u001b[1;31mFileNotFoundError\u001b[0m: [Errno 2] No such file or directory: 'sample.txt'"
     ]
    }
   ],
   "source": [
    "#Example of reading from a file:\n",
    "with open(\"sample.txt\", \"r\") as file:\n",
    "    content = file.read()\n",
    "    print(content)\n"
   ]
  },
  {
   "cell_type": "code",
   "execution_count": 1,
   "id": "92f809ab",
   "metadata": {},
   "outputs": [],
   "source": [
    "# Example of writing to a file:\n",
    "with open(\"output.txt\", \"w\") as file:\n",
    "    file.write(\"Hello, World!\")\n"
   ]
  },
  {
   "cell_type": "code",
   "execution_count": null,
   "id": "5d2a2421",
   "metadata": {},
   "outputs": [],
   "source": [
    "# Reading "
   ]
  },
  {
   "cell_type": "markdown",
   "id": "504006c8",
   "metadata": {},
   "source": [
    "Exercise 1: Data Preprocessing Class\n",
    "\n",
    "Create a class for data preprocessing tasks in a machine learning project, including cleaning, feature scaling, and encoding."
   ]
  },
  {
   "cell_type": "code",
   "execution_count": null,
   "id": "4636a114",
   "metadata": {},
   "outputs": [],
   "source": [
    "## Data Science application "
   ]
  },
  {
   "cell_type": "code",
   "execution_count": 4,
   "id": "3dcf02b2",
   "metadata": {},
   "outputs": [],
   "source": [
    "# please try to understand the class , object and other attributes\n",
    "class DataPreprocessor: #DataPreprocessor is a class\n",
    "    def __init__(self, data): #intializing and data is an argument\n",
    "        self.data = data\n",
    "    \n",
    "    def clean_data(self): #clean_data is a method\n",
    "        # Implement data cleaning logic here\n",
    "        pass\n",
    "    \n",
    "    def scale_features(self): #scale_features is a method\n",
    "        # Implement feature scaling logic here\n",
    "        pass\n",
    "    \n",
    "    def encode_categorical(self): #encode_categorical is a method\n",
    "        # Implement categorical encoding logic here\n",
    "        pass\n",
    "\n",
    "# Example usage:\n",
    "data = ...\n",
    "preprocessor = DataPreprocessor(data) #new DataPreprocessor\n",
    "preprocessor.clean_data()\n",
    "preprocessor.scale_features()\n",
    "preprocessor.encode_categorical()\n"
   ]
  },
  {
   "cell_type": "code",
   "execution_count": null,
   "id": "3977768d",
   "metadata": {},
   "outputs": [],
   "source": []
  },
  {
   "cell_type": "markdown",
   "id": "a4ec16a3",
   "metadata": {},
   "source": [
    "Exercise 2: Machine Learning Models\n",
    "\n",
    "Implement classes for different machine learning algorithms with methods for training, prediction, and evaluation."
   ]
  },
  {
   "cell_type": "code",
   "execution_count": 5,
   "id": "43012c4b",
   "metadata": {},
   "outputs": [
    {
     "ename": "NameError",
     "evalue": "name 'X_train' is not defined",
     "output_type": "error",
     "traceback": [
      "\u001b[1;31m---------------------------------------------------------------------------\u001b[0m",
      "\u001b[1;31mNameError\u001b[0m                                 Traceback (most recent call last)",
      "\u001b[1;32mc:\\Users\\Nithin Kumar\\Downloads\\BRAHAMADEVARA_SF43377_Week4_Exitticket.ipynb Cell 37\u001b[0m line \u001b[0;36m1\n\u001b[0;32m     <a href='vscode-notebook-cell:/c%3A/Users/Nithin%20Kumar/Downloads/BRAHAMADEVARA_SF43377_Week4_Exitticket.ipynb#X51sZmlsZQ%3D%3D?line=16'>17</a>\u001b[0m \u001b[39m# Example usage:\u001b[39;00m\n\u001b[0;32m     <a href='vscode-notebook-cell:/c%3A/Users/Nithin%20Kumar/Downloads/BRAHAMADEVARA_SF43377_Week4_Exitticket.ipynb#X51sZmlsZQ%3D%3D?line=17'>18</a>\u001b[0m model \u001b[39m=\u001b[39m LinearRegressionModel()\n\u001b[1;32m---> <a href='vscode-notebook-cell:/c%3A/Users/Nithin%20Kumar/Downloads/BRAHAMADEVARA_SF43377_Week4_Exitticket.ipynb#X51sZmlsZQ%3D%3D?line=18'>19</a>\u001b[0m model\u001b[39m.\u001b[39mtrain(X_train, y_train)\n\u001b[0;32m     <a href='vscode-notebook-cell:/c%3A/Users/Nithin%20Kumar/Downloads/BRAHAMADEVARA_SF43377_Week4_Exitticket.ipynb#X51sZmlsZQ%3D%3D?line=19'>20</a>\u001b[0m predictions \u001b[39m=\u001b[39m model\u001b[39m.\u001b[39mpredict(X_test)\n\u001b[0;32m     <a href='vscode-notebook-cell:/c%3A/Users/Nithin%20Kumar/Downloads/BRAHAMADEVARA_SF43377_Week4_Exitticket.ipynb#X51sZmlsZQ%3D%3D?line=20'>21</a>\u001b[0m accuracy \u001b[39m=\u001b[39m model\u001b[39m.\u001b[39mevaluate(X_test, y_test)\n",
      "\u001b[1;31mNameError\u001b[0m: name 'X_train' is not defined"
     ]
    }
   ],
   "source": [
    "class LinearRegressionModel:\n",
    "    def __init__(self):\n",
    "        pass\n",
    "    \n",
    "    def train(self, X, y):\n",
    "        # Training logic for linear regression\n",
    "        pass\n",
    "    \n",
    "    def predict(self, X):\n",
    "        # Prediction logic for linear regression\n",
    "        pass\n",
    "    \n",
    "    def evaluate(self, X_test, y_test):\n",
    "        # Evaluation logic for linear regression\n",
    "        pass\n",
    "\n",
    "# Example usage:\n",
    "model = LinearRegressionModel()\n",
    "model.train(X_train, y_train)\n",
    "predictions = model.predict(X_test)\n",
    "accuracy = model.evaluate(X_test, y_test)\n"
   ]
  },
  {
   "cell_type": "code",
   "execution_count": null,
   "id": "5c951035",
   "metadata": {},
   "outputs": [],
   "source": []
  },
  {
   "cell_type": "markdown",
   "id": "ee409caf",
   "metadata": {},
   "source": [
    "Exercise 3: Data Visualization Library\n",
    "\n",
    "Develop a class for creating custom data visualization functions and plots using libraries like Matplotlib or Seaborn."
   ]
  },
  {
   "cell_type": "code",
   "execution_count": 1,
   "id": "c009b1cd",
   "metadata": {},
   "outputs": [
    {
     "ename": "ModuleNotFoundError",
     "evalue": "No module named 'matplotlib'",
     "output_type": "error",
     "traceback": [
      "\u001b[1;31m---------------------------------------------------------------------------\u001b[0m",
      "\u001b[1;31mModuleNotFoundError\u001b[0m                       Traceback (most recent call last)",
      "\u001b[1;32mc:\\Users\\Nithin Kumar\\Downloads\\BRAHAMADEVARA_SF43377_Week4_Exitticket.ipynb Cell 40\u001b[0m line \u001b[0;36m1\n\u001b[1;32m----> <a href='vscode-notebook-cell:/c%3A/Users/Nithin%20Kumar/Downloads/BRAHAMADEVARA_SF43377_Week4_Exitticket.ipynb#X54sZmlsZQ%3D%3D?line=0'>1</a>\u001b[0m \u001b[39mimport\u001b[39;00m \u001b[39mmatplotlib\u001b[39;00m\u001b[39m.\u001b[39;00m\u001b[39mpyplot\u001b[39;00m \u001b[39mas\u001b[39;00m \u001b[39mplt\u001b[39;00m \u001b[39m#importing mstplotlib\u001b[39;00m\n\u001b[0;32m      <a href='vscode-notebook-cell:/c%3A/Users/Nithin%20Kumar/Downloads/BRAHAMADEVARA_SF43377_Week4_Exitticket.ipynb#X54sZmlsZQ%3D%3D?line=2'>3</a>\u001b[0m \u001b[39mclass\u001b[39;00m \u001b[39mDataVisualizer\u001b[39;00m: \u001b[39m#DataVisualizer class\u001b[39;00m\n\u001b[0;32m      <a href='vscode-notebook-cell:/c%3A/Users/Nithin%20Kumar/Downloads/BRAHAMADEVARA_SF43377_Week4_Exitticket.ipynb#X54sZmlsZQ%3D%3D?line=3'>4</a>\u001b[0m     \u001b[39mdef\u001b[39;00m \u001b[39m__init__\u001b[39m(\u001b[39mself\u001b[39m, data):\n",
      "\u001b[1;31mModuleNotFoundError\u001b[0m: No module named 'matplotlib'"
     ]
    }
   ],
   "source": [
    "import matplotlib.pyplot as plt #importing mstplotlib\n",
    "\n",
    "class DataVisualizer: #DataVisualizer class\n",
    "    def __init__(self, data):\n",
    "        self.data = data\n",
    "    \n",
    "    def plot_histogram(self, feature): #plot_histogram method\n",
    "        # Implement histogram plotting logic\n",
    "        pass\n",
    "    \n",
    "    def plot_scatter(self, x, y): #plot_scatter method\n",
    "        # Implement scatter plot logic\n",
    "        pass\n",
    "\n",
    "# Example usage:\n",
    "data = ...\n",
    "visualizer = DataVisualizer(data) #creting new DataVisualizer\n",
    "visualizer.plot_histogram('Age')\n",
    "visualizer.plot_scatter('Income', 'Spending')\n"
   ]
  },
  {
   "cell_type": "code",
   "execution_count": null,
   "id": "9a53df2e",
   "metadata": {},
   "outputs": [],
   "source": []
  },
  {
   "cell_type": "markdown",
   "id": "1f704e21",
   "metadata": {},
   "source": [
    "Exercise 4: Data Exploration Toolkit\n",
    "\n",
    "Create a class to perform exploratory data analysis (EDA) tasks, such as generating summary statistics, histograms, and correlation matrices."
   ]
  },
  {
   "cell_type": "code",
   "execution_count": null,
   "id": "0a085670",
   "metadata": {},
   "outputs": [],
   "source": []
  },
  {
   "cell_type": "code",
   "execution_count": 2,
   "id": "ecf00195",
   "metadata": {},
   "outputs": [
    {
     "ename": "ModuleNotFoundError",
     "evalue": "No module named 'pandas'",
     "output_type": "error",
     "traceback": [
      "\u001b[1;31m---------------------------------------------------------------------------\u001b[0m",
      "\u001b[1;31mModuleNotFoundError\u001b[0m                       Traceback (most recent call last)",
      "\u001b[1;32mc:\\Users\\Nithin Kumar\\Downloads\\BRAHAMADEVARA_SF43377_Week4_Exitticket.ipynb Cell 44\u001b[0m line \u001b[0;36m1\n\u001b[1;32m----> <a href='vscode-notebook-cell:/c%3A/Users/Nithin%20Kumar/Downloads/BRAHAMADEVARA_SF43377_Week4_Exitticket.ipynb#X61sZmlsZQ%3D%3D?line=0'>1</a>\u001b[0m \u001b[39mimport\u001b[39;00m \u001b[39mpandas\u001b[39;00m \u001b[39mas\u001b[39;00m \u001b[39mpd\u001b[39;00m\n\u001b[0;32m      <a href='vscode-notebook-cell:/c%3A/Users/Nithin%20Kumar/Downloads/BRAHAMADEVARA_SF43377_Week4_Exitticket.ipynb#X61sZmlsZQ%3D%3D?line=2'>3</a>\u001b[0m \u001b[39mclass\u001b[39;00m \u001b[39mDataExplorer\u001b[39;00m:\n\u001b[0;32m      <a href='vscode-notebook-cell:/c%3A/Users/Nithin%20Kumar/Downloads/BRAHAMADEVARA_SF43377_Week4_Exitticket.ipynb#X61sZmlsZQ%3D%3D?line=3'>4</a>\u001b[0m     \u001b[39mdef\u001b[39;00m \u001b[39m__init__\u001b[39m(\u001b[39mself\u001b[39m, data): \u001b[39m#intializing the class\u001b[39;00m\n",
      "\u001b[1;31mModuleNotFoundError\u001b[0m: No module named 'pandas'"
     ]
    }
   ],
   "source": [
    "import pandas as pd\n",
    "\n",
    "class DataExplorer:\n",
    "    def __init__(self, data): #intializing the class\n",
    "        self.data = data\n",
    "    \n",
    "    def summary_statistics(self): # it is a method\n",
    "        # Calculate summary statistics\n",
    "        return self.data.describe()\n",
    "    \n",
    "    def plot_histograms(self): #it is a method\n",
    "        # Generate histograms for each numeric feature\n",
    "        self.data.hist()\n",
    "        plt.show()\n",
    "    \n",
    "    def correlation_matrix(self):\n",
    "        # Calculate and display correlation matrix\n",
    "        return self.data.corr()\n",
    "\n",
    "# Example usage:\n",
    "data = pd.read_csv('data.csv')\n",
    "explorer = DataExplorer(data)\n",
    "summary = explorer.summary_statistics()\n",
    "explorer.plot_histograms()\n",
    "correlation = explorer.correlation_matrix()\n"
   ]
  },
  {
   "cell_type": "code",
   "execution_count": null,
   "id": "9515e714",
   "metadata": {},
   "outputs": [],
   "source": []
  },
  {
   "cell_type": "markdown",
   "id": "bed63fef",
   "metadata": {},
   "source": [
    "Exercise 5: Time Series Forecasting Model\n",
    "\n",
    "Build an OOP-based time series forecasting model with classes for data preprocessing, model training, and prediction."
   ]
  },
  {
   "cell_type": "code",
   "execution_count": null,
   "id": "f04d88da",
   "metadata": {},
   "outputs": [],
   "source": []
  },
  {
   "cell_type": "code",
   "execution_count": 8,
   "id": "c7eaa876",
   "metadata": {},
   "outputs": [
    {
     "ename": "NameError",
     "evalue": "name 'future_data' is not defined",
     "output_type": "error",
     "traceback": [
      "\u001b[1;31m---------------------------------------------------------------------------\u001b[0m",
      "\u001b[1;31mNameError\u001b[0m                                 Traceback (most recent call last)",
      "\u001b[1;32mc:\\Users\\Nithin Kumar\\Downloads\\BRAHAMADEVARA_SF43377_Week4_Exitticket.ipynb Cell 48\u001b[0m line \u001b[0;36m2\n\u001b[0;32m     <a href='vscode-notebook-cell:/c%3A/Users/Nithin%20Kumar/Downloads/BRAHAMADEVARA_SF43377_Week4_Exitticket.ipynb#X65sZmlsZQ%3D%3D?line=19'>20</a>\u001b[0m forecasting_model\u001b[39m.\u001b[39mpreprocess_data()\n\u001b[0;32m     <a href='vscode-notebook-cell:/c%3A/Users/Nithin%20Kumar/Downloads/BRAHAMADEVARA_SF43377_Week4_Exitticket.ipynb#X65sZmlsZQ%3D%3D?line=20'>21</a>\u001b[0m forecasting_model\u001b[39m.\u001b[39mtrain_model()\n\u001b[1;32m---> <a href='vscode-notebook-cell:/c%3A/Users/Nithin%20Kumar/Downloads/BRAHAMADEVARA_SF43377_Week4_Exitticket.ipynb#X65sZmlsZQ%3D%3D?line=21'>22</a>\u001b[0m future_forecasts \u001b[39m=\u001b[39m forecasting_model\u001b[39m.\u001b[39mforecast(future_data)\n",
      "\u001b[1;31mNameError\u001b[0m: name 'future_data' is not defined"
     ]
    }
   ],
   "source": [
    "class TimeSeriesForecastingModel:\n",
    "    def __init__(self, data):\n",
    "        self.data = data\n",
    "    \n",
    "    def preprocess_data(self):\n",
    "        # Implement data preprocessing for time series data\n",
    "        pass\n",
    "    \n",
    "    def train_model(self):\n",
    "        # Train a forecasting model (e.g., ARIMA, LSTM)\n",
    "        pass\n",
    "    \n",
    "    def forecast(self, future_data):\n",
    "        # Generate forecasts for future data points\n",
    "        pass\n",
    "\n",
    "# Example usage:\n",
    "time_series_data = ...\n",
    "forecasting_model = TimeSeriesForecastingModel(time_series_data)\n",
    "forecasting_model.preprocess_data()\n",
    "forecasting_model.train_model()\n",
    "future_forecasts = forecasting_model.forecast(future_data)\n"
   ]
  },
  {
   "cell_type": "code",
   "execution_count": null,
   "id": "b72775da",
   "metadata": {},
   "outputs": [],
   "source": []
  },
  {
   "cell_type": "markdown",
   "id": "a78adf54",
   "metadata": {},
   "source": [
    "Exercise 6: Natural Language Processing (NLP) Toolkit\n",
    "\n",
    "Design a class for text processing, including tokenization, sentiment analysis, and text classification using NLP libraries."
   ]
  },
  {
   "cell_type": "code",
   "execution_count": 9,
   "id": "9fd62736",
   "metadata": {},
   "outputs": [
    {
     "ename": "ModuleNotFoundError",
     "evalue": "No module named 'nltk'",
     "output_type": "error",
     "traceback": [
      "\u001b[1;31m---------------------------------------------------------------------------\u001b[0m",
      "\u001b[1;31mModuleNotFoundError\u001b[0m                       Traceback (most recent call last)",
      "\u001b[1;32mc:\\Users\\Nithin Kumar\\Downloads\\BRAHAMADEVARA_SF43377_Week4_Exitticket.ipynb Cell 51\u001b[0m line \u001b[0;36m1\n\u001b[1;32m----> <a href='vscode-notebook-cell:/c%3A/Users/Nithin%20Kumar/Downloads/BRAHAMADEVARA_SF43377_Week4_Exitticket.ipynb#Y101sZmlsZQ%3D%3D?line=0'>1</a>\u001b[0m \u001b[39mimport\u001b[39;00m \u001b[39mnltk\u001b[39;00m\n\u001b[0;32m      <a href='vscode-notebook-cell:/c%3A/Users/Nithin%20Kumar/Downloads/BRAHAMADEVARA_SF43377_Week4_Exitticket.ipynb#Y101sZmlsZQ%3D%3D?line=1'>2</a>\u001b[0m \u001b[39mfrom\u001b[39;00m \u001b[39mtextblob\u001b[39;00m \u001b[39mimport\u001b[39;00m TextBlob\n\u001b[0;32m      <a href='vscode-notebook-cell:/c%3A/Users/Nithin%20Kumar/Downloads/BRAHAMADEVARA_SF43377_Week4_Exitticket.ipynb#Y101sZmlsZQ%3D%3D?line=3'>4</a>\u001b[0m \u001b[39mclass\u001b[39;00m \u001b[39mNLPToolkit\u001b[39;00m:\n",
      "\u001b[1;31mModuleNotFoundError\u001b[0m: No module named 'nltk'"
     ]
    }
   ],
   "source": [
    "import nltk\n",
    "from textblob import TextBlob\n",
    "\n",
    "class NLPToolkit:\n",
    "    def __init__(self, text):\n",
    "        self.text = text\n",
    "    \n",
    "    def tokenize(self):\n",
    "        # Tokenize the text\n",
    "        return nltk.word_tokenize(self.text)\n",
    "    \n",
    "    def analyze_sentiment(self):\n",
    "        # Perform sentiment analysis\n",
    "        blob = TextBlob(self.text)\n",
    "        sentiment = blob.sentiment\n",
    "        return sentiment\n",
    "    \n",
    "    def classify_text(self, model):\n",
    "        # Classify text using a pre-trained model\n",
    "        pass\n",
    "\n",
    "# Example usage:\n",
    "text = \"This is a positive example.\"\n",
    "nlp_toolkit = NLPToolkit(text)\n",
    "tokens = nlp_toolkit.tokenize()\n",
    "sentiment = nlp_toolkit.analyze_sentiment()\n"
   ]
  },
  {
   "cell_type": "code",
   "execution_count": null,
   "id": "95d3fc6e",
   "metadata": {},
   "outputs": [],
   "source": []
  },
  {
   "cell_type": "markdown",
   "id": "a1fc7d41",
   "metadata": {},
   "source": [
    "Exercise 7: Cluster Analysis Class\n",
    "\n",
    "Develop a class for clustering algorithms like K-Means, Hierarchical Clustering, and DBSCAN, with methods for fitting and visualizing clusters."
   ]
  },
  {
   "cell_type": "code",
   "execution_count": null,
   "id": "ef3b7c8e",
   "metadata": {},
   "outputs": [],
   "source": []
  },
  {
   "cell_type": "code",
   "execution_count": 10,
   "id": "f60a329f",
   "metadata": {},
   "outputs": [
    {
     "ename": "ModuleNotFoundError",
     "evalue": "No module named 'sklearn'",
     "output_type": "error",
     "traceback": [
      "\u001b[1;31m---------------------------------------------------------------------------\u001b[0m",
      "\u001b[1;31mModuleNotFoundError\u001b[0m                       Traceback (most recent call last)",
      "\u001b[1;32mc:\\Users\\Nithin Kumar\\Downloads\\BRAHAMADEVARA_SF43377_Week4_Exitticket.ipynb Cell 55\u001b[0m line \u001b[0;36m1\n\u001b[1;32m----> <a href='vscode-notebook-cell:/c%3A/Users/Nithin%20Kumar/Downloads/BRAHAMADEVARA_SF43377_Week4_Exitticket.ipynb#Y105sZmlsZQ%3D%3D?line=0'>1</a>\u001b[0m \u001b[39mfrom\u001b[39;00m \u001b[39msklearn\u001b[39;00m\u001b[39m.\u001b[39;00m\u001b[39mcluster\u001b[39;00m \u001b[39mimport\u001b[39;00m KMeans\n\u001b[0;32m      <a href='vscode-notebook-cell:/c%3A/Users/Nithin%20Kumar/Downloads/BRAHAMADEVARA_SF43377_Week4_Exitticket.ipynb#Y105sZmlsZQ%3D%3D?line=1'>2</a>\u001b[0m \u001b[39mimport\u001b[39;00m \u001b[39mmatplotlib\u001b[39;00m\u001b[39m.\u001b[39;00m\u001b[39mpyplot\u001b[39;00m \u001b[39mas\u001b[39;00m \u001b[39mplt\u001b[39;00m\n\u001b[0;32m      <a href='vscode-notebook-cell:/c%3A/Users/Nithin%20Kumar/Downloads/BRAHAMADEVARA_SF43377_Week4_Exitticket.ipynb#Y105sZmlsZQ%3D%3D?line=3'>4</a>\u001b[0m \u001b[39mclass\u001b[39;00m \u001b[39mClusterAnalyzer\u001b[39;00m:\n",
      "\u001b[1;31mModuleNotFoundError\u001b[0m: No module named 'sklearn'"
     ]
    }
   ],
   "source": [
    "from sklearn.cluster import KMeans\n",
    "import matplotlib.pyplot as plt\n",
    "\n",
    "class ClusterAnalyzer:\n",
    "    def __init__(self, data):\n",
    "        self.data = data\n",
    "    \n",
    "    def fit_kmeans(self, n_clusters):\n",
    "        # Fit a K-Means clustering model\n",
    "        model = KMeans(n_clusters=n_clusters)\n",
    "        model.fit(self.data)\n",
    "        return model.labels_\n",
    "    \n",
    "    def plot_clusters(self, labels):\n",
    "        # Visualize clusters\n",
    "        plt.scatter(self.data[:, 0], self.data[:, 1], c=labels)\n",
    "        plt.show()\n",
    "\n",
    "# Example usage:\n",
    "data = ...\n",
    "analyzer = ClusterAnalyzer(data)\n",
    "cluster_labels = analyzer.fit_kmeans(3)\n",
    "analyzer.plot_clusters(cluster_labels)\n"
   ]
  },
  {
   "cell_type": "code",
   "execution_count": null,
   "id": "285b7353",
   "metadata": {},
   "outputs": [],
   "source": []
  },
  {
   "cell_type": "markdown",
   "id": "4edc4194",
   "metadata": {},
   "source": [
    "Exercise 8: Custom Data Structures\n",
    "\n",
    "Implement custom data structures like a binary search tree or a graph for specific data science tasks."
   ]
  },
  {
   "cell_type": "code",
   "execution_count": 11,
   "id": "b51a9d03",
   "metadata": {},
   "outputs": [],
   "source": [
    "class BinarySearchTree:\n",
    "    def __init__(self, value):\n",
    "        self.value = value\n",
    "        self.left = None\n",
    "        self.right = None\n",
    "    \n",
    "    def insert(self, value):\n",
    "        # Insert a value into the BST\n",
    "        pass\n",
    "    \n",
    "    def search(self, value):\n",
    "        # Search for a value in the BST\n",
    "        pass\n",
    "\n",
    "# Example usage:\n",
    "bst = BinarySearchTree(10)\n",
    "bst.insert(5)\n",
    "bst.insert(15)\n",
    "result = bst.search(5)\n"
   ]
  },
  {
   "cell_type": "code",
   "execution_count": null,
   "id": "285acd22",
   "metadata": {},
   "outputs": [],
   "source": []
  },
  {
   "cell_type": "markdown",
   "id": "99ada386",
   "metadata": {},
   "source": [
    "Exercise 9: Feature Engineering Class\n",
    "\n",
    "Create a class for feature engineering techniques such as feature selection, dimensionality reduction, and feature extraction."
   ]
  },
  {
   "cell_type": "code",
   "execution_count": 12,
   "id": "1fb45b30",
   "metadata": {},
   "outputs": [
    {
     "ename": "ModuleNotFoundError",
     "evalue": "No module named 'sklearn'",
     "output_type": "error",
     "traceback": [
      "\u001b[1;31m---------------------------------------------------------------------------\u001b[0m",
      "\u001b[1;31mModuleNotFoundError\u001b[0m                       Traceback (most recent call last)",
      "\u001b[1;32mc:\\Users\\Nithin Kumar\\Downloads\\BRAHAMADEVARA_SF43377_Week4_Exitticket.ipynb Cell 61\u001b[0m line \u001b[0;36m1\n\u001b[1;32m----> <a href='vscode-notebook-cell:/c%3A/Users/Nithin%20Kumar/Downloads/BRAHAMADEVARA_SF43377_Week4_Exitticket.ipynb#Y114sZmlsZQ%3D%3D?line=0'>1</a>\u001b[0m \u001b[39mfrom\u001b[39;00m \u001b[39msklearn\u001b[39;00m\u001b[39m.\u001b[39;00m\u001b[39mfeature_selection\u001b[39;00m \u001b[39mimport\u001b[39;00m SelectKBest\n\u001b[0;32m      <a href='vscode-notebook-cell:/c%3A/Users/Nithin%20Kumar/Downloads/BRAHAMADEVARA_SF43377_Week4_Exitticket.ipynb#Y114sZmlsZQ%3D%3D?line=1'>2</a>\u001b[0m \u001b[39mfrom\u001b[39;00m \u001b[39msklearn\u001b[39;00m\u001b[39m.\u001b[39;00m\u001b[39mdecomposition\u001b[39;00m \u001b[39mimport\u001b[39;00m PCA\n\u001b[0;32m      <a href='vscode-notebook-cell:/c%3A/Users/Nithin%20Kumar/Downloads/BRAHAMADEVARA_SF43377_Week4_Exitticket.ipynb#Y114sZmlsZQ%3D%3D?line=3'>4</a>\u001b[0m \u001b[39mclass\u001b[39;00m \u001b[39mFeatureEngineer\u001b[39;00m:\n",
      "\u001b[1;31mModuleNotFoundError\u001b[0m: No module named 'sklearn'"
     ]
    }
   ],
   "source": [
    "from sklearn.feature_selection import SelectKBest\n",
    "from sklearn.decomposition import PCA\n",
    "\n",
    "class FeatureEngineer:\n",
    "    def __init__(self, data):\n",
    "        self.data = data\n",
    "    \n",
    "    def select_features(self, k):\n",
    "        # Select top k features using SelectKBest\n",
    "        pass\n",
    "    \n",
    "    def reduce_dimensionality(self, n_components):\n",
    "        # Perform dimensionality reduction using PCA\n",
    "        pass\n",
    "\n",
    "# Example usage:\n",
    "data = ...\n",
    "engineer = FeatureEngineer(data)\n",
    "selected_features = engineer.select_features(5)\n",
    "reduced_data = engineer.reduce_dimensionality(3)\n"
   ]
  },
  {
   "cell_type": "code",
   "execution_count": null,
   "id": "f402c2f5",
   "metadata": {},
   "outputs": [],
   "source": []
  },
  {
   "cell_type": "markdown",
   "id": "c83711de",
   "metadata": {},
   "source": [
    "Exercise 10: Neural Network Framework\n",
    "\n",
    "Build an OOP-based neural network framework with classes representing layers, activation functions, and optimization algorithms."
   ]
  },
  {
   "cell_type": "code",
   "execution_count": null,
   "id": "ffb6dd43",
   "metadata": {},
   "outputs": [],
   "source": []
  },
  {
   "cell_type": "code",
   "execution_count": 13,
   "id": "fc55e65e",
   "metadata": {},
   "outputs": [
    {
     "ename": "SyntaxError",
     "evalue": "incomplete input (677064244.py, line 12)",
     "output_type": "error",
     "traceback": [
      "\u001b[1;36m  Cell \u001b[1;32mIn[13], line 12\u001b[1;36m\u001b[0m\n\u001b[1;33m    # Build\u001b[0m\n\u001b[1;37m           ^\u001b[0m\n\u001b[1;31mSyntaxError\u001b[0m\u001b[1;31m:\u001b[0m incomplete input\n"
     ]
    }
   ],
   "source": [
    "import numpy as np\n",
    "import tensorflow as tf\n",
    "\n",
    "class NeuralNetwork:\n",
    "    def __init__(self, input_size, hidden_units, output_size):\n",
    "        self.input_size = input_size\n",
    "        self.hidden_units = hidden_units\n",
    "        self.output_size = output_size\n",
    "        self.model = self.build_model()\n",
    "    \n",
    "    def build_model(self):\n",
    "        # Build\n"
   ]
  },
  {
   "cell_type": "markdown",
   "id": "103fce8b",
   "metadata": {},
   "source": [
    "Exercise 1: Data Preprocessing Class"
   ]
  },
  {
   "cell_type": "code",
   "execution_count": 4,
   "id": "da523f31",
   "metadata": {},
   "outputs": [
    {
     "ename": "ModuleNotFoundError",
     "evalue": "No module named 'pandas'",
     "output_type": "error",
     "traceback": [
      "\u001b[1;31m---------------------------------------------------------------------------\u001b[0m",
      "\u001b[1;31mModuleNotFoundError\u001b[0m                       Traceback (most recent call last)",
      "\u001b[1;32mc:\\Users\\Nithin Kumar\\Downloads\\BRAHAMADEVARA_SF43377_Week4_Exitticket.ipynb Cell 67\u001b[0m line \u001b[0;36m1\n\u001b[0;32m     <a href='vscode-notebook-cell:/c%3A/Users/Nithin%20Kumar/Downloads/BRAHAMADEVARA_SF43377_Week4_Exitticket.ipynb#Y123sZmlsZQ%3D%3D?line=14'>15</a>\u001b[0m         \u001b[39mself\u001b[39m\u001b[39m.\u001b[39mdata \u001b[39m=\u001b[39m pd\u001b[39m.\u001b[39mget_dummies(\u001b[39mself\u001b[39m\u001b[39m.\u001b[39mdata, columns\u001b[39m=\u001b[39m[\u001b[39m'\u001b[39m\u001b[39mcategory\u001b[39m\u001b[39m'\u001b[39m])\n\u001b[0;32m     <a href='vscode-notebook-cell:/c%3A/Users/Nithin%20Kumar/Downloads/BRAHAMADEVARA_SF43377_Week4_Exitticket.ipynb#Y123sZmlsZQ%3D%3D?line=16'>17</a>\u001b[0m \u001b[39m# Dummy data\u001b[39;00m\n\u001b[1;32m---> <a href='vscode-notebook-cell:/c%3A/Users/Nithin%20Kumar/Downloads/BRAHAMADEVARA_SF43377_Week4_Exitticket.ipynb#Y123sZmlsZQ%3D%3D?line=17'>18</a>\u001b[0m \u001b[39mimport\u001b[39;00m \u001b[39mpandas\u001b[39;00m \u001b[39mas\u001b[39;00m \u001b[39mpd\u001b[39;00m\n\u001b[0;32m     <a href='vscode-notebook-cell:/c%3A/Users/Nithin%20Kumar/Downloads/BRAHAMADEVARA_SF43377_Week4_Exitticket.ipynb#Y123sZmlsZQ%3D%3D?line=18'>19</a>\u001b[0m data \u001b[39m=\u001b[39m pd\u001b[39m.\u001b[39mDataFrame({\n\u001b[0;32m     <a href='vscode-notebook-cell:/c%3A/Users/Nithin%20Kumar/Downloads/BRAHAMADEVARA_SF43377_Week4_Exitticket.ipynb#Y123sZmlsZQ%3D%3D?line=19'>20</a>\u001b[0m     \u001b[39m'\u001b[39m\u001b[39mfeature1\u001b[39m\u001b[39m'\u001b[39m: [\u001b[39m2.0\u001b[39m, \u001b[39m3.0\u001b[39m, \u001b[39m5.0\u001b[39m, \u001b[39m1.0\u001b[39m, \u001b[39m4.0\u001b[39m],\n\u001b[0;32m     <a href='vscode-notebook-cell:/c%3A/Users/Nithin%20Kumar/Downloads/BRAHAMADEVARA_SF43377_Week4_Exitticket.ipynb#Y123sZmlsZQ%3D%3D?line=20'>21</a>\u001b[0m     \u001b[39m'\u001b[39m\u001b[39mfeature2\u001b[39m\u001b[39m'\u001b[39m: [\u001b[39m10.0\u001b[39m, \u001b[39m15.0\u001b[39m, \u001b[39m20.0\u001b[39m, \u001b[39m5.0\u001b[39m, \u001b[39m18.0\u001b[39m],\n\u001b[0;32m     <a href='vscode-notebook-cell:/c%3A/Users/Nithin%20Kumar/Downloads/BRAHAMADEVARA_SF43377_Week4_Exitticket.ipynb#Y123sZmlsZQ%3D%3D?line=21'>22</a>\u001b[0m     \u001b[39m'\u001b[39m\u001b[39mcategory\u001b[39m\u001b[39m'\u001b[39m: [\u001b[39m'\u001b[39m\u001b[39mA\u001b[39m\u001b[39m'\u001b[39m, \u001b[39m'\u001b[39m\u001b[39mB\u001b[39m\u001b[39m'\u001b[39m, \u001b[39m'\u001b[39m\u001b[39mA\u001b[39m\u001b[39m'\u001b[39m, \u001b[39m'\u001b[39m\u001b[39mC\u001b[39m\u001b[39m'\u001b[39m, \u001b[39m'\u001b[39m\u001b[39mB\u001b[39m\u001b[39m'\u001b[39m]\n\u001b[0;32m     <a href='vscode-notebook-cell:/c%3A/Users/Nithin%20Kumar/Downloads/BRAHAMADEVARA_SF43377_Week4_Exitticket.ipynb#Y123sZmlsZQ%3D%3D?line=22'>23</a>\u001b[0m })\n\u001b[0;32m     <a href='vscode-notebook-cell:/c%3A/Users/Nithin%20Kumar/Downloads/BRAHAMADEVARA_SF43377_Week4_Exitticket.ipynb#Y123sZmlsZQ%3D%3D?line=24'>25</a>\u001b[0m preprocessor \u001b[39m=\u001b[39m DataPreprocessor(data)\n",
      "\u001b[1;31mModuleNotFoundError\u001b[0m: No module named 'pandas'"
     ]
    }
   ],
   "source": [
    "class DataPreprocessor:\n",
    "    def __init__(self, data):\n",
    "        self.data = data\n",
    "    \n",
    "    def clean_data(self):\n",
    "        # Example data cleaning: remove missing values\n",
    "        self.data = self.data.dropna()\n",
    "    \n",
    "    def scale_features(self):\n",
    "        # Example feature scaling: min-max scaling\n",
    "        self.data['feature1'] = (self.data['feature1'] - self.data['feature1'].min()) / (self.data['feature1'].max() - self.data['feature1'].min())\n",
    "    \n",
    "    def encode_categorical(self):\n",
    "        # Example categorical encoding: one-hot encoding\n",
    "        self.data = pd.get_dummies(self.data, columns=['category'])\n",
    "\n",
    "# Dummy data\n",
    "import pandas as pd\n",
    "data = pd.DataFrame({\n",
    "    'feature1': [2.0, 3.0, 5.0, 1.0, 4.0],\n",
    "    'feature2': [10.0, 15.0, 20.0, 5.0, 18.0],\n",
    "    'category': ['A', 'B', 'A', 'C', 'B']\n",
    "})\n",
    "\n",
    "preprocessor = DataPreprocessor(data)\n",
    "preprocessor.clean_data()\n",
    "preprocessor.scale_features()\n",
    "preprocessor.encode_categorical()\n",
    "\n",
    "print(preprocessor.data)\n"
   ]
  },
  {
   "cell_type": "code",
   "execution_count": null,
   "id": "f9c7d908",
   "metadata": {},
   "outputs": [],
   "source": []
  },
  {
   "cell_type": "markdown",
   "id": "b4ec6111",
   "metadata": {},
   "source": [
    "Exercise 2: Machine Learning Models"
   ]
  },
  {
   "cell_type": "code",
   "execution_count": null,
   "id": "54da619f",
   "metadata": {},
   "outputs": [],
   "source": [
    "from sklearn.linear_model import LinearRegression\n",
    "from sklearn.metrics import mean_squared_error\n",
    "\n",
    "class LinearRegressionModel:\n",
    "    def __init__(self):\n",
    "        self.model = LinearRegression()\n",
    "    \n",
    "    def train(self, X, y):\n",
    "        self.model.fit(X, y)\n",
    "    \n",
    "    def predict(self, X):\n",
    "        return self.model.predict(X)\n",
    "    \n",
    "    def evaluate(self, X_test, y_test):\n",
    "        y_pred = self.predict(X_test)\n",
    "        return mean_squared_error(y_test, y_pred)\n",
    "\n",
    "# Dummy data\n",
    "import numpy as np\n",
    "X_train = np.array([[1.0], [2.0], [3.0], [4.0]])\n",
    "y_train = np.array([2.0, 4.0, 6.0, 8.0])\n",
    "X_test = np.array([[5.0], [6.0]])\n",
    "y_test = np.array([10.0, 12.0])\n",
    "\n",
    "model = LinearRegressionModel()\n",
    "model.train(X_train, y_train)\n",
    "predictions = model.predict(X_test)\n",
    "mse = model.evaluate(X_test, y_test)\n",
    "\n",
    "print(\"Predictions:\", predictions)\n",
    "print(\"Mean Squared Error:\", mse)\n"
   ]
  },
  {
   "cell_type": "markdown",
   "id": "3eaf3b65",
   "metadata": {},
   "source": [
    "Exercise 4: Data Exploration Toolkit"
   ]
  },
  {
   "cell_type": "code",
   "execution_count": null,
   "id": "84fba8b5",
   "metadata": {},
   "outputs": [],
   "source": [
    "class DataExplorer:\n",
    "    def __init__(self, data):\n",
    "        self.data = data\n",
    "    \n",
    "    def summary_statistics(self):\n",
    "        return self.data.describe()\n",
    "    \n",
    "    def plot_histograms(self):\n",
    "        self.data.hist()\n",
    "        plt.show()\n",
    "    \n",
    "    def correlation_matrix(self):\n",
    "        return self.data.corr()\n",
    "\n",
    "# Dummy data\n",
    "data = pd.DataFrame({\n",
    "    'feature1': [1.0, 2.0, 3.0, 4.0, 5.0],\n",
    "    'feature2': [10.0, 15.0, 20.0, 25.0, 30.0],\n",
    "    'target': [2.0, 4.0, 6.0, 8.0, 10.0]\n",
    "})\n",
    "\n",
    "explorer = DataExplorer(data)\n",
    "summary = explorer.summary_statistics()\n",
    "explorer.plot_histograms()\n",
    "correlation = explorer.correlation_matrix()\n",
    "\n",
    "print(\"Summary Statistics:\\n\", summary)\n",
    "print(\"Correlation Matrix:\\n\", correlation)\n"
   ]
  },
  {
   "cell_type": "code",
   "execution_count": null,
   "id": "646086f9",
   "metadata": {},
   "outputs": [],
   "source": []
  },
  {
   "cell_type": "markdown",
   "id": "04b45259",
   "metadata": {},
   "source": [
    "Exercise 11: Error Handling for Data Loading\n",
    "\n",
    "Create a class for loading data from various sources (e.g., CSV, JSON, database) and implement error handling for file not found, format errors, and database connection issues."
   ]
  },
  {
   "cell_type": "code",
   "execution_count": 3,
   "id": "504c458e",
   "metadata": {},
   "outputs": [
    {
     "ename": "NameError",
     "evalue": "name 'pd' is not defined",
     "output_type": "error",
     "traceback": [
      "\u001b[1;31m---------------------------------------------------------------------------\u001b[0m",
      "\u001b[1;31mNameError\u001b[0m                                 Traceback (most recent call last)",
      "\u001b[1;32mc:\\Users\\Nithin Kumar\\Downloads\\BRAHAMADEVARA_SF43377_Week4_Exitticket.ipynb Cell 75\u001b[0m line \u001b[0;36m8\n\u001b[0;32m      <a href='vscode-notebook-cell:/c%3A/Users/Nithin%20Kumar/Downloads/BRAHAMADEVARA_SF43377_Week4_Exitticket.ipynb#Y134sZmlsZQ%3D%3D?line=6'>7</a>\u001b[0m \u001b[39mif\u001b[39;00m \u001b[39mself\u001b[39m\u001b[39m.\u001b[39msource\u001b[39m.\u001b[39mendswith(\u001b[39m'\u001b[39m\u001b[39m.csv\u001b[39m\u001b[39m'\u001b[39m):\n\u001b[1;32m----> <a href='vscode-notebook-cell:/c%3A/Users/Nithin%20Kumar/Downloads/BRAHAMADEVARA_SF43377_Week4_Exitticket.ipynb#Y134sZmlsZQ%3D%3D?line=7'>8</a>\u001b[0m     data \u001b[39m=\u001b[39m pd\u001b[39m.\u001b[39mread_csv(\u001b[39mself\u001b[39m\u001b[39m.\u001b[39msource)\n\u001b[0;32m      <a href='vscode-notebook-cell:/c%3A/Users/Nithin%20Kumar/Downloads/BRAHAMADEVARA_SF43377_Week4_Exitticket.ipynb#Y134sZmlsZQ%3D%3D?line=8'>9</a>\u001b[0m \u001b[39melif\u001b[39;00m \u001b[39mself\u001b[39m\u001b[39m.\u001b[39msource\u001b[39m.\u001b[39mendswith(\u001b[39m'\u001b[39m\u001b[39m.json\u001b[39m\u001b[39m'\u001b[39m):\n",
      "\u001b[1;31mNameError\u001b[0m: name 'pd' is not defined",
      "\nDuring handling of the above exception, another exception occurred:\n",
      "\u001b[1;31mNameError\u001b[0m                                 Traceback (most recent call last)",
      "\u001b[1;32mc:\\Users\\Nithin Kumar\\Downloads\\BRAHAMADEVARA_SF43377_Week4_Exitticket.ipynb Cell 75\u001b[0m line \u001b[0;36m2\n\u001b[0;32m     <a href='vscode-notebook-cell:/c%3A/Users/Nithin%20Kumar/Downloads/BRAHAMADEVARA_SF43377_Week4_Exitticket.ipynb#Y134sZmlsZQ%3D%3D?line=19'>20</a>\u001b[0m             \u001b[39m# Log the error\u001b[39;00m\n\u001b[0;32m     <a href='vscode-notebook-cell:/c%3A/Users/Nithin%20Kumar/Downloads/BRAHAMADEVARA_SF43377_Week4_Exitticket.ipynb#Y134sZmlsZQ%3D%3D?line=20'>21</a>\u001b[0m \n\u001b[0;32m     <a href='vscode-notebook-cell:/c%3A/Users/Nithin%20Kumar/Downloads/BRAHAMADEVARA_SF43377_Week4_Exitticket.ipynb#Y134sZmlsZQ%3D%3D?line=21'>22</a>\u001b[0m \u001b[39m# Example usage:\u001b[39;00m\n\u001b[0;32m     <a href='vscode-notebook-cell:/c%3A/Users/Nithin%20Kumar/Downloads/BRAHAMADEVARA_SF43377_Week4_Exitticket.ipynb#Y134sZmlsZQ%3D%3D?line=22'>23</a>\u001b[0m data_loader \u001b[39m=\u001b[39m DataLoader(\u001b[39m\"\u001b[39m\u001b[39mdata.csv\u001b[39m\u001b[39m\"\u001b[39m)\n\u001b[1;32m---> <a href='vscode-notebook-cell:/c%3A/Users/Nithin%20Kumar/Downloads/BRAHAMADEVARA_SF43377_Week4_Exitticket.ipynb#Y134sZmlsZQ%3D%3D?line=23'>24</a>\u001b[0m loaded_data \u001b[39m=\u001b[39m data_loader\u001b[39m.\u001b[39;49mload_data()\n",
      "\u001b[1;32mc:\\Users\\Nithin Kumar\\Downloads\\BRAHAMADEVARA_SF43377_Week4_Exitticket.ipynb Cell 75\u001b[0m line \u001b[0;36m1\n\u001b[0;32m     <a href='vscode-notebook-cell:/c%3A/Users/Nithin%20Kumar/Downloads/BRAHAMADEVARA_SF43377_Week4_Exitticket.ipynb#Y134sZmlsZQ%3D%3D?line=13'>14</a>\u001b[0m \u001b[39mexcept\u001b[39;00m \u001b[39mFileNotFoundError\u001b[39;00m \u001b[39mas\u001b[39;00m e:\n\u001b[0;32m     <a href='vscode-notebook-cell:/c%3A/Users/Nithin%20Kumar/Downloads/BRAHAMADEVARA_SF43377_Week4_Exitticket.ipynb#Y134sZmlsZQ%3D%3D?line=14'>15</a>\u001b[0m     \u001b[39mprint\u001b[39m(\u001b[39mf\u001b[39m\u001b[39m\"\u001b[39m\u001b[39mFile not found: \u001b[39m\u001b[39m{\u001b[39;00me\u001b[39m}\u001b[39;00m\u001b[39m\"\u001b[39m)\n\u001b[1;32m---> <a href='vscode-notebook-cell:/c%3A/Users/Nithin%20Kumar/Downloads/BRAHAMADEVARA_SF43377_Week4_Exitticket.ipynb#Y134sZmlsZQ%3D%3D?line=15'>16</a>\u001b[0m \u001b[39mexcept\u001b[39;00m pd\u001b[39m.\u001b[39merrors\u001b[39m.\u001b[39mParserError \u001b[39mas\u001b[39;00m e:\n\u001b[0;32m     <a href='vscode-notebook-cell:/c%3A/Users/Nithin%20Kumar/Downloads/BRAHAMADEVARA_SF43377_Week4_Exitticket.ipynb#Y134sZmlsZQ%3D%3D?line=16'>17</a>\u001b[0m     \u001b[39mprint\u001b[39m(\u001b[39mf\u001b[39m\u001b[39m\"\u001b[39m\u001b[39mData format error: \u001b[39m\u001b[39m{\u001b[39;00me\u001b[39m}\u001b[39;00m\u001b[39m\"\u001b[39m)\n\u001b[0;32m     <a href='vscode-notebook-cell:/c%3A/Users/Nithin%20Kumar/Downloads/BRAHAMADEVARA_SF43377_Week4_Exitticket.ipynb#Y134sZmlsZQ%3D%3D?line=17'>18</a>\u001b[0m \u001b[39mexcept\u001b[39;00m \u001b[39mException\u001b[39;00m \u001b[39mas\u001b[39;00m e:\n",
      "\u001b[1;31mNameError\u001b[0m: name 'pd' is not defined"
     ]
    }
   ],
   "source": [
    "class DataLoader:\n",
    "    def __init__(self, source):\n",
    "        self.source = source\n",
    "    \n",
    "    def load_data(self):\n",
    "        try:\n",
    "            if self.source.endswith('.csv'):\n",
    "                data = pd.read_csv(self.source)\n",
    "            elif self.source.endswith('.json'):\n",
    "                data = pd.read_json(self.source)\n",
    "            else:\n",
    "                raise ValueError(\"Unsupported file format\")\n",
    "            return data\n",
    "        except FileNotFoundError as e:\n",
    "            print(f\"File not found: {e}\")\n",
    "        except pd.errors.ParserError as e:\n",
    "            print(f\"Data format error: {e}\")\n",
    "        except Exception as e:\n",
    "            print(f\"An error occurred: {e}\")\n",
    "            # Log the error\n",
    "\n",
    "# Example usage:\n",
    "data_loader = DataLoader(\"data.csv\")\n",
    "loaded_data = data_loader.load_data()\n"
   ]
  },
  {
   "cell_type": "markdown",
   "id": "0574f8c7",
   "metadata": {},
   "source": [
    "Exercise 12: Custom Exception Handling\n",
    "\n",
    "Create a custom exception class for handling specific errors related to data validation in a data preprocessing pipeline."
   ]
  },
  {
   "cell_type": "code",
   "execution_count": null,
   "id": "dde4f981",
   "metadata": {},
   "outputs": [],
   "source": [
    "class DataValidationError(Exception):\n",
    "    def __init__(self, message):\n",
    "        super().__init__(message)\n",
    "\n",
    "class DataPreprocessor:\n",
    "    def __init__(self, data):\n",
    "        self.data = data\n",
    "    \n",
    "    def validate_data(self):\n",
    "        if 'target' not in self.data.columns:\n",
    "            raise DataValidationError(\"Missing target column 'target'\")\n",
    "        if len(self.data) < 10:\n",
    "            raise DataValidationError(\"Insufficient data for preprocessing\")\n",
    "    \n",
    "    def preprocess_data(self):\n",
    "        try:\n",
    "            self.validate_data()\n",
    "            # Perform data preprocessing\n",
    "        except DataValidationError as e:\n",
    "            print(f\"Data validation error: {e}\")\n",
    "\n",
    "# Example usage:\n",
    "data = pd.DataFrame({\n",
    "    'feature1': [1.0, 2.0, 3.0, 4.0, 5.0],\n",
    "    'feature2': [10.0, 15.0, 20.0, 25.0, 30.0]\n",
    "})\n",
    "\n",
    "preprocessor = DataPreprocessor(data)\n",
    "preprocessor.preprocess_data()\n"
   ]
  },
  {
   "cell_type": "markdown",
   "id": "d0dd6a6c",
   "metadata": {},
   "source": [
    "Exercise 13: Database Connection Handling\n",
    "\n",
    "Create a class for connecting to a database and handle exceptions related to database connection errors."
   ]
  },
  {
   "cell_type": "code",
   "execution_count": null,
   "id": "902c851f",
   "metadata": {},
   "outputs": [],
   "source": [
    "import sqlite3\n",
    "\n",
    "class DatabaseConnector:\n",
    "    def __init__(self, database_file):\n",
    "        self.database_file = database_file\n",
    "    \n",
    "    def connect(self):\n",
    "        try:\n",
    "            connection = sqlite3.connect(self.database_file)\n",
    "            return connection\n",
    "        except sqlite3.Error as e:\n",
    "            print(f\"Database connection error: {e}\")\n",
    "    \n",
    "    def execute_query(self, query):\n",
    "        try:\n",
    "            connection = self.connect()\n",
    "            cursor = connection.cursor()\n",
    "            cursor.execute(query)\n",
    "            return cursor.fetchall()\n",
    "        except sqlite3.Error as e:\n",
    "            print(f\"Database error: {e}\")\n",
    "        finally:\n",
    "            if connection:\n",
    "                connection.close()\n",
    "\n",
    "# Example usage:\n",
    "db_connector = DatabaseConnector(\"mydb.db\")\n",
    "query = \"SELECT * FROM mytable\"\n",
    "results = db_connector.execute_query(query)\n"
   ]
  }
 ],
 "metadata": {
  "kernelspec": {
   "display_name": "Python 3 (ipykernel)",
   "language": "python",
   "name": "python3"
  },
  "language_info": {
   "codemirror_mode": {
    "name": "ipython",
    "version": 3
   },
   "file_extension": ".py",
   "mimetype": "text/x-python",
   "name": "python",
   "nbconvert_exporter": "python",
   "pygments_lexer": "ipython3",
   "version": "3.11.5"
  }
 },
 "nbformat": 4,
 "nbformat_minor": 5
}
