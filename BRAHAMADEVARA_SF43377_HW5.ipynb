{
 "cells": [
  {
   "cell_type": "markdown",
   "id": "7b64915d",
   "metadata": {},
   "source": [
    "## I) Analyzing Sales Data**\n",
    "\n",
    "Let's assume you have a dataset containing sales records for an e-commerce platform. You want to calculate the total revenue for each product category, handle potential exceptions in the data, and write the results to a CSV file."
   ]
  },
  {
   "cell_type": "code",
   "execution_count": 1,
   "id": "4267eb68",
   "metadata": {},
   "outputs": [
    {
     "name": "stdout",
     "output_type": "stream",
     "text": [
      "Data written to category_revenue.csv successfully.\n"
     ]
    }
   ],
   "source": [
    "import csv\n",
    "\n",
    "# \n",
    "sales_data = [\n",
    "    {\"Product\": \"Laptop\", \"Category\": \"Electronics\", \"Revenue\": 1500},\n",
    "    {\"Product\": \"Tablet\", \"Category\": \"Electronics\", \"Revenue\": 500},\n",
    "    {\"Product\": \"Shirt\", \"Category\": \"Apparel\", \"Revenue\": 30},\n",
    "    # More sales data...\n",
    "]\n",
    "\n",
    "#\n",
    "class Product:\n",
    "    def __init__(self, product_name, category, revenue):\n",
    "        self.product_name = product_name\n",
    "        self.category = category\n",
    "        self.revenue = revenue\n",
    "\n",
    "# \n",
    "products = [Product(item[\"Product\"], item[\"Category\"], item[\"Revenue\"]) for item in sales_data]\n",
    "\n",
    "# \n",
    "category_revenue = {}\n",
    "\n",
    "# \n",
    "for product in products:\n",
    "    category = product.category\n",
    "    revenue = product.revenue\n",
    "    category_revenue[category] = category_revenue.get(category, 0) + revenue\n",
    "\n",
    "# \n",
    "try:\n",
    "    # \n",
    "    with open(\"category_revenue.csv\", mode=\"w\", newline=\"\") as file:\n",
    "        writer = csv.writer(file)\n",
    "        \n",
    "        # Write headers\n",
    "        writer.writerow([\"Category\", \"Total Revenue\"])\n",
    "        \n",
    "        # \n",
    "        for category, revenue in category_revenue.items():\n",
    "            writer.writerow([category, revenue])\n",
    "    print(\"Data written to category_revenue.csv successfully.\")\n",
    "except IOError:\n",
    "    print(\"An error occurred while writing the data to the file.\")\n",
    "except Exception as e:\n",
    "    print(f\"An unexpected error occurred: {str(e)}\")\n"
   ]
  },
  {
   "cell_type": "markdown",
   "id": "46f5da57",
   "metadata": {},
   "source": [
    "Question 1: What does this code do, and what is its purpose?"
   ]
  },
  {
   "cell_type": "code",
   "execution_count": null,
   "id": "3d9f42a3",
   "metadata": {},
   "outputs": [],
   "source": [
    "import csv\n",
    "The csv module which is used to implement  for the read as well as write the tabular data i csv format. were csv is a built in module.\n"
   ]
  },
  {
   "cell_type": "markdown",
   "id": "bb5ba7d6",
   "metadata": {},
   "source": [
    "Question 2: What is the purpose of the sales_data list, and what does it contain?"
   ]
  },
  {
   "cell_type": "code",
   "execution_count": 2,
   "id": "594dbcfe",
   "metadata": {},
   "outputs": [],
   "source": [
    "# \n",
    "sales_data = [\n",
    "    {\"Product\": \"Laptop\", \"Category\": \"Electronics\", \"Revenue\": 1500},\n",
    "    {\"Product\": \"Tablet\", \"Category\": \"Electronics\", \"Revenue\": 500},\n",
    "    {\"Product\": \"Shirt\", \"Category\": \"Apparel\", \"Revenue\": 30},\n",
    "    # More sales data...\n",
    "]\n"
   ]
  },
  {
   "cell_type": "code",
   "execution_count": null,
   "id": "b146b219",
   "metadata": {},
   "outputs": [],
   "source": [
    "a)The purpose of the sales data which creates the list of the sales_data were it cointains the Product as well as revenue. \n",
    "b)were here the dictionary which represents the single transaction "
   ]
  },
  {
   "cell_type": "markdown",
   "id": "d7edf273",
   "metadata": {},
   "source": [
    "Question 3: What is the purpose of the Product class?"
   ]
  },
  {
   "cell_type": "code",
   "execution_count": null,
   "id": "f226a5f4",
   "metadata": {},
   "outputs": [],
   "source": [
    "# \n",
    "class Product:\n",
    "    def __init__(self, product_name, category, revenue):\n",
    "        self.product_name = product_name\n",
    "        self.category = category\n",
    "        self.revenue = revenue\n"
   ]
  },
  {
   "cell_type": "code",
   "execution_count": null,
   "id": "6030a7ef",
   "metadata": {},
   "outputs": [],
   "source": [
    "where here the product class is used to reprsent the product name, category as well as revenue"
   ]
  },
  {
   "cell_type": "markdown",
   "id": "67d7b111",
   "metadata": {},
   "source": [
    "Question 4: What does this line of code do, and why is it used?"
   ]
  },
  {
   "cell_type": "code",
   "execution_count": null,
   "id": "72e42692",
   "metadata": {},
   "outputs": [],
   "source": [
    "# \n",
    "products = [Product(item[\"Product\"], item[\"Category\"], item[\"Revenue\"]) for item in sales_data]\n"
   ]
  },
  {
   "cell_type": "code",
   "execution_count": null,
   "id": "19404e4a",
   "metadata": {},
   "outputs": [],
   "source": [
    "a)The line of the code perform the in a single line the code can be executed it is easy to execute as in a single line product,category and revenue were represented.\n",
    "b) Here the line is used which create the objects for the product."
   ]
  },
  {
   "cell_type": "markdown",
   "id": "aca62ba5",
   "metadata": {},
   "source": [
    "Question 5: What is the purpose of the category_revenue dictionary, and what does it store?"
   ]
  },
  {
   "cell_type": "code",
   "execution_count": null,
   "id": "5183117c",
   "metadata": {},
   "outputs": [],
   "source": [
    "# \n",
    "category_revenue = {}\n"
   ]
  },
  {
   "cell_type": "code",
   "execution_count": null,
   "id": "975b189f",
   "metadata": {},
   "outputs": [],
   "source": [
    "a)The main purpose of the category_revenue dictionary is to add the total revenue to it and it will give the final result.\n",
    "b)The purpose of the category revenue dictionary is to store the total revenue."
   ]
  },
  {
   "cell_type": "markdown",
   "id": "3d083325",
   "metadata": {},
   "source": [
    "Question 6: What does the following block of code do, and why is it important?"
   ]
  },
  {
   "cell_type": "code",
   "execution_count": null,
   "id": "a0a29da6",
   "metadata": {},
   "outputs": [],
   "source": [
    "# \n",
    "for product in products:\n",
    "    category = product.category\n",
    "    revenue = product.revenue\n",
    "    category_revenue[category] = category_revenue.get(category, 0) + revenue\n"
   ]
  },
  {
   "cell_type": "code",
   "execution_count": null,
   "id": "e9e1a5e0",
   "metadata": {},
   "outputs": [],
   "source": [
    "a)Intially the category and the revenue will be initialized then they both are given to the final one and gives the final result.\n",
    "b)it is important because as it gives the final revenue so it is important."
   ]
  },
  {
   "cell_type": "markdown",
   "id": "aea5bfa7",
   "metadata": {},
   "source": [
    "Question 7: What is the purpose of the following code block, and how does it help ensure code reliability?"
   ]
  },
  {
   "cell_type": "code",
   "execution_count": null,
   "id": "7a2369b5",
   "metadata": {},
   "outputs": [],
   "source": [
    "# \n",
    "try:\n",
    "    # \n",
    "    with open(\"category_revenue.csv\", mode=\"w\", newline=\"\") as file:\n",
    "        writer = csv.writer(file)\n",
    "        \n",
    "        # Write headers\n",
    "        writer.writerow([\"Category\", \"Total Revenue\"])\n",
    "        \n",
    "        # Write data\n",
    "        for category, revenue in category_revenue.items():\n",
    "            writer.writerow([category, revenue])\n",
    "    print(\"Data written to category_revenue.csv successfully.\")\n",
    "except IOError:\n",
    "    print(\"An error occurred while writing the data to the file.\")\n",
    "except Exception as e:\n",
    "    print(f\"An unexpected error occurred: {str(e)}\")\n"
   ]
  },
  {
   "cell_type": "code",
   "execution_count": null,
   "id": "e8fbd22a",
   "metadata": {},
   "outputs": [],
   "source": [
    "If we use the try block were it handles the error so the the execution will not stop and will not give any erros. as it implements\n",
    "As it is reliable because it explains the errors so that we can rectify our mistake."
   ]
  },
  {
   "cell_type": "markdown",
   "id": "c507fac4",
   "metadata": {},
   "source": [
    "## III) Fill the missing code block "
   ]
  },
  {
   "cell_type": "code",
   "execution_count": null,
   "id": "5367c87c",
   "metadata": {},
   "outputs": [],
   "source": [
    "import csv  #  import the CSV module\n",
    "\n",
    "# \n",
    "sales_data = [\n",
    "    {\"Product\": \"Laptop\", \"Category\": \"Electronics\", \"Revenue\": 1500},\n",
    "    {\"Product\": \"Tablet\", \"Category\": \"Electronics\", \"Revenue\": 500},\n",
    "    {\"Product\": \"Shirt\", \"Category\": \"Apparel\", \"Revenue\": 30},\n",
    "    # More sales data...\n",
    "]\n",
    "\n",
    "# \n",
    "class Product:\n",
    "    def __init__(self, product_name, category, revenue):\n",
    "        self.product_name = product_name\n",
    "        self.category = category\n",
    "        self.revenue = revenue\n",
    "\n",
    "# \n",
    "products = [Product(item[\"Product\"], item[\"Category\"], item[\"Revenue\"]) for item in sales_data]\n",
    "\n",
    "# \n",
    "category_revenue = {}\n",
    "\n",
    "# \n",
    "for product in products:\n",
    "    # Extract the category and revenue from the product object\n",
    "    category = product.category\n",
    "    revenue = product.revenue\n",
    "    \n",
    "    # Update the category_revenue dictionary (fill in the code to update the dictionary)\n",
    "\n",
    "# \n",
    "try:\n",
    "    # Open a CSV file for writing (fill in the file handling code)\n",
    "    with open(\"category_revenue.csv\", mode=\"w\", newline=\"\") as file:\n",
    "        writer = csv.writer(file)\n",
    "        \n",
    "        # Write headers\n",
    "        writer.writerow([\"Category\", \"Total Revenue\"])\n",
    "        \n",
    "        # Write data (fill in the code to write data)\n",
    "    \n",
    "    print(\"Data written to category_revenue.csv successfully.\")\n",
    "except IOError:\n",
    "    print(\"An error occurred while writing the data to the file.\")\n",
    "except Exception as e:\n",
    "    print(f\"An unexpected error occurred: {str(e)}\")\n"
   ]
  },
  {
   "cell_type": "markdown",
   "id": "2083792f",
   "metadata": {},
   "source": [
    "\n",
    "\n",
    "1. What Python module is imported at the beginning of the code, and why is it necessary for this task?\n",
    "- CSV module is a built in function and we will give it at the beginning were it implements  for the read as well as write the tabular data i csv format\n",
    "\n",
    "2. How is the sales data represented in the code, and what are its components?\n",
    "- The purpose of the sales data which creates the list of the sales_data were it cointains the Product as well as revenue. were here the dictionary which represents the single transaction \n",
    "\n",
    "3.  Explain the purpose of the `Product` class in this code.\n",
    "   - What attributes does each `Product` object have, and how are they initialized?\n",
    "   where here the product class is used to reprsent the product name, category as well as revenue .The product class is creating the objects which has the indiciduals were total it has the 3 attributes  product_name,category,revenue.\n",
    "\n",
    "4. How is a list of `Product` objects created from the `sales_data` list using list comprehension?\n",
    "- products = [Product(item[\"Product\"], item[\"Category\"], item[\"Revenue\"]) for item in sales_data], By using list comprehensions it will iterate all the attributes whih ae here\n",
    "\n",
    "5. Describe the process of calculating the total revenue per category. What is the role of the `category_revenue` dictionary?\n",
    "- It is telling the revenue in each category. Calculating it, we need each product categry with the sum of revenue.\n",
    "6. Inside the loop for calculating total revenue, what condition is checked for each `Product` object?\n",
    "   - How is the `category_revenue` dictionary updated based on the condition?\n",
    "- Inside the loop, first it will see whether the product category already exist then seeing the result it will create new categories and updates the total revenue of the category.\n",
    "7. \n",
    "   - Why is exception handling important in this code?\n",
    "   - What types of exceptions are handled in the code, and why are they relevant to file operations?\n",
    "- ecause it enables the smooth handling of unforeseen or incorrect situations, prevents crashes, allows the programme to recover or deliver helpful error messages, and increases the robustness and dependability of software, exception handling is vital in coding.\n",
    "8. \n",
    "   - How is the CSV file \"category_revenue.csv\" created and opened for writing?\n",
    "   - Describe the steps involved in writing data to the CSV file, including headers and data rows.\n",
    " - using open(), to open the csv file and able for viewing, and also write to edit the csv file and we can create new data in the csv file and using pandas, dataframe to view headers.\n",
    "9.\n",
    "   - What message is printed to the console upon successful completion of writing data to the CSV file?\n",
    "   - What messages are displayed in case of file-related errors or unexpected exceptions?\n",
    "- \"Data written to category_revenue.csv successfully.\", \"An error occurred while writing the data to the file.\", (f\"An unexpected error occurred: {str(e)}\")\n",
    "\n",
    "10. Summary\n",
    "    - Summarize the main objective of this code, including the input data, processing steps, and the final output.\n",
    "- the summary of this code is to calculate the total revenue using each product category.\n"
   ]
  },
  {
   "cell_type": "markdown",
   "id": "23d22691",
   "metadata": {},
   "source": [
    "## III) Student Record Processing"
   ]
  },
  {
   "cell_type": "markdown",
   "id": "216c1739",
   "metadata": {},
   "source": [
    "\n",
    "Objective: Process a CSV file containing student records and perform data analysis tasks using Python, including data filtering, calculation, and error handling.\n",
    "\n",
    "Instructions:\n",
    "\n",
    "1. Create a `Student` class with the following attributes: `student_id`, `name`, `score`, and `grade`. Implement a constructor to initialize these attributes.\n",
    "\n",
    "2. Read the data from the CSV file \"student_records.csv\" into a list of `Student` objects. The CSV file contains columns: \"Student ID\", \"Name\", and \"Score\". Calculate the grade for each student based on the following criteria:\n",
    "   - A: Score >= 90\n",
    "   - B: 80 <= Score < 90\n",
    "   - C: 70 <= Score < 80\n",
    "   - D: 60 <= Score < 70\n",
    "   - F: Score < 60\n",
    "\n",
    "3. Use list comprehension to create a list of students who received an \"A\" grade.\n",
    "\n",
    "4. Calculate the average score for all students.\n",
    "\n",
    "5. Handle exceptions: Implement error handling for file-related exceptions when reading the CSV file and for value-related exceptions when calculating grades (e.g., invalid scores). Print informative error messages for each exception.\n",
    "\n",
    "\n",
    "\n",
    "\n",
    "\n"
   ]
  },
  {
   "cell_type": "markdown",
   "id": "b6db1e9b",
   "metadata": {},
   "source": [
    " - Complete the missing parts of the code to define the `Student` class, read data from the CSV file, calculate grades, create a list of \"A\" grade students, and calculate the average score.\n",
    " \n",
    "- Implement error handling for file-related and value-related exceptions as described in the instructions.\n",
    "\n",
    "- Test the code with the provided \"student_records.csv\" file or any other similar dataset.\n",
    "\n",
    "- Consider adding additional data analysis tasks or customizations to further challenge students.\n"
   ]
  },
  {
   "cell_type": "code",
   "execution_count": 4,
   "id": "05375b73",
   "metadata": {},
   "outputs": [
    {
     "name": "stdout",
     "output_type": "stream",
     "text": [
      "An error occurred\n"
     ]
    }
   ],
   "source": [
    "class student:\n",
    "    def __init__(self, student_id, name, score):\n",
    "        self.student_id = student_id\n",
    "        self.name = name\n",
    "        self.score = score\n",
    "try:\n",
    "    with open('students.csv') as nitin:\n",
    "        brahma = [{s: w for s, w in row.items()}\n",
    "        for row in csv.DictReader(nitin, skipinitialspace=True)]        \n",
    "except IOError:\n",
    "    print(\"An error occurred\")\n",
    "except Exception as kumar:\n",
    "    print(f\"Another error occurred: {str(kumar)}\")        \n",
    "\n"
   ]
  },
  {
   "cell_type": "code",
   "execution_count": 5,
   "id": "3842ae1b",
   "metadata": {},
   "outputs": [
    {
     "ename": "NameError",
     "evalue": "name 'brahma' is not defined",
     "output_type": "error",
     "traceback": [
      "\u001b[1;31m---------------------------------------------------------------------------\u001b[0m",
      "\u001b[1;31mNameError\u001b[0m                                 Traceback (most recent call last)",
      "\u001b[1;32mc:\\Users\\Nithin Kumar\\Downloads\\BRAHAMADEVARA_SF43377_HW5.ipynb Cell 30\u001b[0m line \u001b[0;36m1\n\u001b[1;32m----> <a href='vscode-notebook-cell:/c%3A/Users/Nithin%20Kumar/Downloads/BRAHAMADEVARA_SF43377_HW5.ipynb#X45sZmlsZQ%3D%3D?line=0'>1</a>\u001b[0m devara \u001b[39m=\u001b[39m [student(item[\u001b[39m\"\u001b[39m\u001b[39mstudent_id\u001b[39m\u001b[39m\"\u001b[39m], item[\u001b[39m\"\u001b[39m\u001b[39mname\u001b[39m\u001b[39m\"\u001b[39m], item[\u001b[39m\"\u001b[39m\u001b[39mscore\u001b[39m\u001b[39m\"\u001b[39m]) \u001b[39mfor\u001b[39;00m item \u001b[39min\u001b[39;00m brahma]\n",
      "\u001b[1;31mNameError\u001b[0m: name 'brahma' is not defined"
     ]
    }
   ],
   "source": [
    "devara = [student(item[\"student_id\"], item[\"name\"], item[\"score\"]) for item in brahma]"
   ]
  },
  {
   "cell_type": "code",
   "execution_count": 6,
   "id": "03bf3f28",
   "metadata": {},
   "outputs": [
    {
     "ename": "NameError",
     "evalue": "name 'devara' is not defined",
     "output_type": "error",
     "traceback": [
      "\u001b[1;31m---------------------------------------------------------------------------\u001b[0m",
      "\u001b[1;31mNameError\u001b[0m                                 Traceback (most recent call last)",
      "\u001b[1;32mc:\\Users\\Nithin Kumar\\Downloads\\BRAHAMADEVARA_SF43377_HW5.ipynb Cell 31\u001b[0m line \u001b[0;36m1\n\u001b[1;32m----> <a href='vscode-notebook-cell:/c%3A/Users/Nithin%20Kumar/Downloads/BRAHAMADEVARA_SF43377_HW5.ipynb#X46sZmlsZQ%3D%3D?line=0'>1</a>\u001b[0m lists \u001b[39m=\u001b[39m[gr \u001b[39mfor\u001b[39;00m gr \u001b[39min\u001b[39;00m devara \u001b[39mif\u001b[39;00m \u001b[39mint\u001b[39m(gr\u001b[39m.\u001b[39mscore) \u001b[39m>\u001b[39m\u001b[39m=\u001b[39m \u001b[39m90\u001b[39m]\n",
      "\u001b[1;31mNameError\u001b[0m: name 'devara' is not defined"
     ]
    }
   ],
   "source": [
    "lists =[gr for gr in devara if int(gr.score) >= 90]"
   ]
  },
  {
   "cell_type": "code",
   "execution_count": 7,
   "id": "42de6461",
   "metadata": {},
   "outputs": [
    {
     "ename": "NameError",
     "evalue": "name 'devara' is not defined",
     "output_type": "error",
     "traceback": [
      "\u001b[1;31m---------------------------------------------------------------------------\u001b[0m",
      "\u001b[1;31mNameError\u001b[0m                                 Traceback (most recent call last)",
      "\u001b[1;32mc:\\Users\\Nithin Kumar\\Downloads\\BRAHAMADEVARA_SF43377_HW5.ipynb Cell 32\u001b[0m line \u001b[0;36m2\n\u001b[0;32m      <a href='vscode-notebook-cell:/c%3A/Users/Nithin%20Kumar/Downloads/BRAHAMADEVARA_SF43377_HW5.ipynb#X50sZmlsZQ%3D%3D?line=0'>1</a>\u001b[0m q \u001b[39m=\u001b[39m \u001b[39m0\u001b[39m\n\u001b[1;32m----> <a href='vscode-notebook-cell:/c%3A/Users/Nithin%20Kumar/Downloads/BRAHAMADEVARA_SF43377_HW5.ipynb#X50sZmlsZQ%3D%3D?line=1'>2</a>\u001b[0m \u001b[39mfor\u001b[39;00m i \u001b[39min\u001b[39;00m devara:\n\u001b[0;32m      <a href='vscode-notebook-cell:/c%3A/Users/Nithin%20Kumar/Downloads/BRAHAMADEVARA_SF43377_HW5.ipynb#X50sZmlsZQ%3D%3D?line=2'>3</a>\u001b[0m     scoring\u001b[39m=\u001b[39m\u001b[39mint\u001b[39m(i\u001b[39m.\u001b[39mscore)\n\u001b[0;32m      <a href='vscode-notebook-cell:/c%3A/Users/Nithin%20Kumar/Downloads/BRAHAMADEVARA_SF43377_HW5.ipynb#X50sZmlsZQ%3D%3D?line=3'>4</a>\u001b[0m avg\u001b[39m=\u001b[39mq\u001b[39m/\u001b[39m(\u001b[39mlen\u001b[39m(devara))  \n",
      "\u001b[1;31mNameError\u001b[0m: name 'devara' is not defined"
     ]
    }
   ],
   "source": [
    "q = 0\n",
    "for i in devara:\n",
    "    scoring=int(i.score)\n",
    "avg=q/(len(devara))  \n",
    "print(avg)"
   ]
  },
  {
   "cell_type": "code",
   "execution_count": null,
   "id": "78deb55d",
   "metadata": {},
   "outputs": [],
   "source": []
  },
  {
   "cell_type": "markdown",
   "id": "1d1f947d",
   "metadata": {},
   "source": [
    " ## IV) Data Analysis with Exception Handling**"
   ]
  },
  {
   "cell_type": "markdown",
   "id": "bb0498d1",
   "metadata": {},
   "source": [
    " Process a CSV file containing financial transaction data, calculate various statistics, and handle exceptions that may arise during data processing.\n",
    "\n",
    "Instructions:\n",
    "\n",
    "1. Create a `Transaction` class with the following attributes: `transaction_id`, `date`, `amount`, and `description`. Implement a constructor to initialize these attributes.\n",
    "\n",
    "2. Read the data from the CSV file \"financial_transactions.csv\" into a list of `Transaction` objects. The CSV file contains columns: \"Transaction ID\", \"Date\", \"Amount\", and \"Description\". Handle exceptions that may occur while reading the file (e.g., file not found).\n",
    "\n",
    "3. Calculate the following statistics:\n",
    "   - Total number of transactions.\n",
    "   - Total transaction amount.\n",
    "   - Average transaction amount.\n",
    "   - The highest transaction amount.\n",
    "   - The lowest transaction amount.\n",
    "\n",
    "4. Use a list comprehension to create a list of transactions with negative amounts.\n",
    "\n",
    "5. Handle exceptions when performing calculations (e.g., handling invalid amount values, division by zero) and print informative error messages for each exception.\n",
    "\n",
    "\n",
    "\n",
    "\n",
    "\n",
    "\n",
    "\n"
   ]
  },
  {
   "cell_type": "markdown",
   "id": "d99088bc",
   "metadata": {},
   "source": [
    "#Code Template (with missing parts):\n",
    "\n",
    "```python\n",
    "# Define the Transaction class (fill in the missing class definition)\n",
    "\n",
    "# Initialize an empty list to store Transaction objects (fill in the missing code)\n",
    "\n",
    "# Read data from the CSV file and create Transaction objects (fill in the missing code)\n",
    "\n",
    "# Initialize variables to store statistics (fill in the missing code)\n",
    "\n",
    "# Calculate statistics for the transactions (fill in the missing code)\n",
    "\n",
    "# Use list comprehension to create a list of transactions with negative amounts (fill in the missing code)\n",
    "\n",
    "# Handle file-related exceptions when reading the CSV file (fill in the missing code)\n",
    "\n",
    "# Handle value-related exceptions when performing calculations (fill in the missing code)\n",
    "```"
   ]
  },
  {
   "cell_type": "markdown",
   "id": "9d5edc42",
   "metadata": {},
   "source": [
    "- Complete the missing parts of the code to define the `Transaction` class, read data from the CSV file, calculate statistics, and create a list of transactions with negative amounts.\n",
    "- Implement error handling for file-related and value-related exceptions as described in the instructions.\n",
    "- Test the code with the provided \"financial_transactions.csv\" file or any other similar dataset.\n",
    "- Consider adding more advanced data analysis tasks or customizations to further challenge students, such as identifying specific patterns in transaction descriptions or visualizing the data."
   ]
  },
  {
   "cell_type": "code",
   "execution_count": 3,
   "id": "da2a1333",
   "metadata": {},
   "outputs": [
    {
     "name": "stdout",
     "output_type": "stream",
     "text": [
      "An error occurred while writing the data to the file.\n"
     ]
    },
    {
     "ename": "NameError",
     "evalue": "name 'kumar' is not defined",
     "output_type": "error",
     "traceback": [
      "\u001b[1;31m---------------------------------------------------------------------------\u001b[0m",
      "\u001b[1;31mNameError\u001b[0m                                 Traceback (most recent call last)",
      "\u001b[1;32mc:\\Users\\Nithin Kumar\\Downloads\\BRAHAMADEVARA_SF43377_HW5.ipynb Cell 38\u001b[0m line \u001b[0;36m2\n\u001b[0;32m     <a href='vscode-notebook-cell:/c%3A/Users/Nithin%20Kumar/Downloads/BRAHAMADEVARA_SF43377_HW5.ipynb#X52sZmlsZQ%3D%3D?line=18'>19</a>\u001b[0m high_transaction\u001b[39m=\u001b[39m\u001b[39m0\u001b[39m\n\u001b[0;32m     <a href='vscode-notebook-cell:/c%3A/Users/Nithin%20Kumar/Downloads/BRAHAMADEVARA_SF43377_HW5.ipynb#X52sZmlsZQ%3D%3D?line=19'>20</a>\u001b[0m low_transaction\u001b[39m=\u001b[39m\u001b[39m0\u001b[39m\n\u001b[1;32m---> <a href='vscode-notebook-cell:/c%3A/Users/Nithin%20Kumar/Downloads/BRAHAMADEVARA_SF43377_HW5.ipynb#X52sZmlsZQ%3D%3D?line=20'>21</a>\u001b[0m total_transactions\u001b[39m=\u001b[39m\u001b[39mlen\u001b[39m(kumar)\n\u001b[0;32m     <a href='vscode-notebook-cell:/c%3A/Users/Nithin%20Kumar/Downloads/BRAHAMADEVARA_SF43377_HW5.ipynb#X52sZmlsZQ%3D%3D?line=21'>22</a>\u001b[0m \u001b[39mfor\u001b[39;00m i \u001b[39min\u001b[39;00m kumar:\n\u001b[0;32m     <a href='vscode-notebook-cell:/c%3A/Users/Nithin%20Kumar/Downloads/BRAHAMADEVARA_SF43377_HW5.ipynb#X52sZmlsZQ%3D%3D?line=22'>23</a>\u001b[0m     total_amount\u001b[39m+\u001b[39m\u001b[39m=\u001b[39m\u001b[39mfloat\u001b[39m(i[\u001b[39m\"\u001b[39m\u001b[39mamount\u001b[39m\u001b[39m\"\u001b[39m])\n",
      "\u001b[1;31mNameError\u001b[0m: name 'kumar' is not defined"
     ]
    }
   ],
   "source": [
    "\n",
    "class transaction:\n",
    "    def __init__(self,transaction_id,date,amount,description):\n",
    "        self.transaction_id = transaction_id\n",
    "        self.date = date\n",
    "        self.amount = amount\n",
    "        self.description = description\n",
    "          \n",
    "try:\n",
    "    with open('transactions1.csv') as nitin:\n",
    "        kumar = [{s: w for s, w in row.items()}\n",
    "        for row in csv.DictReader(nitin, skipinitialspace=True)]        \n",
    "except IOError:\n",
    "    print(\"An error occurred while writing the data to the file.\")\n",
    "except Exception as devara:\n",
    "    print(f\"An unexpected error occurred: {str(devara)}\") \n",
    "total_transaction=0\n",
    "total_amount=0\n",
    "average_transaction=0\n",
    "high_transaction=0\n",
    "low_transaction=0\n",
    "total_transactions=len(kumar)\n",
    "for i in kumar:\n",
    "    total_amount+=float(i[\"amount\"])\n",
    "    if high_transaction<float(i[\"amount\"]):\n",
    "        high_transaction=float(i[\"amount\"])\n",
    "    if low_transaction==0:\n",
    "        low_transaction=float(i[\"amount\"])\n",
    "    elif low_transaction > float(i[\"amount\"]):\n",
    "        low_transaction= float(i[\"amount\"])\n",
    "try:    \n",
    "    avg_tr=total_amount/total_transaction        \n",
    "except ValueError:\n",
    "    print('not possible')        \n",
    "print(\"total transactions\",total_transaction)\n",
    "print(\"total amount\",total_amount)\n",
    "print(\"avg transactions\",average_transaction)\n",
    "print(\"highest transaction\",high_transaction)\n",
    "transactions_total = [transaction(item[\"transaction_id\"], item[\"date\"], item[\"amount\"], item[\"description\"]) for item in kumar]"
   ]
  },
  {
   "cell_type": "code",
   "execution_count": null,
   "id": "401123fc",
   "metadata": {},
   "outputs": [],
   "source": []
  },
  {
   "cell_type": "code",
   "execution_count": null,
   "id": "3da524fc",
   "metadata": {},
   "outputs": [],
   "source": []
  }
 ],
 "metadata": {
  "kernelspec": {
   "display_name": "Python 3 (ipykernel)",
   "language": "python",
   "name": "python3"
  },
  "language_info": {
   "codemirror_mode": {
    "name": "ipython",
    "version": 3
   },
   "file_extension": ".py",
   "mimetype": "text/x-python",
   "name": "python",
   "nbconvert_exporter": "python",
   "pygments_lexer": "ipython3",
   "version": "3.11.5"
  }
 },
 "nbformat": 4,
 "nbformat_minor": 5
}
