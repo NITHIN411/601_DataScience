{
 "cells": [
  {
   "cell_type": "markdown",
   "metadata": {},
   "source": [
    "## Liner Algebra for Data Science\n",
    "\n",
    "- Machine Learning\n",
    "Regression Analysis:Linear Algbera is the fundamental to linear regression to find the best fit into the data points. The co-efficient of regression equation are determine using matrix operation\n",
    "\n",
    "Principal component analysis: PCA is extensively used in ML models for dimensional reduction.It involves finding eigen values and eigen vectors of covarience matrix"
   ]
  },
  {
   "cell_type": "markdown",
   "metadata": {},
   "source": [
    "## Eigen Values and eigen vectors\n",
    "a) they are fundamental concepts in linear algebra with wide range of applications in various feild including data science ml models\n",
    "\n",
    "b) They reprresent the scaling by which an eigen vector is streched or compressed when linear tranformation applied\n",
    "\n",
    "- Super vector machine (SVM): it involve system of equations to find \n",
    "\n",
    "1) neural network \n",
    "- system equation\n",
    "\n",
    "2) Backprogation\n",
    "\n",
    "3) computer vision\n",
    "Image processing - linear transformation\n",
    "\n",
    "homography - used linear for in computer vision to find transformation\n",
    "\n",
    "4) Natural Language Processing (NLP)\n",
    "- word embeding\n",
    "- matrix factorization\n",
    "\n",
    "5) Statistics and Data Analysis\n",
    "- covariance and corelation\n",
    "- multivarient analysis\n",
    "\n",
    "6) Optimization\n",
    "- finding global max, local max and gradient descent/Linear programming\n",
    "\n",
    "7) Network analysis\n",
    "\n",
    "\n",
    "\n",
    "\n",
    "Deep knowledge of\n",
    "ML engineer - Intermediate\n",
    "\n",
    "Machine learning scientist - expert (phd in math and software engineers)\n",
    "\n",
    "Algorthim developer - Intermediate\n",
    "\n",
    "principal data scientist - Intermediate\n",
    "\n",
    "Data Scientist - basic and beyond\n",
    "\n",
    "engineers - very basic\n",
    "\n",
    "MLOPs - very basic who deploying trained ml models, moniter and track the performance"
   ]
  },
  {
   "cell_type": "code",
   "execution_count": 1,
   "metadata": {},
   "outputs": [],
   "source": [
    "#vectors and scalars\n",
    "\n",
    "import numpy as np\n",
    "\n",
    "# vectors and arrays of numbers\n",
    "# Scalar are singular numeric values\n",
    "\n",
    "vectors = np.array([1,2,3])\n",
    "scalar = 5"
   ]
  },
  {
   "cell_type": "code",
   "execution_count": null,
   "metadata": {},
   "outputs": [],
   "source": [
    "# matrix\n",
    "# is a 2d array of numbers\n",
    "\n",
    "matrix = np.array([[1,2,3], [4,5,6], [7,8,9]])\n",
    "\n",
    "matrix"
   ]
  },
  {
   "cell_type": "code",
   "execution_count": 3,
   "metadata": {},
   "outputs": [],
   "source": [
    "A = np.array([[1,2], [3,4]])\n",
    "B = np.array([[5,6], [7,8]])"
   ]
  },
  {
   "cell_type": "code",
   "execution_count": null,
   "metadata": {},
   "outputs": [],
   "source": [
    "# addition\n",
    "\n",
    "A+B"
   ]
  },
  {
   "cell_type": "code",
   "execution_count": 5,
   "metadata": {},
   "outputs": [
    {
     "data": {
      "text/plain": [
       "array([[2, 4],\n",
       "       [6, 8]])"
      ]
     },
     "execution_count": 5,
     "metadata": {},
     "output_type": "execute_result"
    }
   ],
   "source": [
    "#scalar multiplication\n",
    "2*A"
   ]
  },
  {
   "cell_type": "code",
   "execution_count": 6,
   "metadata": {},
   "outputs": [],
   "source": [
    "# Matrix Multiplication\n",
    "\n",
    "E = np.dot(A, B) #dot is numpy inbuilt function"
   ]
  },
  {
   "cell_type": "code",
   "execution_count": 7,
   "metadata": {},
   "outputs": [
    {
     "data": {
      "text/plain": [
       "array([[19, 22],\n",
       "       [43, 50]])"
      ]
     },
     "execution_count": 7,
     "metadata": {},
     "output_type": "execute_result"
    }
   ],
   "source": [
    "E"
   ]
  },
  {
   "cell_type": "code",
   "execution_count": 8,
   "metadata": {},
   "outputs": [],
   "source": [
    "# Matrix transpose\n",
    "# flip of matrix its rows and columns\n",
    "f = np.transpose(A)"
   ]
  },
  {
   "cell_type": "code",
   "execution_count": 12,
   "metadata": {},
   "outputs": [
    {
     "data": {
      "text/plain": [
       "array([[1, 3],\n",
       "       [2, 4]])"
      ]
     },
     "execution_count": 12,
     "metadata": {},
     "output_type": "execute_result"
    }
   ],
   "source": [
    "f"
   ]
  },
  {
   "cell_type": "code",
   "execution_count": 9,
   "metadata": {},
   "outputs": [],
   "source": [
    "# matrix Inversion\n",
    "# The inverse of a square matrix A, denoted as A ^(-1), allows solving equations of \n",
    "#Ax = b"
   ]
  },
  {
   "cell_type": "code",
   "execution_count": 10,
   "metadata": {},
   "outputs": [],
   "source": [
    "from numpy.linalg import inv\n",
    "\n",
    "A_inv = inv(A)"
   ]
  },
  {
   "cell_type": "code",
   "execution_count": 11,
   "metadata": {},
   "outputs": [
    {
     "data": {
      "text/plain": [
       "array([[-2. ,  1. ],\n",
       "       [ 1.5, -0.5]])"
      ]
     },
     "execution_count": 11,
     "metadata": {},
     "output_type": "execute_result"
    }
   ],
   "source": [
    "A_inv"
   ]
  },
  {
   "cell_type": "code",
   "execution_count": null,
   "metadata": {},
   "outputs": [],
   "source": [
    "#Determines\n",
    "#Used to check singular for a given system of equation has solution or not"
   ]
  },
  {
   "cell_type": "code",
   "execution_count": null,
   "metadata": {},
   "outputs": [],
   "source": []
  },
  {
   "cell_type": "code",
   "execution_count": null,
   "metadata": {},
   "outputs": [],
   "source": [
    "# Eigen values and Eigen vector - Data Dimensionality reduction"
   ]
  },
  {
   "cell_type": "code",
   "execution_count": null,
   "metadata": {},
   "outputs": [],
   "source": [
    "#Solving Linear equation"
   ]
  },
  {
   "cell_type": "code",
   "execution_count": null,
   "metadata": {},
   "outputs": [],
   "source": [
    "#martix Decomposition\n",
    "\n",
    "#Important for data analysis tasks"
   ]
  }
 ],
 "metadata": {
  "kernelspec": {
   "display_name": "Python 3",
   "language": "python",
   "name": "python3"
  },
  "language_info": {
   "codemirror_mode": {
    "name": "ipython",
    "version": 3
   },
   "file_extension": ".py",
   "mimetype": "text/x-python",
   "name": "python",
   "nbconvert_exporter": "python",
   "pygments_lexer": "ipython3",
   "version": "3.11.5"
  }
 },
 "nbformat": 4,
 "nbformat_minor": 2
}
