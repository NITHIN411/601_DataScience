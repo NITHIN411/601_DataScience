{
 "cells": [
  {
   "cell_type": "markdown",
   "id": "0a21c84e",
   "metadata": {},
   "source": [
    "## practicing on Hand Jupyter and Mark Down Cell"
   ]
  },
  {
   "cell_type": "code",
   "execution_count": 2,
   "id": "d388ec23",
   "metadata": {},
   "outputs": [
    {
     "name": "stdout",
     "output_type": "stream",
     "text": [
      "Hello umbc Data science students!\n"
     ]
    }
   ],
   "source": [
    "print (\"Hello umbc Data science students!\")"
   ]
  },
  {
   "cell_type": "code",
   "execution_count": 3,
   "id": "346ae59d",
   "metadata": {},
   "outputs": [],
   "source": [
    "# create two variables , num1 and num2 add assign then any numeric vale\n",
    "num1=10\n",
    "num2=5"
   ]
  },
  {
   "cell_type": "code",
   "execution_count": 4,
   "id": "398d0cca",
   "metadata": {},
   "outputs": [],
   "source": [
    "result=num1+num2"
   ]
  },
  {
   "cell_type": "code",
   "execution_count": 5,
   "id": "0145f645",
   "metadata": {},
   "outputs": [
    {
     "name": "stdout",
     "output_type": "stream",
     "text": [
      "15\n"
     ]
    }
   ],
   "source": [
    "print(result)"
   ]
  },
  {
   "cell_type": "code",
   "execution_count": 6,
   "id": "05336853",
   "metadata": {},
   "outputs": [
    {
     "data": {
      "text/plain": [
       "15"
      ]
     },
     "execution_count": 6,
     "metadata": {},
     "output_type": "execute_result"
    }
   ],
   "source": [
    "result"
   ]
  },
  {
   "cell_type": "code",
   "execution_count": 7,
   "id": "c8d5b06e",
   "metadata": {},
   "outputs": [
    {
     "name": "stdout",
     "output_type": "stream",
     "text": [
      "50\n"
     ]
    }
   ],
   "source": [
    "# get the product of two variable\n",
    "product=num1*num2\n",
    "print(product)"
   ]
  },
  {
   "cell_type": "markdown",
   "id": "2bcbca53",
   "metadata": {},
   "source": [
    "## Notebook excercise\n",
    "### Week1"
   ]
  },
  {
   "cell_type": "markdown",
   "id": "2d380c5a",
   "metadata": {},
   "source": [
    "### Notebook for week2"
   ]
  },
  {
   "cell_type": "markdown",
   "id": "246025d3",
   "metadata": {},
   "source": [
    "create lists with ' ' for bullet points\n",
    "'to be assigned'"
   ]
  },
  {
   "cell_type": "markdown",
   "id": "2c7d516f",
   "metadata": {},
   "source": [
    "### italic\n",
    "\"Data science for Engineers\"\n",
    "### Creating a link\n",
    "[UMBC Website](https://umbc.edu/)"
   ]
  },
  {
   "cell_type": "markdown",
   "id": "64bec57e",
   "metadata": {},
   "source": [
    "## Bolding"
   ]
  },
  {
   "cell_type": "markdown",
   "id": "008eb093",
   "metadata": {},
   "source": [
    "## Creating Link"
   ]
  },
  {
   "cell_type": "markdown",
   "id": "93d40b18",
   "metadata": {},
   "source": [
    "## Typical Data Science Life Cycle\n",
    "\n",
    "1. Business Understanding\n",
    "   - Define the business Objective/Goals\n",
    "   - Business KPIs- Key performance indicator\n",
    "   - spam Detection problem- The sales executive complain spam mail__ what would be the KPIs\n",
    "   * Getting More cleaned non-spam email\n",
    "   * Saving Executive time spending on spam email (Money)\n",
    "   * Spam email wold likely filtering hardware and information (risk)\n",
    "   \n",
    "2. Data Requirement and collection _Analayis\n",
    "\n",
    "_Based the objectives _Data scientists with DE will do Data Requirements\n",
    "\n",
    "---Historical\n",
    "--Volume ,Frequency,\n",
    "-Data Type (Structure,text data,unstruture,image, etc\n",
    "How do you get the data, access\n",
    "\n",
    "-Data ETL process (ETL)\n",
    " -Sreamling Data- Automate the ingestion process\n",
    " \n",
    "3. Reasearch , Data Expratory and literarture and solution Review\n",
    "\n",
    " - Research EDA (Exploratory Data Analysis), Solution Review---\n",
    " \n",
    "- data pattern, correlation,vizulization work\n",
    "\n",
    "4. Training and model building\n",
    "- Train you model , test model and validate your model\n",
    "\n",
    "5. Model optimization (tuning and hyperparmater)\n",
    "6. Deployment (productuionizaion your model)\n",
    " To scale and maitain and stabilize the model in the production environment\n",
    " \n",
    " - Mloops,Devops, Dats Engineers and DS\n",
    "\n"
   ]
  },
  {
   "cell_type": "markdown",
   "id": "5f76d4a4",
   "metadata": {},
   "source": [
    "## Introduction to Python for DS\n",
    "\n",
    "- Python is a versatile and powerful language widely used in DS,ML,AI in many other application( web development)\n",
    "\n",
    "- it is very simple to learn and well integrated into many front end and back end application\n",
    "- its highly robust language to data analysis,ML and statistical modeling\n",
    " \n",
    " ## Python basics\n"
   ]
  },
  {
   "cell_type": "code",
   "execution_count": 8,
   "id": "01aa66f2",
   "metadata": {},
   "outputs": [],
   "source": [
    "# Creating variables\n",
    "x=10\n",
    "y=3.14\n",
    "\n",
    "n1='venkat'\n",
    "n2='nithin'"
   ]
  },
  {
   "cell_type": "code",
   "execution_count": 9,
   "id": "31108dcc",
   "metadata": {},
   "outputs": [
    {
     "name": "stdout",
     "output_type": "stream",
     "text": [
      "<class 'int'>\n",
      "<class 'float'>\n",
      "<class 'str'>\n",
      "<class 'str'>\n"
     ]
    }
   ],
   "source": [
    "#data types\n",
    "print(type(x))\n",
    "print(type(y))\n",
    "print(type(n1))\n",
    "print(type(n2))"
   ]
  },
  {
   "cell_type": "markdown",
   "id": "c4a05f35",
   "metadata": {},
   "source": [
    "+ <class 'int'>----------integer(1,2,3.......)\n",
    "\n",
    "+ <class 'float'>----------float(1.3,133.5...)\n",
    "\n",
    "+ <class 'str'>--------------Categorical variables\n",
    "\n",
    "+ <class 'str'>"
   ]
  },
  {
   "cell_type": "markdown",
   "id": "43dbf521",
   "metadata": {},
   "source": [
    "How many data types\n",
    "\n",
    "1. Integer\n",
    "\n",
    "2. Floating\n",
    "\n",
    "3. String\n",
    "\n",
    "4. Boolean\n",
    "\n",
    "5. Tuples\n",
    "\n",
    "6. Lists\n",
    "\n",
    "7. Sets\n",
    "\n",
    "8. Dictionary\n",
    "\n",
    "9. Complex\n",
    "\n",
    "10. Sets\n",
    "\n",
    "11. Bytes and Byte arrats\n",
    "\n",
    "12. Date and datetime\n",
    "\n",
    "13. Custom Objects"
   ]
  },
  {
   "cell_type": "markdown",
   "id": "1033def1",
   "metadata": {},
   "source": [
    "# Lists\n",
    "\n",
    "Lists are collection of items that can hold differet dats types. They ordered and mutable\n"
   ]
  },
  {
   "cell_type": "code",
   "execution_count": 21,
   "id": "5af79d50",
   "metadata": {},
   "outputs": [
    {
     "name": "stdout",
     "output_type": "stream",
     "text": [
      "mango\n"
     ]
    }
   ],
   "source": [
    "fruits=['mango','apple',]\n",
    "print(fruits[0])"
   ]
  },
  {
   "cell_type": "markdown",
   "id": "edd874d1",
   "metadata": {},
   "source": [
    "# Control flow\n",
    "python supports conditional statemnts (if-else) and loops (for while) f0r controlling flow of your code\n"
   ]
  },
  {
   "cell_type": "code",
   "execution_count": 16,
   "id": "30d5be0f",
   "metadata": {},
   "outputs": [
    {
     "name": "stdout",
     "output_type": "stream",
     "text": [
      "major\n",
      "0\n",
      "1\n",
      "2\n",
      "3\n",
      "4\n"
     ]
    }
   ],
   "source": [
    "age=25\n",
    "\n",
    "if age <=18:\n",
    "    print (\"minor\")\n",
    "else:\n",
    "    print (\"major\")\n",
    "    \n",
    "#loop\n",
    "\n",
    "for i in range(5):\n",
    "    print(i)"
   ]
  },
  {
   "cell_type": "code",
   "execution_count": 22,
   "id": "af010bc6",
   "metadata": {},
   "outputs": [
    {
     "name": "stdout",
     "output_type": "stream",
     "text": [
      "Hello,Nithin!\n"
     ]
    }
   ],
   "source": [
    "#Functions\n",
    "\n",
    "def great(name):\n",
    "    return f\"Hello,{name}!\"\n",
    "message=great('Nithin')\n",
    "print(message) #Hello , Nithin\n"
   ]
  },
  {
   "cell_type": "markdown",
   "id": "ee3d3087",
   "metadata": {},
   "source": [
    "# Liberary\n",
    "\n",
    "Numpy\n",
    "\n",
    "Pandas\n",
    "\n",
    "Matplotlib/ Seaborn\n"
   ]
  },
  {
   "cell_type": "markdown",
   "id": "a7662408",
   "metadata": {},
   "source": [
    "# Linear Algebra \n",
    "***\n",
    "\n",
    "\n",
    "1. **Intorduction to Linear Algbera** \n",
    "\n",
    "\n",
    "\n",
    "\n",
    "2. **Matrix Operations**\n",
    "\n",
    "\n",
    "\n"
   ]
  },
  {
   "cell_type": "markdown",
   "id": "6f722b9f",
   "metadata": {},
   "source": [
    "# Calculus \n",
    "  ***\n",
    "  \n",
    "\n",
    "1. **Limits and Derivatives**\n",
    "\n",
    "\n",
    "\n",
    "\n",
    "2. **Partial Derivatives and Integrals**\n"
   ]
  },
  {
   "cell_type": "markdown",
   "id": "f194f751",
   "metadata": {},
   "source": [
    "# Probabaility and Statstics\n",
    "\n",
    "***\n",
    "\n",
    "1. **Probabaility and Information Thoery**\n",
    "\n",
    "\n",
    "\n",
    "\n",
    "\n",
    "2. **Introduction to Statstics**"
   ]
  },
  {
   "cell_type": "markdown",
   "id": "2d240813",
   "metadata": {},
   "source": [
    "# Computer Science\n",
    "\n",
    "\n",
    "***\n",
    "\n",
    "1. **Algorthims and Data Strucutres**\n",
    "\n",
    "\n",
    "\n",
    "\n",
    "\n",
    "2. **Optimization**\n"
   ]
  },
  {
   "cell_type": "markdown",
   "id": "9734887f",
   "metadata": {},
   "source": [
    "# Advance Machine Learning\n",
    "\n",
    "*Advance Machine Learning\n"
   ]
  },
  {
   "cell_type": "code",
   "execution_count": null,
   "id": "260cf70b",
   "metadata": {},
   "outputs": [],
   "source": []
  }
 ],
 "metadata": {
  "kernelspec": {
   "display_name": "Python 3 (ipykernel)",
   "language": "python",
   "name": "python3"
  },
  "language_info": {
   "codemirror_mode": {
    "name": "ipython",
    "version": 3
   },
   "file_extension": ".py",
   "mimetype": "text/x-python",
   "name": "python",
   "nbconvert_exporter": "python",
   "pygments_lexer": "ipython3",
   "version": "3.11.4"
  }
 },
 "nbformat": 4,
 "nbformat_minor": 5
}
