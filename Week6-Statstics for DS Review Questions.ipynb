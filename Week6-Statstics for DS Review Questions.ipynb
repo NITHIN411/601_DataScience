{
 "cells": [
  {
   "cell_type": "markdown",
   "id": "e8d212f1",
   "metadata": {},
   "source": [
    "### Q1: Explain the central limit theorem and give examples of when you can use it in a real-world problem. ###"
   ]
  },
  {
   "cell_type": "code",
   "execution_count": null,
   "id": "38ae1b0f",
   "metadata": {},
   "outputs": [],
   "source": []
  },
  {
   "cell_type": "markdown",
   "id": "4c888f65",
   "metadata": {},
   "source": [
    "### Q2: Briefly explain the A/B testing and its application? What are some common pitfalls encountered in A/B testing? ###"
   ]
  },
  {
   "cell_type": "code",
   "execution_count": null,
   "id": "955012bf",
   "metadata": {},
   "outputs": [],
   "source": []
  },
  {
   "cell_type": "code",
   "execution_count": null,
   "id": "4ef66afa",
   "metadata": {},
   "outputs": [],
   "source": []
  },
  {
   "cell_type": "markdown",
   "id": "a230ebe1",
   "metadata": {},
   "source": [
    "### Q3: Describe briefly the hypothesis testing and p-value in layman’s term? And give a practical application for them ?"
   ]
  },
  {
   "cell_type": "code",
   "execution_count": null,
   "id": "10a27915",
   "metadata": {},
   "outputs": [],
   "source": []
  },
  {
   "cell_type": "markdown",
   "id": "8867eea6",
   "metadata": {},
   "source": [
    "### Q4: Given a left-skewed distribution that has a median of 60, what conclusions can we draw about the mean and the mode of the data? ###"
   ]
  },
  {
   "cell_type": "code",
   "execution_count": null,
   "id": "8b218176",
   "metadata": {},
   "outputs": [],
   "source": []
  },
  {
   "cell_type": "markdown",
   "id": "194b9db4",
   "metadata": {},
   "source": [
    "### Q5: What is the meaning of selection bias and how to avoid it? ###"
   ]
  },
  {
   "cell_type": "code",
   "execution_count": null,
   "id": "18f5504d",
   "metadata": {},
   "outputs": [],
   "source": []
  },
  {
   "cell_type": "markdown",
   "id": "a6bd9dc7",
   "metadata": {},
   "source": [
    "### Q6: Explain the long-tailed distribution and provide three examples of relevant phenomena that have long tails. Why are they important in classification and regression problems? ###"
   ]
  },
  {
   "cell_type": "code",
   "execution_count": null,
   "id": "c47e66e1",
   "metadata": {},
   "outputs": [],
   "source": []
  },
  {
   "cell_type": "markdown",
   "id": "9f279b21",
   "metadata": {},
   "source": [
    "### Q7: What is the meaning of KPI in statistics ###"
   ]
  },
  {
   "cell_type": "code",
   "execution_count": null,
   "id": "12b76f80",
   "metadata": {},
   "outputs": [],
   "source": []
  },
  {
   "cell_type": "markdown",
   "id": "ed254d94",
   "metadata": {},
   "source": [
    "### Q8: Say you flip a coin 10 times and observe only one head. What would be the null hypothesis and p-value for testing whether the coin is fair or not? ###"
   ]
  },
  {
   "cell_type": "code",
   "execution_count": null,
   "id": "0f72c569",
   "metadata": {},
   "outputs": [],
   "source": []
  },
  {
   "cell_type": "markdown",
   "id": "a47139a3",
   "metadata": {},
   "source": [
    "### Q9: You are testing hundreds of hypotheses, each with a t-test. What considerations would you take into account when doing this? ###"
   ]
  },
  {
   "cell_type": "code",
   "execution_count": null,
   "id": "800afe91",
   "metadata": {},
   "outputs": [],
   "source": []
  },
  {
   "cell_type": "code",
   "execution_count": null,
   "id": "f31b3979",
   "metadata": {},
   "outputs": [],
   "source": []
  },
  {
   "cell_type": "markdown",
   "id": "6f0dad6f",
   "metadata": {},
   "source": [
    "### Q10: What general conditions must be satisfied for the central limit theorem to hold? ###"
   ]
  },
  {
   "cell_type": "code",
   "execution_count": null,
   "id": "fc98ca76",
   "metadata": {},
   "outputs": [],
   "source": []
  },
  {
   "cell_type": "markdown",
   "id": "f93e1565",
   "metadata": {},
   "source": [
    "### Q11: What is skewness discuss two methods to measure it? ###"
   ]
  },
  {
   "cell_type": "code",
   "execution_count": null,
   "id": "c20216fb",
   "metadata": {},
   "outputs": [],
   "source": []
  },
  {
   "cell_type": "markdown",
   "id": "f6684eb8",
   "metadata": {},
   "source": [
    "\n",
    "### Q13: Discuss the Chi-square, ANOVA, and t-test ###"
   ]
  },
  {
   "cell_type": "code",
   "execution_count": null,
   "id": "ada7f41b",
   "metadata": {},
   "outputs": [],
   "source": []
  },
  {
   "cell_type": "markdown",
   "id": "bebacfbd",
   "metadata": {},
   "source": [
    "### Q16: What is the Law of Large Numbers in statistics and how it can be used in data science ? ###"
   ]
  },
  {
   "cell_type": "code",
   "execution_count": null,
   "id": "33e41729",
   "metadata": {},
   "outputs": [],
   "source": []
  },
  {
   "cell_type": "code",
   "execution_count": null,
   "id": "fd83af7d",
   "metadata": {},
   "outputs": [],
   "source": []
  },
  {
   "cell_type": "markdown",
   "id": "09c1032d",
   "metadata": {},
   "source": [
    "### Q17: What is the difference between a confidence interval and a prediction interval, and how do you calculate them? ###"
   ]
  },
  {
   "cell_type": "code",
   "execution_count": null,
   "id": "1978c0c1",
   "metadata": {},
   "outputs": [],
   "source": []
  }
 ],
 "metadata": {
  "kernelspec": {
   "display_name": "Python 3 (ipykernel)",
   "language": "python",
   "name": "python3"
  },
  "language_info": {
   "codemirror_mode": {
    "name": "ipython",
    "version": 3
   },
   "file_extension": ".py",
   "mimetype": "text/x-python",
   "name": "python",
   "nbconvert_exporter": "python",
   "pygments_lexer": "ipython3",
   "version": "3.9.12"
  }
 },
 "nbformat": 4,
 "nbformat_minor": 5
}
